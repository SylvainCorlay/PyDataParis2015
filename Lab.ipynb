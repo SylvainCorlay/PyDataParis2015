{
 "cells": [
  {
   "cell_type": "markdown",
   "metadata": {},
   "source": [
    "# The future of Jupyter: Jupyter Lab\n",
    "\n",
    "## https://github.com/jupyter/jupyter-js-plugins\n",
    "\n",
    "**Jupyter Lab**\n",
    "\n",
    "The future of Jupyter: a full-fledged IDE providing a desktop-like experience of the web.\n",
    "\n",
    " - Text editor\n",
    " - Notebooks\n",
    " - File explorer\n",
    " - RIch Layout\n",
    " - Debugging\n",
    " - Console\n",
    " - Classical REPL\n",
    " - Dashboarding\n",
    " - Documentation browser\n",
    "\n",
    "**People**\n",
    "\n",
    "Steven Silvester, Chris Colbert, Dave Wilmer, Min Ragan Kelley, Jason Grout, Matthias Bussonier, Afshin Darian, Brian Granger, Fernando Perez"
   ]
  },
  {
   "cell_type": "markdown",
   "metadata": {},
   "source": [
    "![Lab](jupyter-plugins-demo.gif)"
   ]
  },
  {
   "cell_type": "code",
   "execution_count": null,
   "metadata": {
    "collapsed": true
   },
   "outputs": [],
   "source": []
  }
 ],
 "metadata": {
  "kernelspec": {
   "display_name": "Python 2",
   "language": "python",
   "name": "python2"
  },
  "language_info": {
   "codemirror_mode": {
    "name": "ipython",
    "version": 2
   },
   "file_extension": ".py",
   "mimetype": "text/x-python",
   "name": "python",
   "nbconvert_exporter": "python",
   "pygments_lexer": "ipython2",
   "version": "2.7.11"
  },
  "widgets": {
   "state": {},
   "version": "1.0.0"
  }
 },
 "nbformat": 4,
 "nbformat_minor": 1
}
