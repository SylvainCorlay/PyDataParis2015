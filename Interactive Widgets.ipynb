{
 "cells": [
  {
   "cell_type": "markdown",
   "metadata": {},
   "source": [
    "# ipywidgets https://github.com/ipython/ipywidgets\n",
    "\n",
    "## Interactive widgets in the Jupyter notebook\n",
    "\n",
    "The notebook comes alive with the interactive widgets:\n",
    "\n",
    "- Part of the Jupyter project\n",
    "- BSD Licensed\n",
    "- ipywidgets 5.0 released yesterday!\n",
    "\n",
    "**Installation:**\n",
    "\n",
    "```bash\n",
    "pip install ipywidgets\n",
    "jupyter nbextension enable --py widgetsnbextension\n",
    "```\n",
    "\n",
    "**People**\n",
    "\n",
    "Jonathan Frederic, Sylvain Corlay, Jason Grout"
   ]
  },
  {
   "cell_type": "code",
   "execution_count": 27,
   "metadata": {
    "collapsed": false
   },
   "outputs": [],
   "source": [
    "%matplotlib inline\n",
    "from __future__ import print_function\n",
    "from IPython.display import display\n",
    "import matplotlib.pyplot as plt\n",
    "\n",
    "from ipywidgets import *\n",
    "from traitlets import *\n",
    "\n",
    "import numpy as np\n",
    "import pandas as pd\n",
    "import bqplot as bq\n",
    "import datetime as dt"
   ]
  },
  {
   "cell_type": "code",
   "execution_count": 28,
   "metadata": {
    "collapsed": false
   },
   "outputs": [
    {
     "name": "stdout",
     "output_type": "stream",
     "text": [
      "16\n"
     ]
    }
   ],
   "source": [
    "print(4 * 4)"
   ]
  },
  {
   "cell_type": "code",
   "execution_count": 29,
   "metadata": {
    "collapsed": true
   },
   "outputs": [],
   "source": [
    "def f(x):\n",
    "    print(x * x)"
   ]
  },
  {
   "cell_type": "code",
   "execution_count": 30,
   "metadata": {
    "collapsed": false
   },
   "outputs": [
    {
     "name": "stdout",
     "output_type": "stream",
     "text": [
      "36\n"
     ]
    }
   ],
   "source": [
    "f(6)"
   ]
  },
  {
   "cell_type": "markdown",
   "metadata": {},
   "source": [
    "<img src=\"Flow.svg\"></img>"
   ]
  },
  {
   "cell_type": "code",
   "execution_count": 31,
   "metadata": {
    "collapsed": false
   },
   "outputs": [
    {
     "name": "stdout",
     "output_type": "stream",
     "text": [
      "100\n"
     ]
    }
   ],
   "source": [
    "interact(f, x=10);"
   ]
  },
  {
   "cell_type": "code",
   "execution_count": 32,
   "metadata": {
    "collapsed": false
   },
   "outputs": [
    {
     "name": "stdout",
     "output_type": "stream",
     "text": [
      "2500\n"
     ]
    }
   ],
   "source": [
    "interact(f, x=(0, 100));"
   ]
  },
  {
   "cell_type": "code",
   "execution_count": 33,
   "metadata": {
    "collapsed": false
   },
   "outputs": [
    {
     "name": "stdout",
     "output_type": "stream",
     "text": [
      "100\n"
     ]
    }
   ],
   "source": [
    "interact(f, x=IntSlider(min=0, max=500, value=10, step=2));"
   ]
  },
  {
   "cell_type": "code",
   "execution_count": 34,
   "metadata": {
    "collapsed": false
   },
   "outputs": [
    {
     "data": {
      "image/png": "[encoded data removed]",
      "text/plain": [
       "<matplotlib.figure.Figure at 0x11673f1d0>"
      ]
     },
     "metadata": {},
     "output_type": "display_data"
    }
   ],
   "source": [
    "@interact(title=\"Revenue\", power=(0,10), graph=True, color=('red', 'green', 'blue'))\n",
    "def g(title, power,graph,color):\n",
    "    if graph:\n",
    "        plt.figure(figsize=(10,6))\n",
    "        xdata = np.linspace(0,10,100)\n",
    "        ydata = np.power(xdata, power)\n",
    "        plt.plot(xdata,ydata, c=color, linewidth=3)\n",
    "        plt.title(title)\n",
    "        plt.ylim(0,1e6)\n",
    "    else:\n",
    "        clear_output()\n"
   ]
  },
  {
   "cell_type": "markdown",
   "metadata": {},
   "source": [
    "# Interactive Jupyter widgets"
   ]
  },
  {
   "cell_type": "code",
   "execution_count": 2,
   "metadata": {
    "collapsed": true
   },
   "outputs": [],
   "source": [
    "slider = FloatSlider(\n",
    "    value=7.5,\n",
    "    min=5.0,\n",
    "    max=10.0,\n",
    "    step=0.1,\n",
    "    description='Input:',\n",
    ")\n",
    "\n",
    "slider"
   ]
  },
  {
   "cell_type": "code",
   "execution_count": 3,
   "metadata": {
    "collapsed": false
   },
   "outputs": [
    {
     "data": {
      "text/plain": [
       "7.5"
      ]
     },
     "execution_count": 3,
     "metadata": {},
     "output_type": "execute_result"
    }
   ],
   "source": [
    "slider.value"
   ]
  },
  {
   "cell_type": "code",
   "execution_count": 4,
   "metadata": {
    "collapsed": false
   },
   "outputs": [],
   "source": [
    "text = FloatText(description='Value')\n",
    "dlink((slider, 'value'), (text, 'value'))\n",
    "text"
   ]
  },
  {
   "cell_type": "code",
   "execution_count": 5,
   "metadata": {
    "collapsed": true
   },
   "outputs": [],
   "source": [
    "text = FloatText(description='Returns')\n",
    "\n",
    "def foo(value):\n",
    "    return value * value\n",
    "    \n",
    "dlink((slider, 'value'), (text, 'value'), foo)\n",
    "text"
   ]
  },
  {
   "cell_type": "markdown",
   "metadata": {},
   "source": [
    "Displaying another view of ther same input widget"
   ]
  },
  {
   "cell_type": "code",
   "execution_count": 6,
   "metadata": {
    "collapsed": true
   },
   "outputs": [],
   "source": [
    "text"
   ]
  },
  {
   "cell_type": "markdown",
   "metadata": {},
   "source": [
    "Widgets are represented in the back-end by a single object.  Each time a widget is displayed, a new representation of that same object is created in the front-end.  These representations are called views.\n",
    "\n",
    "![Kernel & front-end diagram](WidgetModelView.png)"
   ]
  },
  {
   "cell_type": "code",
   "execution_count": 7,
   "metadata": {
    "collapsed": false
   },
   "outputs": [
    {
     "data": {
      "text/plain": [
       "[ipywidgets.widgets.widget_int.IntRangeSlider,\n",
       " ipywidgets.widgets.widget_selection.RadioButtons,\n",
       " bqplot.figure.Figure,\n",
       " ipywidgets.widgets.widget_controller.Axis,\n",
       " ipywidgets.widgets.widget_float.FloatSlider,\n",
       " ipywidgets.widgets.widget_int.IntSlider,\n",
       " ipywidgets.widgets.widget_image.Image,\n",
       " ipywidgets.widgets.widget_selection.SelectMultiple,\n",
       " ipywidgets.widgets.widget_string.HTML,\n",
       " ipywidgets.widgets.widget_box.Box,\n",
       " ipywidgets.widgets.widget_float.BoundedFloatText,\n",
       " ipywidgets.widgets.widget_selectioncontainer.Accordion,\n",
       " ipywidgets.widgets.widget_button.Button,\n",
       " ipywidgets.widgets.widget_bool.Valid,\n",
       " ipywidgets.widgets.widget_selection.Dropdown,\n",
       " ipywidgets.widgets.widget_selection.SelectionSlider,\n",
       " ipywidgets.widgets.widget_box.Proxy,\n",
       " ipywidgets.widgets.widget_string.Text,\n",
       " ipywidgets.widgets.widget_selection.ToggleButtons,\n",
       " ipywidgets.widgets.widget_color.ColorPicker,\n",
       " ipywidgets.widgets.widget_float.FloatRangeSlider,\n",
       " ipywidgets.widgets.widget_bool.Checkbox,\n",
       " ipywidgets.widgets.widget_string.Label,\n",
       " ipywidgets.widgets.widget_controller.Controller,\n",
       " ipywidgets.widgets.widget_box.PlaceProxy,\n",
       " ipywidgets.widgets.widget_float.FloatText,\n",
       " ipywidgets.widgets.widget_box.FlexBox,\n",
       " ipywidgets.widgets.widget_link.DirectionalLink,\n",
       " ipywidgets.widgets.widget_bool.ToggleButton,\n",
       " ipywidgets.widgets.widget_selection.Select,\n",
       " ipywidgets.widgets.widget_int.IntProgress,\n",
       " ipywidgets.widgets.widget_string.Textarea,\n",
       " ipywidgets.widgets.widget_selectioncontainer.Tab,\n",
       " ipywidgets.widgets.widget_int.IntText,\n",
       " bqplot.toolbar.Toolbar,\n",
       " ipywidgets.widgets.widget_float.FloatProgress,\n",
       " ipywidgets.widgets.widget_int.BoundedIntText,\n",
       " ipywidgets.widgets.widget_link.Link,\n",
       " ipywidgets.widgets.widget_controller.Button]"
      ]
     },
     "execution_count": 7,
     "metadata": {},
     "output_type": "execute_result"
    }
   ],
   "source": [
    "Widget.widget_types.values()"
   ]
  },
  {
   "cell_type": "markdown",
   "metadata": {},
   "source": [
    "# Interact"
   ]
  },
  {
   "cell_type": "code",
   "execution_count": null,
   "metadata": {
    "collapsed": true
   },
   "outputs": [],
   "source": []
  },
  {
   "cell_type": "code",
   "execution_count": null,
   "metadata": {
    "collapsed": true
   },
   "outputs": [],
   "source": []
  }
 ],
 "metadata": {
  "kernelspec": {
   "display_name": "Python 2",
   "language": "python",
   "name": "python2"
  },
  "language_info": {
   "codemirror_mode": {
    "name": "ipython",
    "version": 2
   },
   "file_extension": ".py",
   "mimetype": "text/x-python",
   "name": "python",
   "nbconvert_exporter": "python",
   "pygments_lexer": "ipython2",
   "version": "2.7.11"
  },
  "widgets": {
   "state": {
    "0345999adce74c20be7d3b9f69166578": {
     "views": []
    },
    "09ba54483eb04988b2844e99e70f4b9d": {
     "views": []
    },
    "0d86eb06ebb8424cad44a50a7ba72608": {
     "views": []
    },
    "12feaa02ebdc40ce9e8fb458d466a847": {
     "views": []
    },
    "1c6262c687bd484891a158d66175580a": {
     "views": []
    },
    "1d22ebc9c5ce4a41ae8e5c0d39981bed": {
     "views": []
    },
    "23d65d39f1464d79a70a46be9a2da370": {
     "views": []
    },
    "259a828238f04f64a7e7526bfb35061e": {
     "views": []
    },
    "29e157f198144fb5acaf21c5262898e2": {
     "views": []
    },
    "2bd567e3df98495d93487f7e0544beea": {
     "views": []
    },
    "2ec8dad2db5e4794b2c9303b78ef226f": {
     "views": [
      {
       "cell": {
        "cell_type": "code",
        "execution_count": 32,
        "metadata": {
         "collapsed": false,
         "trusted": true
        },
        "outputs": [
         {
          "name": "stdout",
          "output_type": "stream",
          "text": "2500\n"
         }
        ],
        "source": "interact(f, x=(0, 100));"
       },
       "cell_index": 7,
       "root": true
      }
     ]
    },
    "340c9333bedb4437b489fd0acc7cb548": {
     "views": []
    },
    "36119c81292c41938c6084eccda68d10": {
     "views": []
    },
    "3d34670cb85f47c0b2c20bd38da2dab6": {
     "views": [
      {
       "cell": {
        "cell_type": "code",
        "execution_count": 31,
        "metadata": {
         "collapsed": false,
         "trusted": true
        },
        "outputs": [
         {
          "name": "stdout",
          "output_type": "stream",
          "text": "100\n"
         }
        ],
        "source": "interact(f, x=10);"
       },
       "cell_index": 6,
       "root": true
      }
     ]
    },
    "3df1237dbaf4412593d10ff5d706381e": {
     "views": []
    },
    "41e2ef48dfdd4124986d306b389f1a43": {
     "views": []
    },
    "420dfc6097794d2b8279f34cc5848b7a": {
     "views": []
    },
    "45f61b195b044490917a4c47a2816c6e": {
     "views": []
    },
    "4913ee48ac1f4de982f6c2a148d1f882": {
     "views": []
    },
    "4b805670e6b940fd87a8f333fae2ac5d": {
     "views": []
    },
    "4cddcfa93f2c4986b0043c7dfde3ff26": {
     "views": []
    },
    "4dfbd961ba40409798d8a61148bdfa05": {
     "views": []
    },
    "549aec7df09148f98799fa504119fae3": {
     "views": []
    },
    "5591a6600bae4eb4913771f193496a8b": {
     "views": []
    },
    "55ac9b6edeef43c988c737f5ce90f175": {
     "views": []
    },
    "5715ae10f6bd4781b39588cd81687502": {
     "views": []
    },
    "5d59d2a41d724eeeae69e450d6b71252": {
     "views": []
    },
    "6217d15f20c1490e9d4d9873078b553d": {
     "views": []
    },
    "6b3eb6a3ba1c46ecafd5b342616ec6d1": {
     "views": []
    },
    "6f1c244b79184bc5b32e5fca1ae4227a": {
     "views": []
    },
    "6fb4f2e9454d41649837631829188c04": {
     "views": []
    },
    "70598bbadc474a3fb8f7d00d513e7f0e": {
     "views": []
    },
    "7e9db0116e884bd0a20d996855d78f52": {
     "views": []
    },
    "7f3c2b6b9b9b4a66b0a7214160259c2d": {
     "views": []
    },
    "800080e3f68e42d39890e71d8e69c15a": {
     "views": []
    },
    "84265fb0bcfe4135bee2ae448e56d3b8": {
     "views": []
    },
    "84592019da0942e0a7c65037b954fb43": {
     "views": []
    },
    "868556a03a4a4f6aa8a2071b3b6b5ed2": {
     "views": []
    },
    "889f4f008421467f8a13e3c5c248a069": {
     "views": []
    },
    "8f1e84810d3d450c9559214fea4d2bd7": {
     "views": []
    },
    "90c3a2821d4b453ba9003bd2d24422bc": {
     "views": []
    },
    "910c6fc92d154aeb93b052a0d9a34f5c": {
     "views": []
    },
    "932981db217247a181478b513249a1cd": {
     "views": []
    },
    "937275a3099546d1b2d4581686f2a672": {
     "views": []
    },
    "93da1aebcf7a4196bdbfc584dec802b0": {
     "views": []
    },
    "9d61f4fe475a4abaab471aaff39cc68b": {
     "views": []
    },
    "a0c31ad9b2674fa89250eb776a47db48": {
     "views": []
    },
    "a1e6b73de824444f9f8b5ffb64e385a7": {
     "views": [
      {
       "cell": {
        "cell_type": "code",
        "execution_count": 34,
        "metadata": {
         "collapsed": false,
         "trusted": true
        },
        "outputs": [
         {
          "data": {
           "image/png": "iVBORw0KGgoAAAANSUhEUgAAAnMAAAF6CAYAAAByV95bAAAABHNCSVQICAgIfAhkiAAAAAlwSFlz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\ngg==\n",
           "text/plain": "<matplotlib.figure.Figure at 0x11673f1d0>"
          },
          "metadata": {},
          "output_type": "display_data"
         }
        ],
        "source": "@interact(title=\"Revenue\", power=(0,10), graph=True, color=('red', 'green', 'blue'))\ndef g(title, power,graph,color):\n    if graph:\n        plt.figure(figsize=(10,6))\n        xdata = np.linspace(0,10,100)\n        ydata = np.power(xdata, power)\n        plt.plot(xdata,ydata, c=color, linewidth=3)\n        plt.title(title)\n        plt.ylim(0,1e6)\n    else:\n        clear_output()\n"
       },
       "cell_index": 9,
       "root": true
      }
     ]
    },
    "a21a7694006c43c081e259358394e2e0": {
     "views": []
    },
    "a4fd53d043fc45cda2a5904f306635a4": {
     "views": []
    },
    "a6a2e4100ba840ceacabb2da921eb7a7": {
     "views": []
    },
    "a91a3c315f374d71a7e4769ff5b6ca42": {
     "views": []
    },
    "af4998569d4e40b78c1e52a7b22bf963": {
     "views": []
    },
    "b01890e97d5b413e98b6460d81a87dc5": {
     "views": []
    },
    "b6a135fa772f45e3b04a85c577c87066": {
     "views": []
    },
    "bbac45dfbb26418ead48125bca93feaf": {
     "views": []
    },
    "c0025f8d81694e40bb930fb0bfde08fb": {
     "views": []
    },
    "c176a144c26d4939bffd839f5eb16abd": {
     "views": []
    },
    "c810965b2d5542778f5879bf5ca99c94": {
     "views": [
      {
       "cell": {
        "cell_type": "code",
        "execution_count": 33,
        "metadata": {
         "collapsed": false,
         "trusted": true
        },
        "outputs": [
         {
          "name": "stdout",
          "output_type": "stream",
          "text": "100\n"
         }
        ],
        "source": "interact(f, x=IntSlider(min=0, max=500, value=10, step=2));"
       },
       "cell_index": 8,
       "root": true
      }
     ]
    },
    "ceab7b0d6c61432c9a9b63c1ec856d26": {
     "views": []
    },
    "cee350f298fc449ab7d9fc2dd42c925b": {
     "views": []
    },
    "cf639970b2bc44679f124805c7f7d867": {
     "views": []
    },
    "d2078fa5c30145ceae6237989f006502": {
     "views": []
    },
    "d8ef8434dbb54420b13a4d031dec3adf": {
     "views": []
    },
    "d8ffd792e4874de78c8857aa2ade1327": {
     "views": []
    },
    "da4b9e0fc7c7463f9b01b3b1c47ce94a": {
     "views": []
    },
    "e1311a44e2ce45f0a94a254a08951211": {
     "views": []
    },
    "e14bd5e0f4d14f6f86ef08282505998f": {
     "views": []
    },
    "e3066be19d7b4f70a6210873cebc85f2": {
     "views": []
    },
    "e5638f40ae5f45b5aed5ea7e44625217": {
     "views": []
    },
    "e564503f3bc945deae3ab36a2695b07c": {
     "views": []
    },
    "e674b53572c644e1a5729a14d8b6a09f": {
     "views": []
    },
    "e9bff0fc13914d07aec78cad0e37236d": {
     "views": []
    },
    "ea9f66ee34bc4a83ae91444c78e7a508": {
     "views": []
    },
    "effd348d06434faaa18a444b71ac3c58": {
     "views": []
    },
    "f757349dd3e941eb91ef7a338c0386ff": {
     "views": []
    },
    "fa09ddc6788c45f5a8149f0a8d6561c9": {
     "views": []
    },
    "fc5bf3c81f1b474b802e05120669c405": {
     "views": []
    },
    "fd1928e2c4c64545b78f7fa33e5d0623": {
     "views": []
    },
    "ffe4e2dde0a54dd6a7600bcab2ab61c5": {
     "views": []
    }
   },
   "version": "1.0.0"
  }
 },
 "nbformat": 4,
 "nbformat_minor": 1
}
