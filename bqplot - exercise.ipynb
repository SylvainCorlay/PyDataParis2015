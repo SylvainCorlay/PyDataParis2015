{
 "cells": [
  {
   "cell_type": "markdown",
   "metadata": {},
   "source": [
    "# BQPlot as an input widget https://github.com/bloomberg/bqplot"
   ]
  },
  {
   "cell_type": "code",
   "execution_count": 1,
   "metadata": {
    "collapsed": false
   },
   "outputs": [],
   "source": [
    "from bqplot import pyplot as plt\n",
    "from numpy import random, cumsum, linspace\n",
    "\n",
    "random.seed(0)\n",
    "size = 100\n",
    "y_data = cumsum(random.randn(size) * 100.0)\n",
    "y_data_2 = cumsum(random.randn(size))\n",
    "y_data_3 = cumsum(random.randn(size) * 100.)\n"
   ]
  },
  {
   "cell_type": "code",
   "execution_count": 2,
   "metadata": {
    "collapsed": false
   },
   "outputs": [
    {
     "name": "stdout",
     "output_type": "stream",
     "text": [
      "[]\n"
     ]
    }
   ],
   "source": [
    "plt.figure(1)\n",
    "n = 100\n",
    "x = linspace(0.0, 10.0, n)\n",
    "plt.plot(x, y_data, axes_options={'y': {'grid_lines': 'dashed'}})\n",
    "plt.show()"
   ]
  },
  {
   "cell_type": "code",
   "execution_count": 3,
   "metadata": {
    "collapsed": false
   },
   "outputs": [
    {
     "data": {
      "text/plain": [
       "<bqplot.interacts.BrushIntervalSelector at 0x105335090>"
      ]
     },
     "execution_count": 3,
     "metadata": {},
     "output_type": "execute_result"
    }
   ],
   "source": [
    "from IPython.display import clear_output\n",
    "def print_value(name, value):\n",
    "    clear_output()\n",
    "    print(value)\n",
    "plt.brush_int_selector(print_value)"
   ]
  },
  {
   "cell_type": "markdown",
   "metadata": {},
   "source": [
    "# Scatter Plot"
   ]
  },
  {
   "cell_type": "code",
   "execution_count": 4,
   "metadata": {
    "collapsed": false
   },
   "outputs": [],
   "source": [
    "import numpy as np\n",
    "from IPython.display import display\n",
    "from ipywidgets import Label, VBox\n",
    "from bqplot import *\n",
    "from bqplot.interacts import *"
   ]
  },
  {
   "cell_type": "markdown",
   "metadata": {},
   "source": [
    "# Scatter Interaction"
   ]
  },
  {
   "cell_type": "code",
   "execution_count": 13,
   "metadata": {
    "collapsed": false,
    "scrolled": true
   },
   "outputs": [
    {
     "data": {
      "text/plain": [
       "<bqplot.marks.Label at 0x10e6c12d0>"
      ]
     },
     "metadata": {},
     "output_type": "display_data"
    }
   ],
   "source": [
    "size = 100\n",
    "np.random.seed(0)\n",
    "x_data = range(size)\n",
    "y_data = np.cumsum(np.random.randn(size) * 100.0)\n",
    "\n",
    "## Enabling moving of points in scatter. Try to click and drag any of the points in the scatter and \n",
    "## notice the line representing the mean of the data update\n",
    "\n",
    "sc_x = LinearScale()\n",
    "sc_y = LinearScale()\n",
    "\n",
    "scat = Scatter(x=x_data[:10], y=y_data[:10], scales={'x': sc_x, 'y': sc_y}, default_colors=['blue'],\n",
    "               enable_move=True)\n",
    "lin = Lines(scales={'x': sc_x, 'y': sc_y}, stroke_width=7, line_style='dashed', colors=['orange'])\n",
    "m = Label(value='Mean is %s'%np.mean(scat.y))\n",
    "\n",
    "def update_line(change):\n",
    "    with lin.hold_sync():\n",
    "        lin.x = [np.min(scat.x), np.max(scat.x)]\n",
    "        lin.y = [np.mean(scat.y), np.mean(scat.y)]\n",
    "        m.value='Mean is %s'%np.mean(scat.y)\n",
    "        \n",
    "\n",
    "update_line(None)\n",
    "\n",
    "# update line on change of x or y of scatter\n",
    "scat.observe(update_line, names='x')\n",
    "scat.observe(update_line, names='y')\n",
    "\n",
    "ax_x = Axis(scale=sc_x)\n",
    "ax_y = Axis(scale=sc_y, tick_format='0.2f', orientation='vertical')\n",
    "\n",
    "fig = Figure(marks=[scat, lin], axes=[ax_x, ax_y])\n",
    "\n",
    "## In this case on drag, the line updates as you move the points.\n",
    "with scat.hold_sync():\n",
    "    scat.enable_move = True\n",
    "    scat.update_on_move = True\n",
    "    scat.enable_add = False\n",
    "\n",
    "display(m, fig)"
   ]
  }
 ],
 "metadata": {
  "kernelspec": {
   "display_name": "Python 2",
   "language": "python",
   "name": "python2"
  },
  "language_info": {
   "codemirror_mode": {
    "name": "ipython",
    "version": 2
   },
   "file_extension": ".py",
   "mimetype": "text/x-python",
   "name": "python",
   "nbconvert_exporter": "python",
   "pygments_lexer": "ipython2",
   "version": "2.7.11"
  },
  "widgets": {
   "state": {
    "02564ac8a5ff4a48a38fb1ba41743a84": {
     "views": []
    },
    "02969fcb91964d84985ff58c683f4005": {
     "views": []
    },
    "035de13b197a4b0f8012a8d5f08edb6f": {
     "views": []
    },
    "03debd0fa1af4b7ea67eee8d218cdf27": {
     "views": []
    },
    "0599b124d7f44755856c74e3962d2160": {
     "views": []
    },
    "07df29997fdf49f8aeb6e7b450cb5be1": {
     "views": []
    },
    "082ab99b5dbb49578cb9850e978d9d9b": {
     "views": []
    },
    "096575edfff64be49b5c70d5573ae918": {
     "views": []
    },
    "098fa9ed39734c129dfae08d3280f434": {
     "views": []
    },
    "0a3955e12eb64b2c8cdfd593a5b9ed6b": {
     "views": []
    },
    "0b0ae38f452845bba3b1eb7e895a1c40": {
     "views": []
    },
    "0c931c0d24eb4fc78be9e10963ab26ca": {
     "views": []
    },
    "0ca6fe9044d04151832c2e04f3b312b9": {
     "views": []
    },
    "0e79036076ac4186b1c9f1a952590351": {
     "views": []
    },
    "0eb95924af1c40b0bb6f8b78d04fb73e": {
     "views": []
    },
    "0ee9285c59114d1280a85c94577de23b": {
     "views": []
    },
    "0fa90d0855274c22ac8ab307da29a5a4": {
     "views": []
    },
    "11fbb5aa6d454a8da840739e244a65b1": {
     "views": []
    },
    "140a5b96e3a74e3cb645b9351a01e687": {
     "views": []
    },
    "1543d37f037a4d93bb51cb6cd4760cc4": {
     "views": []
    },
    "15b3a8680ac04d3ab1fc3b6e77e397b7": {
     "views": []
    },
    "15cdd00d9798486e8fb76537893a13cb": {
     "views": []
    },
    "167c41db430c432dad9a66d1d74aac89": {
     "views": []
    },
    "16cef371167b43168806ff03c1884f19": {
     "views": []
    },
    "17af38d1d92e4f749c4c468dc2d1d1cb": {
     "views": []
    },
    "17e8a2e4121743c695ba52922d64c6af": {
     "views": []
    },
    "18ef9fd8c84142a09bba543fa84bf98d": {
     "views": []
    },
    "18fe1677329f408ebe3299f83a297898": {
     "views": []
    },
    "190e86c4f078496ea391d092a7129e97": {
     "views": []
    },
    "1a92a964d7d54ac9849e40143372b5fb": {
     "views": []
    },
    "1b3ee5c6ff384889a7ce7185a4d848d9": {
     "views": []
    },
    "1b83a555858143538550a418c6df7144": {
     "views": []
    },
    "1d7a88be6f9e4ea3837314a299b52ff6": {
     "views": []
    },
    "1d8616f4ae224d55b20fbe3a518996c6": {
     "views": []
    },
    "1dcc8f60a40d4045abe71028659d7d25": {
     "views": []
    },
    "1e01b042fa954a31a66547b7a7a602f9": {
     "views": []
    },
    "20c4f795ae83485686bd202958c9dd9a": {
     "views": []
    },
    "212e38f94ffe4744afb91b0126c4f254": {
     "views": []
    },
    "225d373e822048ccbca1448552189513": {
     "views": []
    },
    "22c8101a91b24091b6bc0cf5f5c38a7a": {
     "views": []
    },
    "23de3233e1724c42a52978865ddbeae5": {
     "views": []
    },
    "24327286fff244018167f1f3b84e64fe": {
     "views": []
    },
    "24f80ba42b7c42af87b6322e794fb0ea": {
     "views": []
    },
    "2777c85bb6b644609aedff502a1e03f0": {
     "views": []
    },
    "29c628eaf02b43ddb116ee0da887c687": {
     "views": []
    },
    "2b6de4e0f25a4c72b5be0f880fc39c09": {
     "views": []
    },
    "2bd7dee572e64da5a210998fd5d71003": {
     "views": []
    },
    "2c88776444fe45929fa2d9e78951e870": {
     "views": []
    },
    "2d0c934ed2ed4315adf3bd5bdeae9236": {
     "views": []
    },
    "2d5a78abcd7d489497523ea3cf8755e0": {
     "views": []
    },
    "2e0eb5cbd83540b8bfd5df4b81d49570": {
     "views": []
    },
    "2e6e224d27a0420590326317df61506d": {
     "views": []
    },
    "2efb3396889542368a72301b2b5e483f": {
     "views": []
    },
    "2f9054a7ed694d0692ea1591b6fcb464": {
     "views": []
    },
    "2f97f9147e844acbb75033f2c0d729da": {
     "views": []
    },
    "304e8f60b9834f0a8ebafd8f20117e11": {
     "views": []
    },
    "30ba17dc2e0840478c741f835a678e0f": {
     "views": []
    },
    "311fcda5b3b84f69bb8be7b08969ef83": {
     "views": []
    },
    "313121d06ea54630a84bebfe7cb8ea68": {
     "views": []
    },
    "318076364471479d85d702d29661fa40": {
     "views": []
    },
    "32dbc10e0b9a4fe88c8096fd78d505eb": {
     "views": []
    },
    "33a0e0c0490d4bd79e88c969bed82f08": {
     "views": []
    },
    "353356128e2e4ecb9544eff4c3195c0e": {
     "views": []
    },
    "3563a04c8f424708a102999f4d7a4733": {
     "views": []
    },
    "35ea627769a9450783f6fd71745a0c77": {
     "views": []
    },
    "3624385971c24c69a3f5765f02932a1c": {
     "views": [
      {
       "cell": {
        "cell_type": "code",
        "execution_count": 13,
        "metadata": {
         "collapsed": false,
         "scrolled": true,
         "trusted": true
        },
        "outputs": [
         {
          "data": {
           "text/plain": "<bqplot.marks.Label at 0x10e6c12d0>"
          },
          "metadata": {},
          "output_type": "display_data"
         }
        ],
        "source": "size = 100\nnp.random.seed(0)\nx_data = range(size)\ny_data = np.cumsum(np.random.randn(size) * 100.0)\n\n## Enabling moving of points in scatter. Try to click and drag any of the points in the scatter and \n## notice the line representing the mean of the data update\n\nsc_x = LinearScale()\nsc_y = LinearScale()\n\nscat = Scatter(x=x_data[:10], y=y_data[:10], scales={'x': sc_x, 'y': sc_y}, default_colors=['blue'],\n               enable_move=True)\nlin = Lines(scales={'x': sc_x, 'y': sc_y}, stroke_width=7, line_style='dashed', colors=['orange'])\nm = Label(value='Mean is %s'%np.mean(scat.y))\n\ndef update_line(change):\n    with lin.hold_sync():\n        lin.x = [np.min(scat.x), np.max(scat.x)]\n        lin.y = [np.mean(scat.y), np.mean(scat.y)]\n        m.value='Mean is %s'%np.mean(scat.y)\n        \n\nupdate_line(None)\n\n# update line on change of x or y of scatter\nscat.observe(update_line, names='x')\nscat.observe(update_line, names='y')\n\nax_x = Axis(scale=sc_x)\nax_y = Axis(scale=sc_y, tick_format='0.2f', orientation='vertical')\n\nfig = Figure(marks=[scat, lin], axes=[ax_x, ax_y])\n\n## In this case on drag, the line updates as you move the points.\nwith scat.hold_sync():\n    scat.enable_move = True\n    scat.update_on_move = True\n    scat.enable_add = False\n\ndisplay(m, fig)"
       },
       "cell_index": 7,
       "root": true
      }
     ]
    },
    "369fbeecb9534ceca3b5e169585c444a": {
     "views": []
    },
    "383e9fccafbb42c481c5764655a8ef60": {
     "views": []
    },
    "399c88384c5a48de8b56a0cdd12a53d5": {
     "views": []
    },
    "3a136cfa512a42e1908a57359a3d20cd": {
     "views": []
    },
    "3a4e411f6837415bb1a8342b8c004ad2": {
     "views": []
    },
    "3bd77b547dd04eff97511bdac72dd409": {
     "views": []
    },
    "3c74ff7c4b834cf898a0477e8ff90019": {
     "views": []
    },
    "3e078cfd008d44b7860dd5d817f1cb3d": {
     "views": []
    },
    "3ebbb06af3964b88b9e474022f3ea05a": {
     "views": []
    },
    "3f8dde4bf6e2403ab90204a1d403533d": {
     "views": []
    },
    "3fb8cb61517b475cb36e2ab2c94121e7": {
     "views": []
    },
    "3fc2075c5af34c22a574cc0408caf0a3": {
     "views": []
    },
    "409f2dce59334f83a694dc8a3a1bf851": {
     "views": []
    },
    "40b40f94fead41dea721551447225951": {
     "views": []
    },
    "40b57b715a494954a6363a35b0786bae": {
     "views": []
    },
    "41421491c3764d9ea8237aa038266c51": {
     "views": []
    },
    "416026f78c5f4739ad85a6feeaf87e24": {
     "views": []
    },
    "424058b2f30e4c4483cabca7aedae33a": {
     "views": []
    },
    "44cdce40a470444ba0196c928b255972": {
     "views": []
    },
    "44e1445d15404d4d9ad80910a3f7a6a5": {
     "views": []
    },
    "44eeef618ba94737bd43fc1dd654a21f": {
     "views": []
    },
    "45f1e8beacbd4593a8ac29e32e1383c4": {
     "views": []
    },
    "476e6a6b77c1474bb3e11ec3fdc07933": {
     "views": [
      {
       "cell": {
        "cell_type": "code",
        "execution_count": 13,
        "metadata": {
         "collapsed": false,
         "scrolled": true,
         "trusted": true
        },
        "outputs": [
         {
          "data": {
           "text/plain": "<bqplot.marks.Label at 0x10e6c12d0>"
          },
          "metadata": {},
          "output_type": "display_data"
         }
        ],
        "source": "size = 100\nnp.random.seed(0)\nx_data = range(size)\ny_data = np.cumsum(np.random.randn(size) * 100.0)\n\n## Enabling moving of points in scatter. Try to click and drag any of the points in the scatter and \n## notice the line representing the mean of the data update\n\nsc_x = LinearScale()\nsc_y = LinearScale()\n\nscat = Scatter(x=x_data[:10], y=y_data[:10], scales={'x': sc_x, 'y': sc_y}, default_colors=['blue'],\n               enable_move=True)\nlin = Lines(scales={'x': sc_x, 'y': sc_y}, stroke_width=7, line_style='dashed', colors=['orange'])\nm = Label(value='Mean is %s'%np.mean(scat.y))\n\ndef update_line(change):\n    with lin.hold_sync():\n        lin.x = [np.min(scat.x), np.max(scat.x)]\n        lin.y = [np.mean(scat.y), np.mean(scat.y)]\n        m.value='Mean is %s'%np.mean(scat.y)\n        \n\nupdate_line(None)\n\n# update line on change of x or y of scatter\nscat.observe(update_line, names='x')\nscat.observe(update_line, names='y')\n\nax_x = Axis(scale=sc_x)\nax_y = Axis(scale=sc_y, tick_format='0.2f', orientation='vertical')\n\nfig = Figure(marks=[scat, lin], axes=[ax_x, ax_y])\n\n## In this case on drag, the line updates as you move the points.\nwith scat.hold_sync():\n    scat.enable_move = True\n    scat.update_on_move = True\n    scat.enable_add = False\n\ndisplay(m, fig)"
       },
       "cell_index": 13,
       "root": true
      }
     ]
    },
    "48e75e155d1143bab9d8310726746393": {
     "views": []
    },
    "4a99c14fdb3a4a5bb571bf4c20161397": {
     "views": []
    },
    "4bd30390c0c44907a0f9124f35b7e944": {
     "views": []
    },
    "4e660af2aa07438ab1337cab7440778f": {
     "views": []
    },
    "4e6d233f87e8475d92846446c7a27847": {
     "views": []
    },
    "4e76d8b952e74aa3a024f23335d6a8d4": {
     "views": []
    },
    "4f077bb9e3fb4e9a9ac687bbd001d041": {
     "views": []
    },
    "503ba693ac6b4495966c9af3a57970f5": {
     "views": []
    },
    "51002f36e0df42e9b933203e86702f75": {
     "views": []
    },
    "51eb8e2c6ca74ff89c141e7748af3358": {
     "views": []
    },
    "521ccb912d7040a688514cd629933ccf": {
     "views": []
    },
    "52838dc03ef542189a28041bea2b7b5e": {
     "views": []
    },
    "529e0341b56b41d1827a887c79181d35": {
     "views": []
    },
    "55cacfe5378946239edc22fc9294a925": {
     "views": []
    },
    "59dc29c68093467e9235413b39692ff2": {
     "views": []
    },
    "59e5714524004597aaea4f36b1b1151b": {
     "views": []
    },
    "5b86281ac3e8465cb695f042fbf84b9b": {
     "views": []
    },
    "5c1093d5208741ecb0e3c07ba997f0b4": {
     "views": []
    },
    "5cef4f745eb3458e916792c55563d3cb": {
     "views": []
    },
    "5ddcc96edba744e8a59ae35e6cf6fd85": {
     "views": []
    },
    "5e010f01183f4419a7bf73e89b714eea": {
     "views": []
    },
    "5eaccf2127b94a56bbc552e6e5b644ea": {
     "views": []
    },
    "5fa4640bcf284ecc9011526b4b209005": {
     "views": []
    },
    "61668a13f6e84183976585dfd768ea0c": {
     "views": []
    },
    "64717e81cee0454abf4e8f26dd292212": {
     "views": []
    },
    "682c0286d5ce4b83b05d91ee74d4cb50": {
     "views": []
    },
    "68b4aab2763c46a1bb727edef1321da1": {
     "views": []
    },
    "6a9143bede1d48f381a85c68942b8172": {
     "views": []
    },
    "6b6e1cf7cc59412eb312e2152f36e28b": {
     "views": []
    },
    "6c10bda34dae4781a63406431f4862e3": {
     "views": []
    },
    "6c2dd962fa524e7fae9fe1236d23c227": {
     "views": []
    },
    "6c953003dbc746969ee0c6c6b8a83db2": {
     "views": []
    },
    "6ede8700d1c24d6bb1d4476372b2f0d2": {
     "views": []
    },
    "6f60ec219d304b2092dded594b4ed1cd": {
     "views": []
    },
    "6fb2566730a0485788e3c41bfe650929": {
     "views": []
    },
    "6fe5b245f76b4aedb56c1190112f62ca": {
     "views": []
    },
    "7017abebfd06454085dfb5e964ba0e51": {
     "views": []
    },
    "70c8ef8f7f2849e0b87b807e5181af51": {
     "views": []
    },
    "718c5eca1fac4929bbac89925405babf": {
     "views": []
    },
    "71cf27dc19ec43efa4f92c09d560b2b0": {
     "views": []
    },
    "723a7f536cee436aa33999b2ab9c1420": {
     "views": []
    },
    "72e6346873de47f1b113454163ee6080": {
     "views": []
    },
    "731f7d8662fa40e387a3c27f851e5e96": {
     "views": []
    },
    "73a987c095ba44618d5888367221380e": {
     "views": []
    },
    "75a552f8008c468b8a29cc2b9c5b5ccb": {
     "views": []
    },
    "779c6d3a406f4162af9f1b5a5e091e8a": {
     "views": []
    },
    "794c4ba6469c49a0bb79ef440551b5d9": {
     "views": []
    },
    "7aa64b31fec24855b3a5b5334f58ba05": {
     "views": []
    },
    "7b3c94474bff4b94bba917a12a155f5a": {
     "views": []
    },
    "7b85956c171240b1a6aec68cb44f4b29": {
     "views": []
    },
    "8083ca6f8f5d4a35bc662be78d45b02d": {
     "views": []
    },
    "8484f8363daf487784bc214eb8dbeb92": {
     "views": []
    },
    "85ca9e8f694f438d8dfbc497d68a5656": {
     "views": []
    },
    "8619cdc449554deea278dd818a653642": {
     "views": []
    },
    "8703340cf52f49d39ee98888a5befb53": {
     "views": []
    },
    "8892ca87c9f748c69a7054ba9edb5aea": {
     "views": []
    },
    "89ee9a43b351473d9bde69126e2e950b": {
     "views": []
    },
    "8a06e4e2d66c475097b50a1922cefbaa": {
     "views": []
    },
    "8a3265fad72b4a69b073ac8ed786c061": {
     "views": []
    },
    "8a4fa111c48349f99f3b9cdb84529d20": {
     "views": []
    },
    "8ab91385d60f49a4bd42f47e11016776": {
     "views": []
    },
    "8aeeba3caee24a5ab6697c58580b0dea": {
     "views": []
    },
    "8fb40ff401324acbb86de7e49f5716dc": {
     "views": []
    },
    "9062e68070bc4f70aa857d9612e1dbfc": {
     "views": []
    },
    "91f9b96971c44bf8bbf5f6ba8a82876e": {
     "views": []
    },
    "922d65a676734fabb4a1abe0b1db6270": {
     "views": []
    },
    "926679a8c6d442269138eaed8be1cbf0": {
     "views": []
    },
    "92a3401d01c84bd4ad3fe249dfd7637e": {
     "views": []
    },
    "9318062f396b43cebb0245f7345c039f": {
     "views": []
    },
    "93b1345e6cb44d0d8d767772cc87104b": {
     "views": []
    },
    "93f7f4d124bc4fd2b5bf75ae1ad13a46": {
     "views": []
    },
    "9414881d399e41fd8009ff31e6046017": {
     "views": []
    },
    "94afea929b01423b8c938fb19703e428": {
     "views": []
    },
    "9626760c7a614edab8409175a9f69861": {
     "views": []
    },
    "96a06f98725b4e418fb221d6de4cf14b": {
     "views": []
    },
    "96d717a64f3d42a389d5de65b8350a96": {
     "views": []
    },
    "96df5b979b084b39aad3d277102e045e": {
     "views": [
      {
       "cell": {
        "cell_type": "code",
        "execution_count": 13,
        "metadata": {
         "collapsed": false,
         "scrolled": true,
         "trusted": true
        },
        "outputs": [
         {
          "data": {
           "text/plain": "<bqplot.marks.Label at 0x10e6c12d0>"
          },
          "metadata": {},
          "output_type": "display_data"
         }
        ],
        "source": "size = 100\nnp.random.seed(0)\nx_data = range(size)\ny_data = np.cumsum(np.random.randn(size) * 100.0)\n\n## Enabling moving of points in scatter. Try to click and drag any of the points in the scatter and \n## notice the line representing the mean of the data update\n\nsc_x = LinearScale()\nsc_y = LinearScale()\n\nscat = Scatter(x=x_data[:10], y=y_data[:10], scales={'x': sc_x, 'y': sc_y}, default_colors=['blue'],\n               enable_move=True)\nlin = Lines(scales={'x': sc_x, 'y': sc_y}, stroke_width=7, line_style='dashed', colors=['orange'])\nm = Label(value='Mean is %s'%np.mean(scat.y))\n\ndef update_line(change):\n    with lin.hold_sync():\n        lin.x = [np.min(scat.x), np.max(scat.x)]\n        lin.y = [np.mean(scat.y), np.mean(scat.y)]\n        m.value='Mean is %s'%np.mean(scat.y)\n        \n\nupdate_line(None)\n\n# update line on change of x or y of scatter\nscat.observe(update_line, names='x')\nscat.observe(update_line, names='y')\n\nax_x = Axis(scale=sc_x)\nax_y = Axis(scale=sc_y, tick_format='0.2f', orientation='vertical')\n\nfig = Figure(marks=[scat, lin], axes=[ax_x, ax_y])\n\n## In this case on drag, the line updates as you move the points.\nwith scat.hold_sync():\n    scat.enable_move = True\n    scat.update_on_move = True\n    scat.enable_add = False\n\ndisplay(m, fig)"
       },
       "cell_index": 7,
       "root": true
      }
     ]
    },
    "970ea086ae8b441d8b803d1757134ec1": {
     "views": []
    },
    "986145a5171a487bb11b66087a9088ff": {
     "views": []
    },
    "99641259a6d94c4983610668dc9fb9ff": {
     "views": []
    },
    "996477f42b29432dafd21a30a39cd776": {
     "views": []
    },
    "9a164d531abd49c6a98d4ac3314fabdf": {
     "views": []
    },
    "9a448028ecd243dfbea65391921ebc4f": {
     "views": []
    },
    "9a96ca5f7c974184874170b1721fa566": {
     "views": []
    },
    "9c6efec60fd94f1b9dc59a536de458f9": {
     "views": []
    },
    "9cd76ffb893e4d5ca2d67da5a2e4e0c4": {
     "views": []
    },
    "9dd93222e91947cc90d0b440f409669d": {
     "views": []
    },
    "9e2999320bb1493f848da7fbd14f38ca": {
     "views": []
    },
    "9ec1515d7b9e49348d9d3e668b53287a": {
     "views": []
    },
    "9fc24f1b81144983ad3e6d6823f0dc1a": {
     "views": [
      {
       "cell": {
        "cell_type": "code",
        "execution_count": 13,
        "metadata": {
         "collapsed": false,
         "scrolled": true,
         "trusted": true
        },
        "outputs": [
         {
          "data": {
           "text/plain": "<bqplot.marks.Label at 0x10e6c12d0>"
          },
          "metadata": {},
          "output_type": "display_data"
         }
        ],
        "source": "size = 100\nnp.random.seed(0)\nx_data = range(size)\ny_data = np.cumsum(np.random.randn(size) * 100.0)\n\n## Enabling moving of points in scatter. Try to click and drag any of the points in the scatter and \n## notice the line representing the mean of the data update\n\nsc_x = LinearScale()\nsc_y = LinearScale()\n\nscat = Scatter(x=x_data[:10], y=y_data[:10], scales={'x': sc_x, 'y': sc_y}, default_colors=['blue'],\n               enable_move=True)\nlin = Lines(scales={'x': sc_x, 'y': sc_y}, stroke_width=7, line_style='dashed', colors=['orange'])\nm = Label(value='Mean is %s'%np.mean(scat.y))\n\ndef update_line(change):\n    with lin.hold_sync():\n        lin.x = [np.min(scat.x), np.max(scat.x)]\n        lin.y = [np.mean(scat.y), np.mean(scat.y)]\n        m.value='Mean is %s'%np.mean(scat.y)\n        \n\nupdate_line(None)\n\n# update line on change of x or y of scatter\nscat.observe(update_line, names='x')\nscat.observe(update_line, names='y')\n\nax_x = Axis(scale=sc_x)\nax_y = Axis(scale=sc_y, tick_format='0.2f', orientation='vertical')\n\nfig = Figure(marks=[scat, lin], axes=[ax_x, ax_y])\n\n## In this case on drag, the line updates as you move the points.\nwith scat.hold_sync():\n    scat.enable_move = True\n    scat.update_on_move = True\n    scat.enable_add = False\n\ndisplay(m, fig)"
       },
       "cell_index": 7,
       "root": true
      }
     ]
    },
    "a0028fe9b5454cc4afadddee09c84ff5": {
     "views": []
    },
    "a01a4212b8854cd7913f62c8a4e45c5c": {
     "views": []
    },
    "a139092cb3c048c392f44daca1135ac7": {
     "views": []
    },
    "a1da28c9b8dd4e72b5007db2de65dbc0": {
     "views": []
    },
    "a21c2dff8e2d479187cf1b0f61c9e705": {
     "views": [
      {
       "cell": {
        "cell_type": "code",
        "execution_count": 13,
        "metadata": {
         "collapsed": false,
         "scrolled": true,
         "trusted": true
        },
        "outputs": [
         {
          "data": {
           "text/plain": "<bqplot.marks.Label at 0x10e6c12d0>"
          },
          "metadata": {},
          "output_type": "display_data"
         }
        ],
        "source": "size = 100\nnp.random.seed(0)\nx_data = range(size)\ny_data = np.cumsum(np.random.randn(size) * 100.0)\n\n## Enabling moving of points in scatter. Try to click and drag any of the points in the scatter and \n## notice the line representing the mean of the data update\n\nsc_x = LinearScale()\nsc_y = LinearScale()\n\nscat = Scatter(x=x_data[:10], y=y_data[:10], scales={'x': sc_x, 'y': sc_y}, default_colors=['blue'],\n               enable_move=True)\nlin = Lines(scales={'x': sc_x, 'y': sc_y}, stroke_width=7, line_style='dashed', colors=['orange'])\nm = Label(value='Mean is %s'%np.mean(scat.y))\n\ndef update_line(change):\n    with lin.hold_sync():\n        lin.x = [np.min(scat.x), np.max(scat.x)]\n        lin.y = [np.mean(scat.y), np.mean(scat.y)]\n        m.value='Mean is %s'%np.mean(scat.y)\n        \n\nupdate_line(None)\n\n# update line on change of x or y of scatter\nscat.observe(update_line, names='x')\nscat.observe(update_line, names='y')\n\nax_x = Axis(scale=sc_x)\nax_y = Axis(scale=sc_y, tick_format='0.2f', orientation='vertical')\n\nfig = Figure(marks=[scat, lin], axes=[ax_x, ax_y])\n\n## In this case on drag, the line updates as you move the points.\nwith scat.hold_sync():\n    scat.enable_move = True\n    scat.update_on_move = True\n    scat.enable_add = False\n\ndisplay(m, fig)"
       },
       "cell_index": 7,
       "root": true
      }
     ]
    },
    "a288f433f3034addaf701e766c832b86": {
     "views": []
    },
    "a3863852977442c7ba3668614f61526d": {
     "views": []
    },
    "a40eeb74ee1b427e94eda81d9ff7ebdc": {
     "views": []
    },
    "a5b2967b24cc4e7bb0a2337739d84f52": {
     "views": []
    },
    "a7f69317e46d4004aa5809c8b824e979": {
     "views": []
    },
    "a8f2dcf0f5e94aeaaba249859918dca7": {
     "views": []
    },
    "a95ee26744014c1ba72ec1b11b9f2bad": {
     "views": []
    },
    "aad604aae2614d3f889c753380f11143": {
     "views": []
    },
    "aaf73b8daa704c67bb81ff29dee1f216": {
     "views": []
    },
    "ab9bfc3fab8d4f2eb99106479009c714": {
     "views": []
    },
    "ac9bc341992c45ed842a3ec470cdd934": {
     "views": []
    },
    "acb551dbe37a4f1e90803669270103fa": {
     "views": []
    },
    "ae75c6af1d5343be9c73f935fdef367d": {
     "views": []
    },
    "ae76e2e199394661aa33b31b097b6f30": {
     "views": []
    },
    "aef72bb72b4644f7a8f28752bcbfa9fc": {
     "views": [
      {
       "cell": {
        "cell_type": "code",
        "execution_count": 13,
        "metadata": {
         "collapsed": false,
         "scrolled": true,
         "trusted": true
        },
        "outputs": [
         {
          "data": {
           "text/plain": "<bqplot.marks.Label at 0x10e6c12d0>"
          },
          "metadata": {},
          "output_type": "display_data"
         }
        ],
        "source": "size = 100\nnp.random.seed(0)\nx_data = range(size)\ny_data = np.cumsum(np.random.randn(size) * 100.0)\n\n## Enabling moving of points in scatter. Try to click and drag any of the points in the scatter and \n## notice the line representing the mean of the data update\n\nsc_x = LinearScale()\nsc_y = LinearScale()\n\nscat = Scatter(x=x_data[:10], y=y_data[:10], scales={'x': sc_x, 'y': sc_y}, default_colors=['blue'],\n               enable_move=True)\nlin = Lines(scales={'x': sc_x, 'y': sc_y}, stroke_width=7, line_style='dashed', colors=['orange'])\nm = Label(value='Mean is %s'%np.mean(scat.y))\n\ndef update_line(change):\n    with lin.hold_sync():\n        lin.x = [np.min(scat.x), np.max(scat.x)]\n        lin.y = [np.mean(scat.y), np.mean(scat.y)]\n        m.value='Mean is %s'%np.mean(scat.y)\n        \n\nupdate_line(None)\n\n# update line on change of x or y of scatter\nscat.observe(update_line, names='x')\nscat.observe(update_line, names='y')\n\nax_x = Axis(scale=sc_x)\nax_y = Axis(scale=sc_y, tick_format='0.2f', orientation='vertical')\n\nfig = Figure(marks=[scat, lin], axes=[ax_x, ax_y])\n\n## In this case on drag, the line updates as you move the points.\nwith scat.hold_sync():\n    scat.enable_move = True\n    scat.update_on_move = True\n    scat.enable_add = False\n\ndisplay(m, fig)"
       },
       "cell_index": 10,
       "root": true
      }
     ]
    },
    "af45aed006de4de08859ac8196e31a57": {
     "views": []
    },
    "b00793a066044d55bc4975b7ed528606": {
     "views": []
    },
    "b02b0ea9f7bf4bb19e12924fe4d97596": {
     "views": []
    },
    "b0822f66c7e641d6bc4cbdbad93443da": {
     "views": []
    },
    "b111ec3b49e447919e69cfaea9f88454": {
     "views": []
    },
    "b14437d5a2a442d2917bcca9f07989f3": {
     "views": []
    },
    "b29a9d25839a47f78b34e57bfe981580": {
     "views": []
    },
    "b2a2d167959c4d83831cb91189bb1732": {
     "views": []
    },
    "b360590a8fbc430eaf715ae8b942c8ab": {
     "views": []
    },
    "b46d435b91194131af33a475a8b70d07": {
     "views": []
    },
    "b4863550d3424baf9d2504d33e2e5b39": {
     "views": []
    },
    "b826b1a4f79a4f9c82ca74ed80b93a17": {
     "views": []
    },
    "b82aa76ce8514de8834c316d55827b56": {
     "views": []
    },
    "b83ee0986eaf46b792d0ac016ef3e71b": {
     "views": []
    },
    "b84cafae5d764341a67f7fe5e37a7d39": {
     "views": []
    },
    "b882f0f1f70748079e1ad15fed3bbd05": {
     "views": []
    },
    "b942ec173d844f7db4caa344da1e3476": {
     "views": []
    },
    "b991b9b95c744f3abe4e1547dac20a24": {
     "views": []
    },
    "b9a3b435bff34d5eb3d93009d200ce08": {
     "views": []
    },
    "b9a93cb3d7ab4884bace49015d933543": {
     "views": []
    },
    "ba17a5e5a4884e89b96c5f408fa2c272": {
     "views": []
    },
    "ba1bb5a3393b444f96f1e677f8ff8d61": {
     "views": []
    },
    "baeb030620ac429db0f89b08f2929954": {
     "views": []
    },
    "bb4393d1fd9f4f6fb21b537b440bf1f2": {
     "views": []
    },
    "bba04825a3184376aa1ab593cf911c63": {
     "views": []
    },
    "bc3a1172e0ea48f4976d7c9f85dcc5bd": {
     "views": []
    },
    "bce7a298b75841079dd069a79913dd1f": {
     "views": []
    },
    "bd2a61312ef74c95951e8560b704c508": {
     "views": []
    },
    "bd6e2b51bfcb4927a36b37de6be091b0": {
     "views": []
    },
    "bda8d50fca3542578ddf5fe2080a2079": {
     "views": []
    },
    "be0dd847904d485ea52d102839451c0d": {
     "views": []
    },
    "c0a3cd0c73a648759fec775e3703cba2": {
     "views": []
    },
    "c1456b7a6f18415d814cbc68e6e2235a": {
     "views": []
    },
    "c2d98f8edb924b399c61eb79b873b8d7": {
     "views": []
    },
    "c34a10388bc14931bd568ccb3bb77a5f": {
     "views": []
    },
    "c3e9f5a407bb41d7a334980c1e3eec91": {
     "views": []
    },
    "c4d0f6e8da4740609ef06c3dc0b1ee8c": {
     "views": []
    },
    "c589accedfd64150ab145527e16bc093": {
     "views": []
    },
    "c5c76fbeee00443d84a060a2143e38cc": {
     "views": []
    },
    "c62c7fec8892456fb2013ccf2f8beda3": {
     "views": []
    },
    "c6978d148383411a8b2316fc2c1a81cc": {
     "views": []
    },
    "c6c1b16bfbe8478eba698bf4f344a414": {
     "views": []
    },
    "c6f5426755694e0393ef68ce15043c32": {
     "views": []
    },
    "c740d37b21ff4eed9be8443e2a4d0e7d": {
     "views": []
    },
    "c7693c4497124d38b738039c73639dbe": {
     "views": []
    },
    "c7d93041913c4c5ebdb261823dac832f": {
     "views": []
    },
    "c861335b2c12443a9b325d3bbfb4b8e6": {
     "views": []
    },
    "c8c522dc487748cd82701001fdfcf285": {
     "views": []
    },
    "ca16bb66b0b247408c42c19ecaa4d6bf": {
     "views": []
    },
    "ca1cd3818915489ea918daa0aae0a375": {
     "views": []
    },
    "caaedb5fa9c9425ca8f0e28b8f81ae35": {
     "views": []
    },
    "cce0c35659494b009880d248c50c4f8f": {
     "views": []
    },
    "cd97cb51d1554418a7c2008736dedf16": {
     "views": []
    },
    "cdd397bbe1e04eaa996e04879fe6541a": {
     "views": []
    },
    "ce76aa3d3f1244b1b8d9fe7fa0caff73": {
     "views": []
    },
    "cf7f4e294a0e42a2ac7ecc3802776a14": {
     "views": []
    },
    "d04a5f909d5d49098194c8418a640b42": {
     "views": []
    },
    "d13ab09ab87847fab277da3f47a14d5d": {
     "views": []
    },
    "d36919e7aa264f67ae91eb32100ae44d": {
     "views": []
    },
    "d37eb8bb64544463a21beb59e4621271": {
     "views": [
      {
       "cell": {
        "cell_type": "code",
        "execution_count": 13,
        "metadata": {
         "collapsed": false,
         "scrolled": true,
         "trusted": true
        },
        "outputs": [
         {
          "data": {
           "text/plain": "<bqplot.marks.Label at 0x10e6c12d0>"
          },
          "metadata": {},
          "output_type": "display_data"
         }
        ],
        "source": "size = 100\nnp.random.seed(0)\nx_data = range(size)\ny_data = np.cumsum(np.random.randn(size) * 100.0)\n\n## Enabling moving of points in scatter. Try to click and drag any of the points in the scatter and \n## notice the line representing the mean of the data update\n\nsc_x = LinearScale()\nsc_y = LinearScale()\n\nscat = Scatter(x=x_data[:10], y=y_data[:10], scales={'x': sc_x, 'y': sc_y}, default_colors=['blue'],\n               enable_move=True)\nlin = Lines(scales={'x': sc_x, 'y': sc_y}, stroke_width=7, line_style='dashed', colors=['orange'])\nm = Label(value='Mean is %s'%np.mean(scat.y))\n\ndef update_line(change):\n    with lin.hold_sync():\n        lin.x = [np.min(scat.x), np.max(scat.x)]\n        lin.y = [np.mean(scat.y), np.mean(scat.y)]\n        m.value='Mean is %s'%np.mean(scat.y)\n        \n\nupdate_line(None)\n\n# update line on change of x or y of scatter\nscat.observe(update_line, names='x')\nscat.observe(update_line, names='y')\n\nax_x = Axis(scale=sc_x)\nax_y = Axis(scale=sc_y, tick_format='0.2f', orientation='vertical')\n\nfig = Figure(marks=[scat, lin], axes=[ax_x, ax_y])\n\n## In this case on drag, the line updates as you move the points.\nwith scat.hold_sync():\n    scat.enable_move = True\n    scat.update_on_move = True\n    scat.enable_add = False\n\ndisplay(m, fig)"
       },
       "cell_index": 14,
       "root": true
      }
     ]
    },
    "d3e1b2340d0848b4b4d01c841c054987": {
     "views": []
    },
    "d5ea368ebfc446fbbd2f5a9d8f400bfd": {
     "views": []
    },
    "d5ea7a94b93a4e34b0cad3a961d223f3": {
     "views": []
    },
    "d9561f5e12364b5db8dfcd36acbf5399": {
     "views": []
    },
    "d98cfc9fe0d0484b8bf15bdbac560824": {
     "views": []
    },
    "da3b1ceb6ab348009918051d871f32f6": {
     "views": []
    },
    "daab003954a44faa96601ba464ee5d88": {
     "views": []
    },
    "db2ea2caa2724419b08ac07c9f6e05ba": {
     "views": []
    },
    "db89eaf9b4164c0f9a3cdc3874d9f7de": {
     "views": []
    },
    "dbb620e54d9c428686c681c0760cf7c9": {
     "views": []
    },
    "dcd4614ed7014314b2b8be651d2db52e": {
     "views": [
      {
       "cell": {
        "cell_type": "code",
        "execution_count": 13,
        "metadata": {
         "collapsed": false,
         "scrolled": true,
         "trusted": true
        },
        "outputs": [
         {
          "data": {
           "text/plain": "<bqplot.marks.Label at 0x10e6c12d0>"
          },
          "metadata": {},
          "output_type": "display_data"
         }
        ],
        "source": "size = 100\nnp.random.seed(0)\nx_data = range(size)\ny_data = np.cumsum(np.random.randn(size) * 100.0)\n\n## Enabling moving of points in scatter. Try to click and drag any of the points in the scatter and \n## notice the line representing the mean of the data update\n\nsc_x = LinearScale()\nsc_y = LinearScale()\n\nscat = Scatter(x=x_data[:10], y=y_data[:10], scales={'x': sc_x, 'y': sc_y}, default_colors=['blue'],\n               enable_move=True)\nlin = Lines(scales={'x': sc_x, 'y': sc_y}, stroke_width=7, line_style='dashed', colors=['orange'])\nm = Label(value='Mean is %s'%np.mean(scat.y))\n\ndef update_line(change):\n    with lin.hold_sync():\n        lin.x = [np.min(scat.x), np.max(scat.x)]\n        lin.y = [np.mean(scat.y), np.mean(scat.y)]\n        m.value='Mean is %s'%np.mean(scat.y)\n        \n\nupdate_line(None)\n\n# update line on change of x or y of scatter\nscat.observe(update_line, names='x')\nscat.observe(update_line, names='y')\n\nax_x = Axis(scale=sc_x)\nax_y = Axis(scale=sc_y, tick_format='0.2f', orientation='vertical')\n\nfig = Figure(marks=[scat, lin], axes=[ax_x, ax_y])\n\n## In this case on drag, the line updates as you move the points.\nwith scat.hold_sync():\n    scat.enable_move = True\n    scat.update_on_move = True\n    scat.enable_add = False\n\ndisplay(m, fig)"
       },
       "cell_index": 7,
       "root": true
      }
     ]
    },
    "dcfb0d1bafb64106a16435d186c10329": {
     "views": []
    },
    "dd487726dfab488cbebb2ecdcef65506": {
     "views": []
    },
    "df1bd20304bf44eeaf7e66c4062e5fcb": {
     "views": []
    },
    "e04a2a6257e049a1b722b3bdfc5aa7f9": {
     "views": []
    },
    "e0b509e86ef14992813cf55dcb294624": {
     "views": []
    },
    "e2c88e6fb4a149209aa4116d8ccadb16": {
     "views": []
    },
    "e40cc523bfff42e6bb060df1db68bd50": {
     "views": []
    },
    "e4506c82e6384e17bbe56cc338bdbdeb": {
     "views": []
    },
    "e47364b1b4e24e7386c9166077a57f61": {
     "views": []
    },
    "e6f1c37dcf954a44ae1a43de7181c102": {
     "views": []
    },
    "e7732325864743468b64e155f0be463a": {
     "views": []
    },
    "e7ae5be69d564a489624e957b28a693a": {
     "views": []
    },
    "e7d2e9634c2643c38adec8a101a1f48a": {
     "views": []
    },
    "e84ac0ece290444591e38c04eefdca70": {
     "views": []
    },
    "e99a2e7f47a24198a681d2090cafd936": {
     "views": []
    },
    "ea4b71b647a14f9a9d4dea55e0715c40": {
     "views": []
    },
    "ea78e2d0335449f7a782d3170dc8d346": {
     "views": []
    },
    "eae416b64c434aa0afc8f405ff66a655": {
     "views": []
    },
    "ef7135f488ad40698e8eb86a2338e310": {
     "views": []
    },
    "ef8e597daf384a048cde2aced30e23ca": {
     "views": []
    },
    "f0ea2e2fbd4c4b7ebebc82e652b4c133": {
     "views": []
    },
    "f0fb392b5b644f5c8bd2732fcaf09c24": {
     "views": []
    },
    "f176bb190869414395a3370616d05d86": {
     "views": []
    },
    "f1c2594017e845f491eb45786ad9f9ec": {
     "views": []
    },
    "f445b0703307435384a61a9d1ff0ce52": {
     "views": []
    },
    "f44735ee24b4426ea19ddad21811e79d": {
     "views": []
    },
    "f5475da2f5004fefafeb2ecb38668fbe": {
     "views": []
    },
    "f94afffad4a14687bae4c56b5a14710a": {
     "views": []
    },
    "fa081ef220174807a1ad4250c7063d6a": {
     "views": []
    },
    "fa3f6a0d17254c87a58235359b44bfd7": {
     "views": [
      {
       "cell": {
        "cell_type": "code",
        "execution_count": 2,
        "metadata": {
         "collapsed": false,
         "trusted": true
        },
        "outputs": [
         {
          "name": "stdout",
          "output_type": "stream",
          "text": "[]\n"
         }
        ],
        "source": "plt.figure(1)\nn = 100\nx = linspace(0.0, 10.0, n)\nplt.plot(x, y_data, axes_options={'y': {'grid_lines': 'dashed'}})\nplt.show()"
       },
       "cell_index": 2,
       "root": true
      }
     ]
    },
    "fa4356faa6db4d919c7a13493dc43540": {
     "views": []
    },
    "fa586f91d0e943fdbfd795a09208df85": {
     "views": []
    },
    "fac22e0e213b407a87af2348b24b03eb": {
     "views": []
    },
    "fb24dc995ff2498fbca51bb2102fd3e2": {
     "views": []
    },
    "fb74cf7d76f343c7ac96e997086c00ef": {
     "views": []
    },
    "fc79f695b64f4e8280cf42e154fcf848": {
     "views": []
    },
    "fd87e955c5a6471ba6af029f7e007943": {
     "views": []
    },
    "fd947a1c0b1e46058d73b5de5c1e46ad": {
     "views": []
    },
    "fdc0597690f94a93b05ece8f8eca92f1": {
     "views": []
    },
    "fe981995810842a383095b1f0df763cb": {
     "views": []
    },
    "ff9f0823ab1944bc9d308b1c7ace5a71": {
     "views": []
    },
    "ffd4c8259eec4310991a4fae3dcccf7a": {
     "views": []
    }
   },
   "version": "1.0.0"
  }
 },
 "nbformat": 4,
 "nbformat_minor": 1
}
