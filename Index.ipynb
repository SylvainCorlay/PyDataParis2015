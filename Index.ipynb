{
 "cells": [
  {
   "cell_type": "markdown",
   "metadata": {},
   "source": [
    "# This Tutorial https://github.com/SylvainCorlay/tutorial\n",
    "\n",
    "\n",
    "Live demos:\n",
    "\n",
    "- [Interactive Widgets](Interactive Widgets.ipynb)\n",
    "- [bqplot](Bqplot.ipynb)\n",
    "- [pythreejs](PyThreejs.ipynb)\n",
    "- [Leaflet](LeafletGeoJSON.ipynb)\n",
    "    - [Leaflet - 2](LeafletDraw.ipynb)\n",
    "- [GIS](Fly.ipynb)"
   ]
  },
  {
   "cell_type": "code",
   "execution_count": null,
   "metadata": {
    "collapsed": true
   },
   "outputs": [],
   "source": []
  }
 ],
 "metadata": {
  "kernelspec": {
   "display_name": "Python 2",
   "language": "python",
   "name": "python2"
  },
  "language_info": {
   "codemirror_mode": {
    "name": "ipython",
    "version": 2
   },
   "file_extension": ".py",
   "mimetype": "text/x-python",
   "name": "python",
   "nbconvert_exporter": "python",
   "pygments_lexer": "ipython2",
   "version": "2.7.11"
  },
  "widgets": {
   "state": {},
   "version": "1.0.0"
  }
 },
 "nbformat": 4,
 "nbformat_minor": 1
}
