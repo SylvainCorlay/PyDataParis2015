{
 "cells": [
  {
   "cell_type": "markdown",
   "metadata": {},
   "source": [
    "# Interactive Visualization in Jupyter with Interactive Widgets\n",
    "\n",
    "#### June 15th, PyData Paris Conference"
   ]
  },
  {
   "cell_type": "markdown",
   "metadata": {},
   "source": [
    "### This Tutorial    https://github.com/SylvainCorlay/PyDataParis2016\n",
    "\n",
    "\n",
    "Live demos:\n",
    "\n",
    "- [Interactive Widgets](Interactive Widgets.ipynb)\n",
    "- [bqplot](Bqplot.ipynb)\n",
    "- [pythreejs](PyThreejs.ipynb)\n",
    "- [Leaflet](LeafletGeoJSON.ipynb)\n",
    "    - [Leaflet - 2](LeafletDraw.ipynb)\n",
    "- [GIS](Fly.ipynb)"
   ]
  },
  {
   "cell_type": "markdown",
   "metadata": {},
   "source": [
    "## A little bit about myself\n",
    "\n",
    "Applied Mathematician\n",
    " - Quant at Bloomberg, Adjunct faculty at Columbia and NYU\n",
    " - Probability Theory, Continuous-time Stochastic Analysis\n",
    " - Mathematical finance, Computational economics\n",
    "\n",
    "Open-Source Developer\n",
    " - Core contributor and steering committee member of the Jupyter Project\n",
    " - Core contributor to spyder, bqplot, pythreejs, ipyleaflet\n",
    " - Python scientific stack, JS front-end development and data visualization\n",
    " - High performance scientific computing in C++\n",
    "\n",
    "Contact\n",
    "\n",
    " - https://twitter.com/SylvainCorlay\n",
    " - https://github.com/SylvainCorlay"
   ]
  },
  {
   "cell_type": "markdown",
   "metadata": {},
   "source": [
    "### *The Purpose of Computing is Insight, not Numbers* -- Richard Hamming\n",
    "\n",
    "### *Literate programming* -- Donald Knuth\n",
    "Literate programming is an approach to programming introduced by Donald Knuth in which a program is given as an explanation of the program logic in a natural language, such as English, interspersed with snippets of macros and traditional source code, from which a compilable source code can be generated"
   ]
  }
 ],
 "metadata": {
  "kernelspec": {
   "display_name": "Python 2",
   "language": "python",
   "name": "python2"
  },
  "language_info": {
   "codemirror_mode": {
    "name": "ipython",
    "version": 2
   },
   "file_extension": ".py",
   "mimetype": "text/x-python",
   "name": "python",
   "nbconvert_exporter": "python",
   "pygments_lexer": "ipython2",
   "version": "2.7.11"
  },
  "widgets": {
   "state": {},
   "version": "1.1.2"
  }
 },
 "nbformat": 4,
 "nbformat_minor": 1
}
