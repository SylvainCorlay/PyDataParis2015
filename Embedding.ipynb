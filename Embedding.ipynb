{
 "cells": [
  {
   "cell_type": "code",
   "execution_count": 1,
   "metadata": {
    "collapsed": false,
    "scrolled": true
   },
   "outputs": [],
   "source": [
    "from ipywidgets import VBox, jsdlink, IntSlider\n",
    "\n",
    "s1 = IntSlider(description='Maximum', min=100, max=200, value=100)\n",
    "s2 = IntSlider(description='Value', value=40)\n",
    "jsdlink((s1, 'value'), (s2, 'max'))\n",
    "VBox([s1, s2])"
   ]
  },
  {
   "cell_type": "code",
   "execution_count": 2,
   "metadata": {
    "collapsed": false
   },
   "outputs": [],
   "source": [
    "import numpy as np\n",
    "from bqplot import pyplot as plt\n",
    "\n",
    "n = 100\n",
    "plt.scatter(np.random.randn(n), np.random.randn(n))\n",
    "plt.show()"
   ]
  },
  {
   "cell_type": "markdown",
   "metadata": {
    "collapsed": true
   },
   "source": [
    "# HTML Code\n",
    "\n",
    "```HTML\n",
    "<html>\n",
    "    <head>\n",
    "    <meta http-equiv=\"content-type\" content=\"text/html; charset=UTF8\">\n",
    "    \n",
    "    <style>\n",
    "    body {\n",
    "        margin-left: auto;\n",
    "        margin-right: auto;\n",
    "        max-width: 900px;\n",
    "        background-color: #eee;\n",
    "        font-family: sans-serif;\n",
    "    }\n",
    "\n",
    "    .jupyter-js-widgets-example {\n",
    "        padding: 10px;\n",
    "        margin-top: 10px;\n",
    "        margin-bottom: 10px;\n",
    "        background-color: white;\n",
    "        overflow: auto;\n",
    "        box-shadow: 0px 0px 12px 1px rgba(87, 87, 87, 0.2);\n",
    "    }\n",
    "\n",
    "    .widgetarea, .inputarea, .snipetarea {\n",
    "        margin: 5px;\n",
    "    }\n",
    "\n",
    "    .CodeMirror {\n",
    "        border: 1px solid #ccc;\n",
    "        height: auto;\n",
    "        background-color: #f7f7f7;\n",
    "        border-radius: 2px;\n",
    "    }\n",
    "\n",
    "    .CodeMirror-Scroll {\n",
    "        height: auto;\n",
    "    }\n",
    "    </style>\n",
    "    </head>\n",
    "    <body>\n",
    "        <h1>Embedding Jupyter Interactive Widgets</h1>\n",
    "        <div class=\"jupyter-js-widgets-example\">\n",
    "        </div>\n",
    "    </body>\n",
    "</html>\n",
    "\n",
    "```"
   ]
  }
 ],
 "metadata": {
  "kernelspec": {
   "display_name": "Python 2",
   "language": "python",
   "name": "python2"
  },
  "language_info": {
   "codemirror_mode": {
    "name": "ipython",
    "version": 2
   },
   "file_extension": ".py",
   "mimetype": "text/x-python",
   "name": "python",
   "nbconvert_exporter": "python",
   "pygments_lexer": "ipython2",
   "version": "2.7.11"
  },
  "widgets": {
   "state": {
    "081416b6f3c84ccc82849ec56793dbb2": {
     "views": []
    },
    "15e9fb603d9a4a02a0bc9957a0a630fb": {
     "views": []
    },
    "1f32e5d9bcf64e34aafeba4c1b7121c5": {
     "views": []
    },
    "3cc2b7c979f94e4b970039b9124aa83d": {
     "views": [
      {
       "cell_index": 1
      }
     ]
    },
    "435622259fec436fb8ea1f4f7e71e524": {
     "views": []
    },
    "47554b7052be4ae78f014b69f32ac6d6": {
     "views": []
    },
    "4772e6acdef24c7699c25e8a6f640e62": {
     "views": []
    },
    "552cb4206fc04a378683a9392fc9ff9a": {
     "views": []
    },
    "566fd2e9fc984858b135cdf5c2159af0": {
     "views": []
    },
    "5e3a8f6cc4af46dd944bad9f79f526ea": {
     "views": []
    },
    "636b0a79e2f54483bf7580e7a0545564": {
     "views": []
    },
    "643a564c38bd41dea24bb97d584211ac": {
     "views": []
    },
    "a8e09130d3584094901d4d180448cba7": {
     "views": [
      {
       "cell_index": 0
      }
     ]
    },
    "a8e2cd538a7b4dee8ca9372eeead2136": {
     "views": []
    },
    "bc9cf7e631f24484bb10bda46157ba30": {
     "views": []
    },
    "d878140891e348afa2c20093f04702de": {
     "views": []
    },
    "e291840410c34073bebb764020239c7f": {
     "views": []
    },
    "e2af5b9b984640e7bf2bad61198c1af6": {
     "views": []
    },
    "e2f98976cdd94c61b262c3a18f8ba726": {
     "views": []
    },
    "f3fd04363c384031bca6f0378cd46c8f": {
     "views": []
    }
   },
   "version": "1.1.2"
  }
 },
 "nbformat": 4,
 "nbformat_minor": 1
}
