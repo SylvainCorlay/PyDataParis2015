{
 "cells": [
  {
   "cell_type": "markdown",
   "metadata": {
    "collapsed": true
   },
   "source": [
    "# A `CookieCutter` template project\n",
    "\n",
    " - Takes care of all the boilerplate for creating a new custom widget project\n",
    " - Based on Audrey Roy Greenfeld's (@audreyr) cookiecutter project.\n",
    " - URL of the project: https://github.com/jupyter/widget-cookiecutter\n",
    " \n",
    "<img src=\"cookiecutter.jpg\" style=\"width:200px\"></img>\n",
    "\n",
    "```\n",
    "pip install cookiecutter\n",
    "cookiecutter https://github.com/jupyter/widget-cookiecutter.git\n",
    "```\n",
    "\n",
    "The cookiecutter project is meant to help custom widget authors get started with the packaging and the distribution of Jupyter interactive widgets.\n",
    "\n",
    "It produces a project for a Jupyter interactive widget library following the current best practices for using interactive widgets. An implementation for a placeholder \"Hello World\" widget is provided\n",
    "\n",
    "\n",
    "# Tutorial to create a new custom widget"
   ]
  },
  {
   "cell_type": "code",
   "execution_count": null,
   "metadata": {
    "collapsed": true
   },
   "outputs": [],
   "source": []
  }
 ],
 "metadata": {
  "kernelspec": {
   "display_name": "Python 2",
   "language": "python",
   "name": "python2"
  },
  "language_info": {
   "codemirror_mode": {
    "name": "ipython",
    "version": 2
   },
   "file_extension": ".py",
   "mimetype": "text/x-python",
   "name": "python",
   "nbconvert_exporter": "python",
   "pygments_lexer": "ipython2",
   "version": "2.7.11"
  },
  "widgets": {
   "state": {},
   "version": "1.1.2"
  }
 },
 "nbformat": 4,
 "nbformat_minor": 1
}
