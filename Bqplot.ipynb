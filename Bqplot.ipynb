{
 "cells": [
  {
   "cell_type": "markdown",
   "metadata": {},
   "source": [
    "# bqplot https://github.com/bloomberg/bqplot\n",
    "\n",
    "## A Jupyter - d3.js bridge\n",
    "\n",
    "bqplot is a jupyter interactive widget library bringing d3.js visualization to the Jupyter notebook.\n",
    "\n",
    "- Apache Licensed\n",
    "\n",
    "bqplot implements the abstractions of Wilkinson’s “The Grammar of Graphics” as interactive Jupyter widgets.\n",
    "\n",
    "bqplot provides both\n",
    "-\thigh-level plotting procedures with relevant defaults for common chart types,\n",
    "-\tlower-level descriptions of data visualizations meant for complex interactive visualization dashboards and applications involving mouse interactions and user-provided Python callbacks.\n",
    "\n",
    "**Installation:**\n",
    "\n",
    "```bash\n",
    "conda install -c conda-forge bqplot\n",
    "```\n",
    "\n",
    "**People**\n",
    "\n",
    "Srinivas Sunkara, Sylvain Corlay, Dhruv Madeka, Romain Menegaux, Jason Grout, Chakri Cherukuri"
   ]
  },
  {
   "cell_type": "code",
   "execution_count": 1,
   "metadata": {
    "collapsed": true
   },
   "outputs": [],
   "source": [
    "from __future__ import print_function\n",
    "from IPython.display import display\n",
    "from ipywidgets import *\n",
    "from traitlets import *\n",
    "\n",
    "import numpy as np\n",
    "import pandas as pd\n",
    "import bqplot as bq\n",
    "import datetime as dt"
   ]
  },
  {
   "cell_type": "code",
   "execution_count": 2,
   "metadata": {
    "collapsed": false
   },
   "outputs": [],
   "source": [
    "np.random.seed(0)\n",
    "size = 100\n",
    "y_data = np.cumsum(np.random.randn(size) * 100.0)\n",
    "y_data_2 = np.cumsum(np.random.randn(size))\n",
    "y_data_3 = np.cumsum(np.random.randn(size) * 100.)\n",
    "\n",
    "x = np.linspace(0.0, 10.0, size)\n",
    "\n",
    "price_data = pd.DataFrame(np.cumsum(np.random.randn(150, 2).dot([[0.5, 0.8], [0.8, 1.0]]), axis=0) + 100,\n",
    "                          columns=['Security 1', 'Security 2'],\n",
    "                          index=pd.date_range(start='01-01-2007', periods=150))\n",
    "\n",
    "symbol = 'Security 1'\n",
    "dates_all = price_data.index.values\n",
    "final_prices = price_data[symbol].values.flatten()"
   ]
  },
  {
   "cell_type": "markdown",
   "metadata": {},
   "source": [
    "# A simple plot with the pyplot API"
   ]
  },
  {
   "cell_type": "code",
   "execution_count": 3,
   "metadata": {
    "collapsed": true
   },
   "outputs": [],
   "source": [
    "from bqplot import pyplot as plt"
   ]
  },
  {
   "cell_type": "code",
   "execution_count": 4,
   "metadata": {
    "collapsed": true
   },
   "outputs": [],
   "source": [
    "plt.figure(1)\n",
    "n = 100\n",
    "plt.plot(np.linspace(0.0, 10.0, n), np.cumsum(np.random.randn(n)), \n",
    "         axes_options={'y': {'grid_lines': 'dashed'}})\n",
    "plt.show()"
   ]
  },
  {
   "cell_type": "markdown",
   "metadata": {},
   "source": [
    "### Scatter Plot"
   ]
  },
  {
   "cell_type": "code",
   "execution_count": 5,
   "metadata": {
    "collapsed": true
   },
   "outputs": [],
   "source": [
    "plt.figure(title='Scatter Plot with colors')\n",
    "plt.scatter(y_data_2, y_data_3, color=y_data)\n",
    "plt.show()"
   ]
  },
  {
   "cell_type": "markdown",
   "metadata": {},
   "source": [
    "### Histogram"
   ]
  },
  {
   "cell_type": "code",
   "execution_count": 6,
   "metadata": {
    "collapsed": true
   },
   "outputs": [],
   "source": [
    "plt.figure()\n",
    "plt.hist(y_data, colors=['OrangeRed'])\n",
    "plt.show()"
   ]
  },
  {
   "cell_type": "markdown",
   "metadata": {},
   "source": [
    "# bqplot API: an implementation of the grammar of graphics"
   ]
  },
  {
   "cell_type": "code",
   "execution_count": 7,
   "metadata": {
    "collapsed": true
   },
   "outputs": [],
   "source": [
    "size = 100\n",
    "x_data = range(size)\n",
    "np.random.seed(0)\n",
    "y_data = np.cumsum(np.random.randn(size) * 100.0)\n",
    "y_data_2 = np.cumsum(np.random.randn(size))\n",
    "y_data_3 = np.cumsum(np.random.randn(size) * 100.)"
   ]
  },
  {
   "cell_type": "code",
   "execution_count": 8,
   "metadata": {
    "collapsed": true
   },
   "outputs": [],
   "source": [
    "sc_ord = bq.OrdinalScale()\n",
    "sc_y = bq.LinearScale()\n",
    "sc_y_2 = bq.LinearScale()\n",
    "\n",
    "ord_ax = bq.Axis(label='Test X', scale=sc_ord, tick_format='0.0f', grid_lines='none')\n",
    "y_ax = bq.Axis(label='Test Y', scale=sc_y, \n",
    "               orientation='vertical', tick_format='0.2f', \n",
    "               grid_lines='solid')\n",
    "y_ax_2 = bq.Axis(label='Test Y 2', scale=sc_y_2, \n",
    "                 orientation='vertical', side='right', \n",
    "                 tick_format='0.0f', grid_lines='solid')"
   ]
  },
  {
   "cell_type": "code",
   "execution_count": 9,
   "metadata": {
    "collapsed": false
   },
   "outputs": [],
   "source": [
    "line_chart = bq.Lines(x=x_data[:10], y = [y_data[:10], y_data_2[:10] * 100, y_data_3[:10]],\n",
    "                      scales={'x': sc_ord, 'y': sc_y},\n",
    "                      labels=['Line1', 'Line2', 'Line3'], \n",
    "                      display_legend=True)\n",
    "\n",
    "bar_chart = bq.Bars(x=x_data[:10], \n",
    "                    y=[y_data[:10], y_data_2[:10] * 100, y_data_3[:10]], \n",
    "                    scales={'x': sc_ord, 'y': sc_y_2},\n",
    "                    labels=['Bar1', 'Bar2', 'Bar3'],\n",
    "                    display_legend=True)\n",
    "\n",
    "fig = bq.Figure(axes=[ord_ax, y_ax],  marks=[bar_chart, line_chart], legend_location = 'top-left')\n",
    "\n",
    "# the line does not have a Y value set. So only the bars will be displayed\n",
    "display(fig)"
   ]
  },
  {
   "cell_type": "markdown",
   "metadata": {},
   "source": [
    "# Every component of the figure is an independent widget"
   ]
  },
  {
   "cell_type": "code",
   "execution_count": 10,
   "metadata": {
    "collapsed": true
   },
   "outputs": [],
   "source": [
    "xs = bq.LinearScale()\n",
    "ys = bq.LinearScale()\n",
    "x = np.arange(100)\n",
    "y = np.cumsum(np.random.randn(2, 100), axis=1) #two random walks\n",
    "\n",
    "line = bq.Lines(x=x, y=y, scales={'x': xs, 'y': ys}, colors=['red', 'green'])\n",
    "xax = bq.Axis(scale=xs, label='x', grid_lines='solid')\n",
    "yax = bq.Axis(scale=ys, orientation='vertical', tick_format='0.2f', label='y', grid_lines='solid')\n",
    "\n",
    "fig = bq.Figure(marks=[line], axes=[xax, yax], animation_duration=1000)\n",
    "display(fig)"
   ]
  },
  {
   "cell_type": "code",
   "execution_count": 11,
   "metadata": {
    "collapsed": true
   },
   "outputs": [],
   "source": [
    "# update data of the line mark\n",
    "line.y = np.cumsum(np.random.randn(2, 100), axis=1)"
   ]
  },
  {
   "cell_type": "code",
   "execution_count": 12,
   "metadata": {
    "collapsed": true
   },
   "outputs": [],
   "source": [
    "xs = bq.LinearScale()\n",
    "ys = bq.LinearScale()\n",
    "x, y = np.random.rand(2, 20)\n",
    "scatt = bq.Scatter(x=x, y=y, scales={'x': xs, 'y': ys}, default_colors=['blue'])\n",
    "xax = bq.Axis(scale=xs, label='x', grid_lines='solid')\n",
    "yax = bq.Axis(scale=ys, orientation='vertical', tick_format='0.2f', label='y', grid_lines='solid')\n",
    "\n",
    "fig = bq.Figure(marks=[scatt], axes=[xax, yax], animation_duration=1000)\n",
    "display(fig)"
   ]
  },
  {
   "cell_type": "code",
   "execution_count": 13,
   "metadata": {
    "collapsed": true
   },
   "outputs": [],
   "source": [
    "#data updates\n",
    "scatt.x = np.random.rand(20) * 10\n",
    "scatt.y = np.random.rand(20)"
   ]
  },
  {
   "cell_type": "markdown",
   "metadata": {},
   "source": [
    "## The same holds for the attributes of scales, axes"
   ]
  },
  {
   "cell_type": "code",
   "execution_count": 14,
   "metadata": {
    "collapsed": true
   },
   "outputs": [],
   "source": [
    "xs.min = 4"
   ]
  },
  {
   "cell_type": "code",
   "execution_count": 15,
   "metadata": {
    "collapsed": true
   },
   "outputs": [],
   "source": [
    "xs.min = None"
   ]
  },
  {
   "cell_type": "code",
   "execution_count": 16,
   "metadata": {
    "collapsed": true
   },
   "outputs": [],
   "source": [
    "xax.label = 'Some label for the x axis'"
   ]
  },
  {
   "cell_type": "markdown",
   "metadata": {},
   "source": [
    "## Wiring bqplot widgets with other Jupyter widgets"
   ]
  },
  {
   "cell_type": "code",
   "execution_count": 17,
   "metadata": {
    "collapsed": true
   },
   "outputs": [],
   "source": [
    "size = 100\n",
    "x_data = np.random.randn(size)\n",
    "y_data = np.cumsum(np.random.randn(size)  * 100.0)\n",
    "color_data = np.cumsum(np.random.randn(size))\n",
    "rotation_data = np.sin(x_data * 0.1)"
   ]
  },
  {
   "cell_type": "code",
   "execution_count": 18,
   "metadata": {
    "collapsed": true
   },
   "outputs": [],
   "source": [
    "from bqplot import *\n",
    "\n",
    "x_sc = bq.LinearScale()\n",
    "y_sc = bq.LinearScale()\n",
    "c_sc = bq.ColorScale()\n",
    "r_sc = bq.LinearScale()\n",
    "s_sc = bq.LinearScale()\n",
    "\n",
    "ax_x = bq.Axis(label='X Axis', scale=x_sc, grid_lines='solid')\n",
    "ax_y = bq.Axis(label='Y Axis', scale=y_sc, orientation='vertical', grid_lines='solid')\n",
    "ax_c = bq.ColorAxis(label='Color Scale', scale=c_sc, orientation='horizontal')\n",
    "\n",
    "scatter = bq.Scatter(x=x_data,\n",
    "                     y=y_data,\n",
    "                     color=color_data,\n",
    "                     rotation=rotation_data,\n",
    "                     marker='arrow',\n",
    "                     animate_dur=1000,\n",
    "                     default_size=100,\n",
    "                     scales={'x': x_sc, 'y': y_sc, 'color': c_sc, 'rotation': r_sc, 'size': s_sc})\n",
    "\n",
    "fig = bq.Figure(axes=[ax_x, ax_y, ax_c], marks=[scatter])\n",
    "fig"
   ]
  },
  {
   "cell_type": "code",
   "execution_count": 19,
   "metadata": {
    "collapsed": false
   },
   "outputs": [],
   "source": [
    "from ipywidgets import FloatSlider\n",
    "\n",
    "# Wiring the rotation parameter with a slider\n",
    "def handle_slider(change):\n",
    "    new = change['new']\n",
    "    scatter.rotation = np.cos(10 * new * x_data)\n",
    "    scatter.size = np.sin(10 * new * x_data)\n",
    "\n",
    "handle_slider({'new': 0.5})\n",
    "slider = FloatSlider(value=0.5, min=0, max=1.0, step=0.01, description='Adjust rotation')\n",
    "slider.observe(handle_slider, names=['value'])\n",
    "\n",
    "slider"
   ]
  },
  {
   "cell_type": "markdown",
   "metadata": {},
   "source": [
    "# More advanced visualization: Historical GDP per Capita"
   ]
  },
  {
   "cell_type": "code",
   "execution_count": 20,
   "metadata": {
    "collapsed": false
   },
   "outputs": [],
   "source": [
    "data = pd.read_csv('country_codes.csv', index_col=[0])\n",
    "country_codes = data.index.values\n",
    "country_names = data['Name']\n",
    "\n",
    "gdp_data = pd.read_csv('gdp_per_capita.csv', index_col=[0], parse_dates=True)\n",
    "gdp_data.fillna(method='backfill', inplace=True)\n",
    "gdp_data.fillna(method='ffill', inplace=True)\n",
    "\n",
    "data['GDP'] = gdp_data.ix[-1]\n",
    "\n",
    "continents = data['Continent'].values"
   ]
  },
  {
   "cell_type": "code",
   "execution_count": 21,
   "metadata": {
    "collapsed": false
   },
   "outputs": [],
   "source": [
    "# Creating the figure to be displayed as the tooltip\n",
    "sc_x = bq.DateScale()\n",
    "sc_y = bq.LinearScale()\n",
    "sc_c = bq.ColorScale(scheme='Greens')\n",
    "\n",
    "ax_x = bq.Axis(scale=sc_x, grid_lines='dashed', label='Date')\n",
    "ax_y = bq.Axis(scale=sc_y, orientation='vertical', grid_lines='dashed',\n",
    "               label='GDP', label_location='end', label_offset='-1em')\n",
    "ax_c = bq.ColorAxis(scale=sc_c)\n",
    "\n",
    "line = bq.Lines(x=gdp_data.index.values, scales={'x': sc_x, 'y': sc_y}, colors=['orange'])\n",
    "fig_tooltip = bq.Figure(marks=[line], axes=[ax_x, ax_y], min_width=600, min_height=400)"
   ]
  },
  {
   "cell_type": "code",
   "execution_count": 22,
   "metadata": {
    "collapsed": false
   },
   "outputs": [],
   "source": [
    "from bqplot.market_map import MarketMap\n",
    "market_map = MarketMap(names=country_codes, groups=continents,\n",
    "                       cols=25, row_groups=3,\n",
    "                       color=data['GDP'], scales={'color': sc_c}, axes=[ax_c],\n",
    "                       ref_data=data, tooltip_widget=fig_tooltip)\n",
    "\n",
    "# Update the tooltip\n",
    "hovered_symbol = ''\n",
    "def hover_handler(self, content):\n",
    "    global hovered_symbol\n",
    "    symbol = content.get('ref_data', {}).get('Country Code', '')\n",
    "    if(symbol != hovered_symbol):\n",
    "        hovered_symbol = symbol\n",
    "        if(gdp_data.get(hovered_symbol) is not None):\n",
    "            line.y = gdp_data[hovered_symbol].values\n",
    "            fig_tooltip.title = content.get('ref_data', {}).get('Name', '')\n",
    "               \n",
    "# Custom msg sent when a cell is hovered on\n",
    "market_map.on_hover(hover_handler)\n",
    "market_map"
   ]
  },
  {
   "cell_type": "code",
   "execution_count": 23,
   "metadata": {
    "collapsed": false
   },
   "outputs": [],
   "source": [
    "fig_tooltip.background_color = 'white'"
   ]
  },
  {
   "cell_type": "markdown",
   "metadata": {},
   "source": [
    "## Use bqplot figures as input widgets"
   ]
  },
  {
   "cell_type": "code",
   "execution_count": 24,
   "metadata": {
    "collapsed": true
   },
   "outputs": [],
   "source": [
    "xs = bq.LinearScale()\n",
    "ys = bq.LinearScale()\n",
    "x = np.arange(100)\n",
    "y = np.cumsum(np.random.randn(2, 100), axis=1) #two random walks\n",
    "\n",
    "line = bq.Lines(x=x, y=y, scales={'x': xs, 'y': ys}, colors=['red', 'green'])\n",
    "xax = bq.Axis(scale=xs, label='x', grid_lines='solid')\n",
    "yax = bq.Axis(scale=ys, orientation='vertical', tick_format='0.2f', label='y', grid_lines='solid')"
   ]
  },
  {
   "cell_type": "markdown",
   "metadata": {},
   "source": [
    "## Selections"
   ]
  },
  {
   "cell_type": "code",
   "execution_count": 25,
   "metadata": {
    "collapsed": false
   },
   "outputs": [],
   "source": [
    "def interval_change_callback(change):\n",
    "    db.value = str(change['new'])\n",
    "\n",
    "intsel = bq.interacts.FastIntervalSelector(scale=xs, marks=[line])\n",
    "intsel.observe(interval_change_callback, names=['selected'] )\n",
    "\n",
    "db = widgets.Label()\n",
    "db.value = str(intsel.selected)\n",
    "display(db)"
   ]
  },
  {
   "cell_type": "code",
   "execution_count": 29,
   "metadata": {
    "collapsed": false
   },
   "outputs": [],
   "source": [
    "fig = bq.Figure(marks=[line], axes=[xax, yax], animation_duration=1000, interaction=intsel)\n",
    "display(fig)"
   ]
  },
  {
   "cell_type": "code",
   "execution_count": 30,
   "metadata": {
    "collapsed": false
   },
   "outputs": [
    {
     "data": {
      "text/plain": [
       "[0,\n",
       " 1,\n",
       " 2,\n",
       " 3,\n",
       " 4,\n",
       " 5,\n",
       " 6,\n",
       " 7,\n",
       " 8,\n",
       " 9,\n",
       " 10,\n",
       " 11,\n",
       " 12,\n",
       " 13,\n",
       " 14,\n",
       " 15,\n",
       " 16,\n",
       " 17,\n",
       " 18,\n",
       " 19,\n",
       " 20,\n",
       " 21,\n",
       " 22,\n",
       " 23,\n",
       " 24]"
      ]
     },
     "execution_count": 30,
     "metadata": {},
     "output_type": "execute_result"
    }
   ],
   "source": [
    "line.selected"
   ]
  },
  {
   "cell_type": "markdown",
   "metadata": {},
   "source": [
    "# Handraw"
   ]
  },
  {
   "cell_type": "code",
   "execution_count": 31,
   "metadata": {
    "collapsed": false
   },
   "outputs": [],
   "source": [
    "handdraw = bq.interacts.HandDraw(lines=line)\n",
    "fig.interaction = handdraw"
   ]
  },
  {
   "cell_type": "code",
   "execution_count": 32,
   "metadata": {
    "collapsed": false
   },
   "outputs": [
    {
     "data": {
      "text/plain": [
       "array([0.22246316400860677, 0.1340876408094518, 0.23246554762492744,\n",
       "       0.6138818018340984, 0.6813740590749051, 0.6977121431877976,\n",
       "       0.9820266621857422, 1.397427288356869, 0.3659448280416113,\n",
       "       -1.064046430643837, -1.125684482816052, -2.55841997275016,\n",
       "       -2.4708885018284894, -1.5321416261461793, -0.9250299542301335,\n",
       "       -1.9732003610556066, -2.833462813013125, -2.5051615180123696,\n",
       "       -2.9064593231458797, -3.223114618197987, -2.6262081369500327,\n",
       "       -3.613494830407685, -4.014729540318868, -4.814812016403469,\n",
       "       -5.857941514438824, -6.715019703109989, -6.037557533763577,\n",
       "       -5.985737144281155, -6.86489777311623, -7.095999380709226,\n",
       "       -8.734806687831403, -9.468119495415069, -7.318544960547782,\n",
       "       -7.408788810213532, -6.67712988318314, -6.742618258327623,\n",
       "       -6.394449023085814, -5.73119093340664, -0.9872430070151061,\n",
       "       -6.86674378820707, -5.287878593790582, -6.083379143843873,\n",
       "       -6.649818997576092, -6.957510274943093, -6.688486201766847,\n",
       "       -6.163568338120965, -4.8961566833023085, -4.396658449833649,\n",
       "       -4.458711575631983, -3.1995444460211693, -2.495433423879587,\n",
       "       -3.9911129401366034, -1.464744699780605, 0.30517668841612866,\n",
       "       0.13696246564905457, 0.5148725673875296, 1.8392313173833688,\n",
       "       1.667030524686486, 2.3973823150635054, 3.5019607886349817,\n",
       "       2.4871348809005407, 1.8848030273176786, 2.80621142512826,\n",
       "       3.2670259022770907, 4.190822462591037, 4.058254447937319,\n",
       "       3.769249236983086, 1.7706097613997132, 0.6246093348922699,\n",
       "       0.6716754295507635, 1.496232649115, 2.0274110156506953,\n",
       "       1.8991690416229932, 1.6273974751322964, 1.8445771077705766,\n",
       "       1.9227882888627288, 3.327333803802441, 3.4737745742806907,\n",
       "       1.9925286120833923, 0.7199704770510753, 2.2387298140146554,\n",
       "       1.067569352564575, 1.8320668055981086, 1.5636940703887274,\n",
       "       1.393935776486242, 1.259802993717822, 2.4811879531770202,\n",
       "       2.2883461246330556, 2.2550268417879025, 0.7242233443884099,\n",
       "       0.9309138560964132, 1.461956363074473, 1.70110194372826,\n",
       "       3.098998204814995, 3.154169559595227, 3.4531470157142445,\n",
       "       5.101651025982424, 3.551636836624276, 3.095811488824907,\n",
       "       4.5219702408441735], dtype=object)"
      ]
     },
     "execution_count": 32,
     "metadata": {},
     "output_type": "execute_result"
    }
   ],
   "source": [
    "line.y[0]"
   ]
  }
 ],
 "metadata": {
  "kernelspec": {
   "display_name": "Python 2",
   "language": "python",
   "name": "python2"
  },
  "language_info": {
   "codemirror_mode": {
    "name": "ipython",
    "version": 2
   },
   "file_extension": ".py",
   "mimetype": "text/x-python",
   "name": "python",
   "nbconvert_exporter": "python",
   "pygments_lexer": "ipython2",
   "version": "2.7.11"
  },
  "widgets": {
   "state": {},
   "version": "1.1.1"
  }
 },
 "nbformat": 4,
 "nbformat_minor": 1
}
