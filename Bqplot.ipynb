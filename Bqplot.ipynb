{
 "cells": [
  {
   "cell_type": "markdown",
   "metadata": {},
   "source": [
    "# bqplot https://github.com/bloomberg/bqplot\n",
    "\n",
    "## A Jupyter - d3.js bridge\n",
    "\n",
    "bqplot is a jupyter interactive widget library bringing d3.js visualization to the Jupyter notebook.\n",
    "\n",
    "- Apache Licensed\n",
    "\n",
    "bqplot implements the abstractions of Wilkinson’s “The Grammar of Graphics” as interactive Jupyter widgets.\n",
    "\n",
    "bqplot provides both\n",
    "-\thigh-level plotting procedures with relevant defaults for common chart types,\n",
    "-\tlower-level descriptions of data visualizations meant for complex interactive visualization dashboards and applications involving mouse interactions and user-provided Python callbacks.\n",
    "\n",
    "**Installation:**\n",
    "\n",
    "```bash\n",
    "conda install -c conda-forge bqplot\n",
    "```\n",
    "\n",
    "**People**\n",
    "\n",
    "<table border=\"1\" style=\"width:100%\">\n",
    "  <tr>\n",
    "    <td><img src='./srinu.jpg' style='height: 170px'/></td>\n",
    "    <td><img src='./sylvain.png' style='height: 170px'/></td> \n",
    "    <td><img src='./dhruv.jpg' style='height: 170px'/></td>\n",
    "    <td><img src='./romain.jpg' style='height: 170px'/></td> \n",
    "    <td><img src='./jason.jpeg' style='height: 170px'/></td>\n",
    "  </tr>\n",
    "  <tr>\n",
    "    <td>Srinivas Sunkara</td>\n",
    "    <td>Sylvain Corlay</td> \n",
    "    <td>Dhruv Madeka</td>\n",
    "    <td>Romain Menegaux</td>\n",
    "    <td>Jason Grout</td>\n",
    "  </tr>\n",
    "</table>"
   ]
  },
  {
   "cell_type": "code",
   "execution_count": 1,
   "metadata": {
    "collapsed": true
   },
   "outputs": [],
   "source": [
    "from __future__ import print_function\n",
    "from IPython.display import display\n",
    "from ipywidgets import *\n",
    "from traitlets import *\n",
    "\n",
    "import numpy as np\n",
    "import pandas as pd\n",
    "import bqplot as bq\n",
    "import datetime as dt"
   ]
  },
  {
   "cell_type": "code",
   "execution_count": 2,
   "metadata": {
    "collapsed": false
   },
   "outputs": [],
   "source": [
    "np.random.seed(0)\n",
    "size = 100\n",
    "y_data = np.cumsum(np.random.randn(size) * 100.0)\n",
    "y_data_2 = np.cumsum(np.random.randn(size))\n",
    "y_data_3 = np.cumsum(np.random.randn(size) * 100.)\n",
    "\n",
    "x = np.linspace(0.0, 10.0, size)\n",
    "\n",
    "price_data = pd.DataFrame(np.cumsum(np.random.randn(150, 2).dot([[0.5, 0.8], [0.8, 1.0]]), axis=0) + 100,\n",
    "                          columns=['Security 1', 'Security 2'],\n",
    "                          index=pd.date_range(start='01-01-2007', periods=150))\n",
    "\n",
    "symbol = 'Security 1'\n",
    "dates_all = price_data.index.values\n",
    "final_prices = price_data[symbol].values.flatten()"
   ]
  },
  {
   "cell_type": "markdown",
   "metadata": {},
   "source": [
    "# A simple plot with the pyplot API"
   ]
  },
  {
   "cell_type": "code",
   "execution_count": 3,
   "metadata": {
    "collapsed": true
   },
   "outputs": [],
   "source": [
    "from bqplot import pyplot as plt"
   ]
  },
  {
   "cell_type": "code",
   "execution_count": 4,
   "metadata": {
    "collapsed": true
   },
   "outputs": [],
   "source": [
    "plt.figure(1)\n",
    "n = 100\n",
    "plt.plot(np.linspace(0.0, 10.0, n), np.cumsum(np.random.randn(n)), \n",
    "         axes_options={'y': {'grid_lines': 'dashed'}})\n",
    "plt.show()"
   ]
  },
  {
   "cell_type": "markdown",
   "metadata": {},
   "source": [
    "### Scatter Plot"
   ]
  },
  {
   "cell_type": "code",
   "execution_count": 7,
   "metadata": {
    "collapsed": true
   },
   "outputs": [],
   "source": [
    "plt.figure(title='Scatter Plot with colors')\n",
    "plt.scatter(y_data_2, y_data_3, color=y_data)\n",
    "plt.show()"
   ]
  },
  {
   "cell_type": "markdown",
   "metadata": {},
   "source": [
    "### Histogram"
   ]
  },
  {
   "cell_type": "code",
   "execution_count": 8,
   "metadata": {
    "collapsed": true
   },
   "outputs": [],
   "source": [
    "plt.figure()\n",
    "plt.hist(y_data, colors=['OrangeRed'])\n",
    "plt.show()"
   ]
  },
  {
   "cell_type": "markdown",
   "metadata": {},
   "source": [
    "# bqplot API: an implementation of the grammar of graphics"
   ]
  },
  {
   "cell_type": "code",
   "execution_count": 9,
   "metadata": {
    "collapsed": true
   },
   "outputs": [],
   "source": [
    "size = 100\n",
    "x_data = range(size)\n",
    "np.random.seed(0)\n",
    "y_data = np.cumsum(np.random.randn(size) * 100.0)\n",
    "y_data_2 = np.cumsum(np.random.randn(size))\n",
    "y_data_3 = np.cumsum(np.random.randn(size) * 100.)"
   ]
  },
  {
   "cell_type": "code",
   "execution_count": 10,
   "metadata": {
    "collapsed": true
   },
   "outputs": [],
   "source": [
    "sc_ord = bq.OrdinalScale()\n",
    "sc_y = bq.LinearScale()\n",
    "sc_y_2 = bq.LinearScale()\n",
    "\n",
    "ord_ax = bq.Axis(label='Test X', scale=sc_ord, tick_format='0.0f', grid_lines='none')\n",
    "y_ax = bq.Axis(label='Test Y', scale=sc_y, \n",
    "               orientation='vertical', tick_format='0.2f', \n",
    "               grid_lines='solid')\n",
    "y_ax_2 = bq.Axis(label='Test Y 2', scale=sc_y_2, \n",
    "                 orientation='vertical', side='right', \n",
    "                 tick_format='0.0f', grid_lines='solid')"
   ]
  },
  {
   "cell_type": "code",
   "execution_count": 11,
   "metadata": {
    "collapsed": false
   },
   "outputs": [],
   "source": [
    "line_chart = bq.Lines(x=x_data[:10], y = [y_data[:10], y_data_2[:10] * 100, y_data_3[:10]],\n",
    "                      scales={'x': sc_ord, 'y': sc_y},\n",
    "                      labels=['Line1', 'Line2', 'Line3'], \n",
    "                      display_legend=True)\n",
    "\n",
    "bar_chart = bq.Bars(x=x_data[:10], \n",
    "                    y=[y_data[:10], y_data_2[:10] * 100, y_data_3[:10]], \n",
    "                    scales={'x': sc_ord, 'y': sc_y_2},\n",
    "                    labels=['Bar1', 'Bar2', 'Bar3'],\n",
    "                    display_legend=True)\n",
    "\n",
    "fig = bq.Figure(axes=[ord_ax, y_ax],  marks=[bar_chart, line_chart], legend_location = 'top-left')\n",
    "\n",
    "# the line does not have a Y value set. So only the bars will be displayed\n",
    "display(fig)"
   ]
  },
  {
   "cell_type": "markdown",
   "metadata": {},
   "source": [
    "# Every component of the figure is an independent widget"
   ]
  },
  {
   "cell_type": "code",
   "execution_count": 12,
   "metadata": {
    "collapsed": true
   },
   "outputs": [],
   "source": [
    "xs = bq.LinearScale()\n",
    "ys = bq.LinearScale()\n",
    "x = np.arange(100)\n",
    "y = np.cumsum(np.random.randn(2, 100), axis=1) #two random walks\n",
    "\n",
    "line = bq.Lines(x=x, y=y, scales={'x': xs, 'y': ys}, colors=['red', 'green'])\n",
    "xax = bq.Axis(scale=xs, label='x', grid_lines='solid')\n",
    "yax = bq.Axis(scale=ys, orientation='vertical', tick_format='0.2f', label='y', grid_lines='solid')\n",
    "\n",
    "fig = bq.Figure(marks=[line], axes=[xax, yax], animation_duration=1000)\n",
    "display(fig)"
   ]
  },
  {
   "cell_type": "code",
   "execution_count": 13,
   "metadata": {
    "collapsed": true
   },
   "outputs": [],
   "source": [
    "# update data of the line mark\n",
    "line.y = np.cumsum(np.random.randn(2, 100), axis=1)"
   ]
  },
  {
   "cell_type": "code",
   "execution_count": 14,
   "metadata": {
    "collapsed": true
   },
   "outputs": [],
   "source": [
    "xs = bq.LinearScale()\n",
    "ys = bq.LinearScale()\n",
    "x, y = np.random.rand(2, 20)\n",
    "scatt = bq.Scatter(x=x, y=y, scales={'x': xs, 'y': ys}, default_colors=['blue'])\n",
    "xax = bq.Axis(scale=xs, label='x', grid_lines='solid')\n",
    "yax = bq.Axis(scale=ys, orientation='vertical', tick_format='0.2f', label='y', grid_lines='solid')\n",
    "\n",
    "fig = bq.Figure(marks=[scatt], axes=[xax, yax], animation_duration=1000)\n",
    "display(fig)"
   ]
  },
  {
   "cell_type": "code",
   "execution_count": 15,
   "metadata": {
    "collapsed": true
   },
   "outputs": [],
   "source": [
    "#data updates\n",
    "scatt.x = np.random.rand(20) * 10\n",
    "scatt.y = np.random.rand(20)"
   ]
  },
  {
   "cell_type": "markdown",
   "metadata": {},
   "source": [
    "## The same holds for the attributes of scales, axes"
   ]
  },
  {
   "cell_type": "code",
   "execution_count": 16,
   "metadata": {
    "collapsed": true
   },
   "outputs": [],
   "source": [
    "xs.min = 4"
   ]
  },
  {
   "cell_type": "code",
   "execution_count": 17,
   "metadata": {
    "collapsed": true
   },
   "outputs": [],
   "source": [
    "xs.min = None"
   ]
  },
  {
   "cell_type": "code",
   "execution_count": 18,
   "metadata": {
    "collapsed": true
   },
   "outputs": [],
   "source": [
    "xax.label = 'Some label for the x axis'"
   ]
  },
  {
   "cell_type": "markdown",
   "metadata": {},
   "source": [
    "## Wiring bqplot widgets with other Jupyter widgets"
   ]
  },
  {
   "cell_type": "code",
   "execution_count": 19,
   "metadata": {
    "collapsed": true
   },
   "outputs": [],
   "source": [
    "size = 100\n",
    "x_data = np.random.randn(size)\n",
    "y_data = np.cumsum(np.random.randn(size)  * 100.0)\n",
    "color_data = np.cumsum(np.random.randn(size))\n",
    "rotation_data = np.sin(x_data * 0.1)"
   ]
  },
  {
   "cell_type": "code",
   "execution_count": 20,
   "metadata": {
    "collapsed": true
   },
   "outputs": [],
   "source": [
    "from bqplot import *\n",
    "\n",
    "x_sc = bq.LinearScale()\n",
    "y_sc = bq.LinearScale()\n",
    "c_sc = bq.ColorScale()\n",
    "r_sc = bq.LinearScale()\n",
    "s_sc = bq.LinearScale()\n",
    "\n",
    "ax_x = bq.Axis(label='X Axis', scale=x_sc, grid_lines='solid')\n",
    "ax_y = bq.Axis(label='Y Axis', scale=y_sc, orientation='vertical', grid_lines='solid')\n",
    "ax_c = bq.ColorAxis(label='Color Scale', scale=c_sc, orientation='horizontal')\n",
    "\n",
    "scatter = bq.Scatter(x=x_data,\n",
    "                     y=y_data,\n",
    "                     color=color_data,\n",
    "                     rotation=rotation_data,\n",
    "                     marker='arrow',\n",
    "                     animate_dur=1000,\n",
    "                     default_size=100,\n",
    "                     scales={'x': x_sc, 'y': y_sc, 'color': c_sc, 'rotation': r_sc, 'size': s_sc})\n",
    "\n",
    "fig = bq.Figure(axes=[ax_x, ax_y, ax_c], marks=[scatter])\n",
    "fig"
   ]
  },
  {
   "cell_type": "code",
   "execution_count": 21,
   "metadata": {
    "collapsed": false
   },
   "outputs": [],
   "source": [
    "from ipywidgets import FloatSlider\n",
    "\n",
    "# Wiring the rotation parameter with a slider\n",
    "def handle_slider(change):\n",
    "    new = change['new']\n",
    "    scatter.rotation = np.cos(10 * new * x_data)\n",
    "    scatter.size = np.sin(10 * new * x_data)\n",
    "\n",
    "handle_slider({'new': 0.5})\n",
    "slider = FloatSlider(value=0.5, min=0, max=1.0, step=0.01, description='Adjust rotation')\n",
    "slider.observe(handle_slider, names=['value'])\n",
    "\n",
    "slider"
   ]
  },
  {
   "cell_type": "markdown",
   "metadata": {},
   "source": [
    "## Use bqplot figures as input widgets"
   ]
  },
  {
   "cell_type": "code",
   "execution_count": 22,
   "metadata": {
    "collapsed": true
   },
   "outputs": [],
   "source": [
    "xs = bq.LinearScale()\n",
    "ys = bq.LinearScale()\n",
    "x = np.arange(100)\n",
    "y = np.cumsum(np.random.randn(2, 100), axis=1) #two random walks\n",
    "\n",
    "line = bq.Lines(x=x, y=y, scales={'x': xs, 'y': ys}, colors=['red', 'green'])\n",
    "xax = bq.Axis(scale=xs, label='x', grid_lines='solid')\n",
    "yax = bq.Axis(scale=ys, orientation='vertical', tick_format='0.2f', label='y', grid_lines='solid')"
   ]
  },
  {
   "cell_type": "markdown",
   "metadata": {},
   "source": [
    "## Selections"
   ]
  },
  {
   "cell_type": "code",
   "execution_count": 23,
   "metadata": {
    "collapsed": false
   },
   "outputs": [],
   "source": [
    "def interval_change_callback(change):\n",
    "    db.value = str(change['new'])\n",
    "\n",
    "intsel = bq.interacts.FastIntervalSelector(scale=xs, marks=[line])\n",
    "intsel.observe(interval_change_callback, names=['selected'] )\n",
    "\n",
    "db = widgets.Label()\n",
    "db.value = str(intsel.selected)\n",
    "display(db)"
   ]
  },
  {
   "cell_type": "code",
   "execution_count": 24,
   "metadata": {
    "collapsed": false
   },
   "outputs": [],
   "source": [
    "fig = bq.Figure(marks=[line], axes=[xax, yax], animation_duration=1000, interaction=intsel)\n",
    "display(fig)"
   ]
  },
  {
   "cell_type": "code",
   "execution_count": 25,
   "metadata": {
    "collapsed": false
   },
   "outputs": [],
   "source": [
    "line.selected"
   ]
  },
  {
   "cell_type": "markdown",
   "metadata": {},
   "source": [
    "# Handraw"
   ]
  },
  {
   "cell_type": "code",
   "execution_count": 26,
   "metadata": {
    "collapsed": false
   },
   "outputs": [],
   "source": [
    "handdraw = bq.interacts.HandDraw(lines=line)\n",
    "fig.interaction = handdraw"
   ]
  },
  {
   "cell_type": "code",
   "execution_count": 27,
   "metadata": {
    "collapsed": false
   },
   "outputs": [
    {
     "data": {
      "text/plain": [
       "array([0.22246316400860677, 0.1340876408094518, 0.23246554762492744,\n",
       "       0.6138818018340984, 0.6813740590749051, 0.6977121431877976,\n",
       "       0.9820266621857422, 1.397427288356869, 0.3659448280416113,\n",
       "       -1.064046430643837, -1.125684482816052, -2.55841997275016,\n",
       "       -2.4708885018284894, -1.5321416261461793, -0.9250299542301335,\n",
       "       -1.9732003610556066, -2.833462813013125, -2.5051615180123696,\n",
       "       -2.9064593231458797, -3.223114618197987, -2.6262081369500327,\n",
       "       -3.613494830407685, -4.014729540318868, -4.814812016403469,\n",
       "       -5.857941514438824, -6.715019703109989, -6.037557533763577,\n",
       "       -5.985737144281155, -6.86489777311623, -7.095999380709226,\n",
       "       -8.734806687831403, -9.468119495415069, -7.318544960547782,\n",
       "       -7.408788810213532, -6.67712988318314, -6.742618258327623,\n",
       "       -6.394449023085814, -5.73119093340664, -6.835807530933111,\n",
       "       -6.86674378820707, -5.287878593790582, -6.083379143843873,\n",
       "       -6.649818997576092, -6.957510274943093, -6.688486201766847,\n",
       "       -6.163568338120965, -4.8961566833023085, -4.396658449833649,\n",
       "       -4.458711575631983, -3.1995444460211693, -2.495433423879587,\n",
       "       -3.9911129401366034, -1.464744699780605, 0.30517668841612866,\n",
       "       0.13696246564905457, 0.5148725673875296, 1.8392313173833688,\n",
       "       1.667030524686486, 2.3973823150635054, 3.5019607886349817,\n",
       "       2.4871348809005407, 1.8848030273176786, 2.80621142512826,\n",
       "       3.2670259022770907, 4.190822462591037, 4.058254447937319,\n",
       "       3.769249236983086, 1.7706097613997132, 0.6246093348922699,\n",
       "       0.6716754295507635, 1.496232649115, 2.0274110156506953,\n",
       "       1.8991690416229932, 1.6273974751322964, 1.8445771077705766,\n",
       "       1.9227882888627288, 3.327333803802441, 3.4737745742806907,\n",
       "       1.9925286120833923, 0.7199704770510753, 2.2387298140146554,\n",
       "       1.067569352564575, 1.8320668055981086, 1.5636940703887274,\n",
       "       1.393935776486242, 1.259802993717822, 2.4811879531770202,\n",
       "       2.2883461246330556, 2.2550268417879025, 0.7242233443884099,\n",
       "       0.9309138560964132, 1.461956363074473, 1.70110194372826,\n",
       "       3.098998204814995, 3.154169559595227, 3.4531470157142445,\n",
       "       5.101651025982424, 3.551636836624276, 3.095811488824907,\n",
       "       4.5219702408441735], dtype=object)"
      ]
     },
     "execution_count": 27,
     "metadata": {},
     "output_type": "execute_result"
    }
   ],
   "source": [
    "line.y[0]"
   ]
  }
 ],
 "metadata": {
  "kernelspec": {
   "display_name": "Python 2",
   "language": "python",
   "name": "python2"
  },
  "language_info": {
   "codemirror_mode": {
    "name": "ipython",
    "version": 2
   },
   "file_extension": ".py",
   "mimetype": "text/x-python",
   "name": "python",
   "nbconvert_exporter": "python",
   "pygments_lexer": "ipython2",
   "version": "2.7.11"
  },
  "widgets": {
   "state": {
    "0311b26016ce45c28b847e49179bc491": {
     "views": []
    },
    "05467b788a5f42b982bf0ec2b33366bd": {
     "views": []
    },
    "06477bfb07f94097b52925f9948ae5c3": {
     "views": []
    },
    "06833cf77f8342f59f8151b57d667bd3": {
     "views": []
    },
    "06cf69c828d34247bd6c41bc01b78bbd": {
     "views": []
    },
    "07e4a61d43174bd38dbd0885ed87f9cb": {
     "views": []
    },
    "109d21038a8042bcaa64cb2996983589": {
     "views": [
      {
       "cell_index": 13
      }
     ]
    },
    "11218dc60ccd42c185b6837bcacf2f69": {
     "views": []
    },
    "11e0261419ba4dd9a32e86f4d9bf5089": {
     "views": []
    },
    "130b27cf2bf04f0b8870433cdc034c72": {
     "views": []
    },
    "1462e8302ba341d7909c388f9955f6ac": {
     "views": []
    },
    "14c121d64fab4d88b10f6427783bd6c6": {
     "views": []
    },
    "14d2fb9936804a1a9eeb05a5e8ce3870": {
     "views": []
    },
    "15319a3470ff448d99d20a2e93716974": {
     "views": [
      {
       "cell_index": 31
      }
     ]
    },
    "15c343dc41ad4e27a6bd8c5ebdf5997e": {
     "views": []
    },
    "16137cbb217f4d8a8099729e4a1113a6": {
     "views": []
    },
    "16fc86c0e5a1424aa49d517711f2c537": {
     "views": []
    },
    "1c0d4a19c0d346069c3b0de59a1f0dd9": {
     "views": []
    },
    "1df67822a4974f84897d91f52308674c": {
     "views": []
    },
    "1ea521cf46dd4073a26f303d68046896": {
     "views": []
    },
    "28f3adae88bb4311a543edebdd1561a7": {
     "views": []
    },
    "2965a5c2612641268923c23050611dfd": {
     "views": []
    },
    "2a008dfee82a49d79aea4e51e170ebd0": {
     "views": []
    },
    "2cca384f1a7c45fdbc75813529783863": {
     "views": []
    },
    "2d0aa286e9e74052a3d70decdf5b5308": {
     "views": []
    },
    "3067d7224f734abea726d73c47af4d7d": {
     "views": []
    },
    "3423c22f761042aabd6f02f6c1261ffd": {
     "views": []
    },
    "39e087a60ce549ebbeb237612ae7d9db": {
     "views": []
    },
    "3b31361d4caf466dbca8db8061a61acb": {
     "views": []
    },
    "3cf8cd87edf044d1ba21eb000ce497ac": {
     "views": []
    },
    "3e99e07de13a4abe8f18e196ac5c1340": {
     "views": []
    },
    "3ef07706c1b44c5bb9b00a041d2d01b1": {
     "views": []
    },
    "3f3a1789e07442ae8b68f8a180c3cc0f": {
     "views": []
    },
    "41482f0cc74140208014256c1b258312": {
     "views": []
    },
    "4165b8e98c0c4aa2931fd67f2255f1b5": {
     "views": []
    },
    "45923b95c88f400f88541c408be03225": {
     "views": []
    },
    "4628146d2d3a4ddfa97886bca9379c66": {
     "views": []
    },
    "47ddb01e4b1b4b1f991519c005480ffb": {
     "views": []
    },
    "4ad738a8b75a4bcba7b11bc94e8f73dc": {
     "views": []
    },
    "4b314cc4b2f04d178cb42144111f5bb2": {
     "views": []
    },
    "4b8be4245fb8461e97e936760d85327a": {
     "views": []
    },
    "4d8ab233c026463d910214711f21c6ca": {
     "views": []
    },
    "4e4ba97da68d4d86ac9eeffe5b63848d": {
     "views": []
    },
    "4ed8872ec89d4d2185dad30b6c5188d0": {
     "views": [
      {
       "cell_index": 7
      }
     ]
    },
    "53fc271086de49a0bd141eb3b8c69860": {
     "views": []
    },
    "551a8ebcf93d43dc93a4429056dfedbe": {
     "views": []
    },
    "562db47616e24e178519eb665dd231a2": {
     "views": []
    },
    "5f07f83d499a45bfaff0a31963d8c9c3": {
     "views": []
    },
    "6311eff3a4164b17912e6db147bf2100": {
     "views": []
    },
    "64bb079899a5483eb9ad3c3ebd9c9894": {
     "views": []
    },
    "67e3604d31e745c48a76e688c0ebb680": {
     "views": []
    },
    "680efc68b2b447c2a55f04e288ff70ee": {
     "views": [
      {
       "cell_index": 17
      }
     ]
    },
    "6aaffb3c8c8b4896a39b7451b09d4d34": {
     "views": []
    },
    "6b7a4d0ad44c4f07ba9bce1485366069": {
     "views": []
    },
    "6bd46379292b4c04b54899e52fea2a07": {
     "views": []
    },
    "6d93316eaa374ab9ac42bd90f7a40e52": {
     "views": []
    },
    "702e9568e58646b19fd218ce5c6c728a": {
     "views": []
    },
    "72346204282e4a66a87357aa631d42d7": {
     "views": []
    },
    "72359fc23d4945718a11ac0dc0fefebb": {
     "views": []
    },
    "72b93e6679444f8ab986bfe588c7ddab": {
     "views": []
    },
    "72e73cc174574a91a3d3283f80a9c5cf": {
     "views": []
    },
    "7327c447b3de47b88269d918113ce8d1": {
     "views": []
    },
    "73dd2051806f4b47aca4c5330598df68": {
     "views": []
    },
    "757bc0ea6ea641eb8b7644ce175a5f5f": {
     "views": []
    },
    "7a954fe89141404d8e892ba8271c5f90": {
     "views": []
    },
    "7b7fa39010a440a1ba0e05de3b7f30cf": {
     "views": []
    },
    "7beaf80f7cda4372ba1ae85ef17fbd82": {
     "views": []
    },
    "7c93b3e7a3464f2a8f860f1b8a7e2be5": {
     "views": [
      {
       "cell_index": 5
      }
     ]
    },
    "7ca8852125a144dc8e6ba80294519b4c": {
     "views": []
    },
    "7db2425c6a7342e6bae9ef88f801d117": {
     "views": []
    },
    "827f2affafc44bd0858fe2a29ea2aa27": {
     "views": []
    },
    "82c30ea31e674e9983d48c8f6401d78c": {
     "views": []
    },
    "82de446eaccb4aee922b2ec4fe91ddb0": {
     "views": []
    },
    "83b442b73fa949eaba83a023ee7245e8": {
     "views": []
    },
    "861402cdc1f049f0b9114f947b809228": {
     "views": []
    },
    "878fda0b39b64d039c14c8982aea668e": {
     "views": []
    },
    "87a4cef6c3b04a6c919f1ab0ca4b3e07": {
     "views": [
      {
       "cell_index": 9
      }
     ]
    },
    "890c74c4cb49419fab3d154b64e6dc4c": {
     "views": []
    },
    "89b5e68eee7240cfa3cd704f398a63a9": {
     "views": []
    },
    "8e0e622f14df4a75b054f5035e2f4591": {
     "views": []
    },
    "96a7040c94eb449f85bbe6b0a9be6478": {
     "views": []
    },
    "975b2671d95649809d6eb5d957cec50e": {
     "views": []
    },
    "9b1fb679e58444e4ba3e00d28bc61244": {
     "views": []
    },
    "9b539d3237984bdbb93279eefa41bd02": {
     "views": []
    },
    "9f52bc1edf664f7d9dc4bf9f99f65446": {
     "views": []
    },
    "a26da52542d74d6dad6e98a7a718bdc9": {
     "views": []
    },
    "a32e3284aba149d2867bf3bc28383e34": {
     "views": []
    },
    "a3b038d89ace4da4a4c7eb965e3d531d": {
     "views": []
    },
    "a5e700c69f054e048e40324e7aebc5ed": {
     "views": []
    },
    "a7aac1b94cf2497ea5b2b26af8b9fa82": {
     "views": []
    },
    "a8312ae42e204b73be5825062a4a3868": {
     "views": []
    },
    "a89e130705ea4130bb448fbaf02bcd2f": {
     "views": []
    },
    "a9de46748ccd4047bb015b0be8128134": {
     "views": [
      {
       "cell_index": 15
      }
     ]
    },
    "b0291bde248b47b29626732b2b48eaef": {
     "views": []
    },
    "b1f6d04aa5bb4b6da6cade4603a67ea9": {
     "views": []
    },
    "b4e4bd78bdab4cbcb4a18cfcc465e3c8": {
     "views": []
    },
    "b6c7cd362cc444c186ed86c1198d6388": {
     "views": [
      {
       "cell_index": 26
      }
     ]
    },
    "b9b00c4ad3594bc9aa479a140d0e4cc7": {
     "views": []
    },
    "ba529d9826864a708a55aaa59d6039b8": {
     "views": []
    },
    "ba78d8af47df43b9a1110e4c4daafce3": {
     "views": []
    },
    "bd1a14467ae2416093db490c8d25ce1b": {
     "views": []
    },
    "bed60db5516c494192c92a1180bb093c": {
     "views": []
    },
    "c11b0b75360a47ae96beca606c5e6656": {
     "views": []
    },
    "c51d4c26f5d943138f1393a61b1a6841": {
     "views": []
    },
    "c82941e6b9c647cc83e8bad3139b2a41": {
     "views": [
      {
       "cell_index": 30
      }
     ]
    },
    "cdc4f941ce7a4113b3013fdac22d759d": {
     "views": []
    },
    "cddeea7aed8645f38aef08f61851b827": {
     "views": []
    },
    "cdfeb59442ac4a0bb24aba09797037ff": {
     "views": []
    },
    "d1c9d87d95274c0a91aaa6b43de0f166": {
     "views": []
    },
    "d86229c96e074b6a97d53d9c481deee0": {
     "views": []
    },
    "d8d925f0566f4207b75c363d5837a3fb": {
     "views": []
    },
    "d909f7c31b194998bf5804428f8fd580": {
     "views": []
    },
    "daa860b956d74d2b97451fed270c2751": {
     "views": []
    },
    "dc880184cc484198bc36f4f601f2ccab": {
     "views": []
    },
    "ddda1ec2a918485a890d5acbcf261a58": {
     "views": [
      {
       "cell_index": 25
      }
     ]
    },
    "de5ac2e09c8d42dc98e5cb1420fba2cd": {
     "views": []
    },
    "e1563c28886449b086f1691fca6c9a0b": {
     "views": []
    },
    "e644ca50e7ed4e14b226086776c77e8f": {
     "views": []
    },
    "e65c23da74bd4d28bde2471062ffebe8": {
     "views": []
    },
    "f2254d3e6ef84e3d8eb4e45f2461c856": {
     "views": []
    },
    "f8ff27b7b3504c2aa69793f7b3d3d768": {
     "views": []
    },
    "fa954b85480744bebf547b2e24b74e66": {
     "views": []
    },
    "fb4ea6a4aa794692967fecb7dd494e33": {
     "views": []
    },
    "fcf898f95c7742d585774d959c5c446b": {
     "views": []
    },
    "fd307de0cb944b82a8c4a90b5113546b": {
     "views": []
    },
    "fef250f1b2844dd8b7c68db748c69b61": {
     "views": []
    },
    "ff1242316cbe404c829d2e54d17f5817": {
     "views": []
    }
   },
   "version": "1.1.2"
  }
 },
 "nbformat": 4,
 "nbformat_minor": 1
}
