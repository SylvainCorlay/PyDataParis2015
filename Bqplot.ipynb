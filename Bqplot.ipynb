{
 "cells": [
  {
   "cell_type": "markdown",
   "metadata": {},
   "source": [
    "# bqplot https://github.com/bloomberg/bqplot\n",
    "\n",
    "## A Jupyter - d3.js bridge\n",
    "\n",
    "bqplot is a jupyter interactive widget library bringing d3.js visualization to the Jupyter notebook.\n",
    "\n",
    "- Apache Licensed\n",
    "\n",
    "bqplot implements the abstractions of Wilkinson’s “The Grammar of Graphics” as interactive Jupyter widgets.\n",
    "\n",
    "bqplot provides both\n",
    "-\thigh-level plotting procedures with relevant defaults for common chart types,\n",
    "-\tlower-level descriptions of data visualizations meant for complex interactive visualization dashboards and applications involving mouse interactions and user-provided Python callbacks.\n",
    "\n",
    "**Installation: (beta version)**\n",
    "\n",
    "```bash\n",
    "pip install --pre bqplot\n",
    "jupyter nbextension enable --py bqplot\n",
    "```"
   ]
  },
  {
   "cell_type": "code",
   "execution_count": 1,
   "metadata": {
    "collapsed": true
   },
   "outputs": [],
   "source": [
    "from __future__ import print_function\n",
    "from IPython.display import display\n",
    "from ipywidgets import *\n",
    "from traitlets import *\n",
    "\n",
    "import numpy as np\n",
    "import pandas as pd\n",
    "import bqplot as bq\n",
    "import datetime as dt"
   ]
  },
  {
   "cell_type": "code",
   "execution_count": 2,
   "metadata": {
    "collapsed": false
   },
   "outputs": [],
   "source": [
    "np.random.seed(0)\n",
    "size = 100\n",
    "y_data = np.cumsum(np.random.randn(size) * 100.0)\n",
    "y_data_2 = np.cumsum(np.random.randn(size))\n",
    "y_data_3 = np.cumsum(np.random.randn(size) * 100.)\n",
    "\n",
    "x = np.linspace(0.0, 10.0, size)\n",
    "\n",
    "price_data = pd.DataFrame(np.cumsum(np.random.randn(150, 2).dot([[0.5, 0.8], [0.8, 1.0]]), axis=0) + 100,\n",
    "                          columns=['Security 1', 'Security 2'],\n",
    "                          index=pd.date_range(start='01-01-2007', periods=150))\n",
    "\n",
    "symbol = 'Security 1'\n",
    "dates_all = price_data.index.values\n",
    "final_prices = price_data[symbol].values.flatten()"
   ]
  },
  {
   "cell_type": "markdown",
   "metadata": {},
   "source": [
    "# A simple plot with the pyplot API"
   ]
  },
  {
   "cell_type": "code",
   "execution_count": 3,
   "metadata": {
    "collapsed": true
   },
   "outputs": [],
   "source": [
    "from bqplot import pyplot as plt"
   ]
  },
  {
   "cell_type": "code",
   "execution_count": 4,
   "metadata": {
    "collapsed": true
   },
   "outputs": [],
   "source": [
    "plt.figure(1)\n",
    "n = 100\n",
    "plt.plot(np.linspace(0.0, 10.0, n), np.cumsum(np.random.randn(n)), \n",
    "         axes_options={'y': {'grid_lines': 'dashed'}})\n",
    "plt.show()"
   ]
  },
  {
   "cell_type": "markdown",
   "metadata": {},
   "source": [
    "### Scatter Plot"
   ]
  },
  {
   "cell_type": "code",
   "execution_count": 5,
   "metadata": {
    "collapsed": true
   },
   "outputs": [],
   "source": [
    "plt.figure(title='Scatter Plot with colors')\n",
    "plt.scatter(y_data_2, y_data_3, color=y_data)\n",
    "plt.show()"
   ]
  },
  {
   "cell_type": "markdown",
   "metadata": {},
   "source": [
    "### Histogram"
   ]
  },
  {
   "cell_type": "code",
   "execution_count": 6,
   "metadata": {
    "collapsed": true
   },
   "outputs": [],
   "source": [
    "plt.figure()\n",
    "plt.hist(y_data, colors=['OrangeRed'])\n",
    "plt.show()"
   ]
  },
  {
   "cell_type": "markdown",
   "metadata": {},
   "source": [
    "# bqplot API: an implementation of the grammar of graphics"
   ]
  },
  {
   "cell_type": "code",
   "execution_count": 7,
   "metadata": {
    "collapsed": true
   },
   "outputs": [],
   "source": [
    "size = 100\n",
    "x_data = range(size)\n",
    "np.random.seed(0)\n",
    "y_data = np.cumsum(np.random.randn(size) * 100.0)\n",
    "y_data_2 = np.cumsum(np.random.randn(size))\n",
    "y_data_3 = np.cumsum(np.random.randn(size) * 100.)"
   ]
  },
  {
   "cell_type": "code",
   "execution_count": 8,
   "metadata": {
    "collapsed": true
   },
   "outputs": [],
   "source": [
    "sc_ord = bq.OrdinalScale()\n",
    "sc_y = bq.LinearScale()\n",
    "sc_y_2 = bq.LinearScale()\n",
    "\n",
    "ord_ax = bq.Axis(label='Test X', scale=sc_ord, tick_format='0.0f', grid_lines='none')\n",
    "y_ax = bq.Axis(label='Test Y', scale=sc_y, \n",
    "               orientation='vertical', tick_format='0.2f', \n",
    "               grid_lines='solid')\n",
    "y_ax_2 = bq.Axis(label='Test Y 2', scale=sc_y_2, \n",
    "                 orientation='vertical', side='right', \n",
    "                 tick_format='0.0f', grid_lines='solid')"
   ]
  },
  {
   "cell_type": "code",
   "execution_count": 9,
   "metadata": {
    "collapsed": false
   },
   "outputs": [],
   "source": [
    "line_chart = bq.Lines(x=x_data[:10], y = [y_data[:10], y_data_2[:10] * 100, y_data_3[:10]],\n",
    "                      scales={'x': sc_ord, 'y': sc_y},\n",
    "                      labels=['Line1', 'Line2', 'Line3'], \n",
    "                      display_legend=True)\n",
    "\n",
    "bar_chart = bq.Bars(x=x_data[:10], \n",
    "                    y=[y_data[:10], y_data_2[:10] * 100, y_data_3[:10]], \n",
    "                    scales={'x': sc_ord, 'y': sc_y_2},\n",
    "                    labels=['Bar1', 'Bar2', 'Bar3'],\n",
    "                    display_legend=True)\n",
    "\n",
    "fig = bq.Figure(axes=[ord_ax, y_ax],  marks=[bar_chart, line_chart], legend_location = 'top-left')\n",
    "\n",
    "# the line does not have a Y value set. So only the bars will be displayed\n",
    "display(fig)"
   ]
  },
  {
   "cell_type": "markdown",
   "metadata": {},
   "source": [
    "# Every component of the figure is an independent widget"
   ]
  },
  {
   "cell_type": "code",
   "execution_count": 10,
   "metadata": {
    "collapsed": true
   },
   "outputs": [],
   "source": [
    "xs = bq.LinearScale()\n",
    "ys = bq.LinearScale()\n",
    "x = np.arange(100)\n",
    "y = np.cumsum(np.random.randn(2, 100), axis=1) #two random walks\n",
    "\n",
    "line = bq.Lines(x=x, y=y, scales={'x': xs, 'y': ys}, colors=['red', 'green'])\n",
    "xax = bq.Axis(scale=xs, label='x', grid_lines='solid')\n",
    "yax = bq.Axis(scale=ys, orientation='vertical', tick_format='0.2f', label='y', grid_lines='solid')\n",
    "\n",
    "fig = bq.Figure(marks=[line], axes=[xax, yax], animation_duration=1000)\n",
    "display(fig)"
   ]
  },
  {
   "cell_type": "code",
   "execution_count": 11,
   "metadata": {
    "collapsed": true
   },
   "outputs": [],
   "source": [
    "# update data of the line mark\n",
    "line.y = np.cumsum(np.random.randn(2, 100), axis=1)"
   ]
  },
  {
   "cell_type": "code",
   "execution_count": 12,
   "metadata": {
    "collapsed": true
   },
   "outputs": [],
   "source": [
    "xs = bq.LinearScale()\n",
    "ys = bq.LinearScale()\n",
    "x, y = np.random.rand(2, 20)\n",
    "scatt = bq.Scatter(x=x, y=y, scales={'x': xs, 'y': ys}, default_colors=['blue'])\n",
    "xax = bq.Axis(scale=xs, label='x', grid_lines='solid')\n",
    "yax = bq.Axis(scale=ys, orientation='vertical', tick_format='0.2f', label='y', grid_lines='solid')\n",
    "\n",
    "fig = bq.Figure(marks=[scatt], axes=[xax, yax], animation_duration=1000)\n",
    "display(fig)"
   ]
  },
  {
   "cell_type": "code",
   "execution_count": 13,
   "metadata": {
    "collapsed": true
   },
   "outputs": [],
   "source": [
    "#data updates\n",
    "scatt.x = np.random.rand(20) * 10\n",
    "scatt.y = np.random.rand(20)"
   ]
  },
  {
   "cell_type": "markdown",
   "metadata": {},
   "source": [
    "## The same holds for the attributes of scales, axes"
   ]
  },
  {
   "cell_type": "code",
   "execution_count": 14,
   "metadata": {
    "collapsed": true
   },
   "outputs": [],
   "source": [
    "xs.min = 4"
   ]
  },
  {
   "cell_type": "code",
   "execution_count": 15,
   "metadata": {
    "collapsed": true
   },
   "outputs": [],
   "source": [
    "xs.min = None"
   ]
  },
  {
   "cell_type": "code",
   "execution_count": 16,
   "metadata": {
    "collapsed": true
   },
   "outputs": [],
   "source": [
    "xax.label = 'Some label for the x axis'"
   ]
  },
  {
   "cell_type": "markdown",
   "metadata": {},
   "source": [
    "## Wiring bqplot widgets with other Jupyter widgets"
   ]
  },
  {
   "cell_type": "code",
   "execution_count": 17,
   "metadata": {
    "collapsed": true
   },
   "outputs": [],
   "source": [
    "size = 100\n",
    "x_data = np.random.randn(size)\n",
    "y_data = np.cumsum(np.random.randn(size)  * 100.0)\n",
    "color_data = np.cumsum(np.random.randn(size))\n",
    "rotation_data = np.sin(x_data * 0.1)"
   ]
  },
  {
   "cell_type": "code",
   "execution_count": 18,
   "metadata": {
    "collapsed": true
   },
   "outputs": [],
   "source": [
    "from bqplot import *\n",
    "\n",
    "x_sc = bq.LinearScale()\n",
    "y_sc = bq.LinearScale()\n",
    "c_sc = bq.ColorScale()\n",
    "r_sc = bq.LinearScale()\n",
    "s_sc = bq.LinearScale()\n",
    "\n",
    "ax_x = bq.Axis(label='X Axis', scale=x_sc, grid_lines='solid')\n",
    "ax_y = bq.Axis(label='Y Axis', scale=y_sc, orientation='vertical', grid_lines='solid')\n",
    "ax_c = bq.ColorAxis(label='Color Scale', scale=c_sc, orientation='horizontal')\n",
    "\n",
    "scatter = bq.Scatter(x=x_data,\n",
    "                     y=y_data,\n",
    "                     color=color_data,\n",
    "                     rotation=rotation_data,\n",
    "                     marker='arrow',\n",
    "                     animate_dur=1000,\n",
    "                     default_size=100,\n",
    "                     scales={'x': x_sc, 'y': y_sc, 'color': c_sc, 'rotation': r_sc, 'size': s_sc})\n",
    "\n",
    "fig = bq.Figure(axes=[ax_x, ax_y, ax_c], marks=[scatter])\n",
    "fig"
   ]
  },
  {
   "cell_type": "code",
   "execution_count": 19,
   "metadata": {
    "collapsed": false
   },
   "outputs": [],
   "source": [
    "from ipywidgets import FloatSlider\n",
    "\n",
    "# Wiring the rotation parameter with a slider\n",
    "def handle_slider(change):\n",
    "    new = change['new']\n",
    "    scatter.rotation = np.cos(10 * new * x_data)\n",
    "    scatter.size = np.sin(10 * new * x_data)\n",
    "\n",
    "handle_slider({'new': 0.5})\n",
    "slider = FloatSlider(value=0.5, min=0, max=1.0, step=0.01, description='Adjust rotation')\n",
    "slider.observe(handle_slider, names=['value'])\n",
    "\n",
    "slider"
   ]
  },
  {
   "cell_type": "markdown",
   "metadata": {},
   "source": [
    "# More advanced visualization: Historical GDP per Capita"
   ]
  },
  {
   "cell_type": "code",
   "execution_count": 20,
   "metadata": {
    "collapsed": false
   },
   "outputs": [],
   "source": [
    "data = pd.read_csv('country_codes.csv', index_col=[0])\n",
    "country_codes = data.index.values\n",
    "country_names = data['Name']\n",
    "\n",
    "gdp_data = pd.read_csv('gdp_per_capita.csv', index_col=[0], parse_dates=True)\n",
    "gdp_data.fillna(method='backfill', inplace=True)\n",
    "gdp_data.fillna(method='ffill', inplace=True)\n",
    "\n",
    "data['GDP'] = gdp_data.ix[-1]\n",
    "\n",
    "continents = data['Continent'].values"
   ]
  },
  {
   "cell_type": "code",
   "execution_count": 21,
   "metadata": {
    "collapsed": false
   },
   "outputs": [],
   "source": [
    "# Creating the figure to be displayed as the tooltip\n",
    "sc_x = bq.DateScale()\n",
    "sc_y = bq.LinearScale()\n",
    "sc_c = bq.ColorScale(scheme='Greens')\n",
    "\n",
    "ax_x = bq.Axis(scale=sc_x, grid_lines='dashed', label='Date')\n",
    "ax_y = bq.Axis(scale=sc_y, orientation='vertical', grid_lines='dashed',\n",
    "               label='GDP', label_location='end', label_offset='-1em')\n",
    "ax_c = bq.ColorAxis(scale=sc_c)\n",
    "\n",
    "line = bq.Lines(x=gdp_data.index.values, scales={'x': sc_x, 'y': sc_y}, colors=['orange'])\n",
    "fig_tooltip = bq.Figure(marks=[line], axes=[ax_x, ax_y], min_width=600, min_height=400)"
   ]
  },
  {
   "cell_type": "code",
   "execution_count": 22,
   "metadata": {
    "collapsed": false
   },
   "outputs": [],
   "source": [
    "from bqplot.market_map import MarketMap\n",
    "market_map = MarketMap(names=country_codes, groups=continents,\n",
    "                       cols=25, row_groups=3,\n",
    "                       color=data['GDP'], scales={'color': sc_c}, axes=[ax_c],\n",
    "                       ref_data=data, tooltip_widget=fig_tooltip)\n",
    "\n",
    "# Update the tooltip\n",
    "hovered_symbol = ''\n",
    "def hover_handler(self, content):\n",
    "    global hovered_symbol\n",
    "    symbol = content.get('ref_data', {}).get('Country Code', '')\n",
    "    if(symbol != hovered_symbol):\n",
    "        hovered_symbol = symbol\n",
    "        if(gdp_data.get(hovered_symbol) is not None):\n",
    "            line.y = gdp_data[hovered_symbol].values\n",
    "            fig_tooltip.title = content.get('ref_data', {}).get('Name', '')\n",
    "               \n",
    "# Custom msg sent when a cell is hovered on\n",
    "market_map.on_hover(hover_handler)\n",
    "market_map"
   ]
  },
  {
   "cell_type": "code",
   "execution_count": 23,
   "metadata": {
    "collapsed": false
   },
   "outputs": [],
   "source": [
    "fig_tooltip.background_color = 'white'"
   ]
  },
  {
   "cell_type": "markdown",
   "metadata": {},
   "source": [
    "## Use bqplot figures as input widgets"
   ]
  },
  {
   "cell_type": "code",
   "execution_count": 24,
   "metadata": {
    "collapsed": true
   },
   "outputs": [],
   "source": [
    "xs = bq.LinearScale()\n",
    "ys = bq.LinearScale()\n",
    "x = np.arange(100)\n",
    "y = np.cumsum(np.random.randn(2, 100), axis=1) #two random walks\n",
    "\n",
    "line = bq.Lines(x=x, y=y, scales={'x': xs, 'y': ys}, colors=['red', 'green'])\n",
    "xax = bq.Axis(scale=xs, label='x', grid_lines='solid')\n",
    "yax = bq.Axis(scale=ys, orientation='vertical', tick_format='0.2f', label='y', grid_lines='solid')"
   ]
  },
  {
   "cell_type": "markdown",
   "metadata": {},
   "source": [
    "## Selections"
   ]
  },
  {
   "cell_type": "code",
   "execution_count": 25,
   "metadata": {
    "collapsed": false
   },
   "outputs": [],
   "source": [
    "def interval_change_callback(change):\n",
    "    db.value = str(change['new'])\n",
    "\n",
    "intsel = bq.interacts.FastIntervalSelector(scale=xs, marks=[line])\n",
    "intsel.observe(interval_change_callback, names=['selected'] )\n",
    "\n",
    "db = widgets.Label()\n",
    "db.value = str(intsel.selected)\n",
    "display(db)"
   ]
  },
  {
   "cell_type": "code",
   "execution_count": 29,
   "metadata": {
    "collapsed": false
   },
   "outputs": [],
   "source": [
    "fig = bq.Figure(marks=[line], axes=[xax, yax], animation_duration=1000, interaction=intsel)\n",
    "display(fig)"
   ]
  },
  {
   "cell_type": "code",
   "execution_count": 30,
   "metadata": {
    "collapsed": false
   },
   "outputs": [
    {
     "data": {
      "text/plain": [
       "[0,\n",
       " 1,\n",
       " 2,\n",
       " 3,\n",
       " 4,\n",
       " 5,\n",
       " 6,\n",
       " 7,\n",
       " 8,\n",
       " 9,\n",
       " 10,\n",
       " 11,\n",
       " 12,\n",
       " 13,\n",
       " 14,\n",
       " 15,\n",
       " 16,\n",
       " 17,\n",
       " 18,\n",
       " 19,\n",
       " 20,\n",
       " 21,\n",
       " 22,\n",
       " 23,\n",
       " 24]"
      ]
     },
     "execution_count": 30,
     "metadata": {},
     "output_type": "execute_result"
    }
   ],
   "source": [
    "line.selected"
   ]
  },
  {
   "cell_type": "markdown",
   "metadata": {},
   "source": [
    "# Handraw"
   ]
  },
  {
   "cell_type": "code",
   "execution_count": 31,
   "metadata": {
    "collapsed": false
   },
   "outputs": [],
   "source": [
    "handdraw = bq.interacts.HandDraw(lines=line)\n",
    "fig.interaction = handdraw"
   ]
  },
  {
   "cell_type": "code",
   "execution_count": 32,
   "metadata": {
    "collapsed": false
   },
   "outputs": [
    {
     "data": {
      "text/plain": [
       "array([0.22246316400860677, 0.1340876408094518, 0.23246554762492744,\n",
       "       0.6138818018340984, 0.6813740590749051, 0.6977121431877976,\n",
       "       0.9820266621857422, 1.397427288356869, 0.3659448280416113,\n",
       "       -1.064046430643837, -1.125684482816052, -2.55841997275016,\n",
       "       -2.4708885018284894, -1.5321416261461793, -0.9250299542301335,\n",
       "       -1.9732003610556066, -2.833462813013125, -2.5051615180123696,\n",
       "       -2.9064593231458797, -3.223114618197987, -2.6262081369500327,\n",
       "       -3.613494830407685, -4.014729540318868, -4.814812016403469,\n",
       "       -5.857941514438824, -6.715019703109989, -6.037557533763577,\n",
       "       -5.985737144281155, -6.86489777311623, -7.095999380709226,\n",
       "       -8.734806687831403, -9.468119495415069, -7.318544960547782,\n",
       "       -7.408788810213532, -6.67712988318314, -6.742618258327623,\n",
       "       -6.394449023085814, -5.73119093340664, -0.9872430070151061,\n",
       "       -6.86674378820707, -5.287878593790582, -6.083379143843873,\n",
       "       -6.649818997576092, -6.957510274943093, -6.688486201766847,\n",
       "       -6.163568338120965, -4.8961566833023085, -4.396658449833649,\n",
       "       -4.458711575631983, -3.1995444460211693, -2.495433423879587,\n",
       "       -3.9911129401366034, -1.464744699780605, 0.30517668841612866,\n",
       "       0.13696246564905457, 0.5148725673875296, 1.8392313173833688,\n",
       "       1.667030524686486, 2.3973823150635054, 3.5019607886349817,\n",
       "       2.4871348809005407, 1.8848030273176786, 2.80621142512826,\n",
       "       3.2670259022770907, 4.190822462591037, 4.058254447937319,\n",
       "       3.769249236983086, 1.7706097613997132, 0.6246093348922699,\n",
       "       0.6716754295507635, 1.496232649115, 2.0274110156506953,\n",
       "       1.8991690416229932, 1.6273974751322964, 1.8445771077705766,\n",
       "       1.9227882888627288, 3.327333803802441, 3.4737745742806907,\n",
       "       1.9925286120833923, 0.7199704770510753, 2.2387298140146554,\n",
       "       1.067569352564575, 1.8320668055981086, 1.5636940703887274,\n",
       "       1.393935776486242, 1.259802993717822, 2.4811879531770202,\n",
       "       2.2883461246330556, 2.2550268417879025, 0.7242233443884099,\n",
       "       0.9309138560964132, 1.461956363074473, 1.70110194372826,\n",
       "       3.098998204814995, 3.154169559595227, 3.4531470157142445,\n",
       "       5.101651025982424, 3.551636836624276, 3.095811488824907,\n",
       "       4.5219702408441735], dtype=object)"
      ]
     },
     "execution_count": 32,
     "metadata": {},
     "output_type": "execute_result"
    }
   ],
   "source": [
    "line.y[0]"
   ]
  },
  {
   "cell_type": "markdown",
   "metadata": {},
   "source": [
    "# Other input widgets"
   ]
  },
  {
   "cell_type": "code",
   "execution_count": 38,
   "metadata": {
    "collapsed": true
   },
   "outputs": [],
   "source": [
    "gamepad = Controller()\n",
    "gamepad"
   ]
  }
 ],
 "metadata": {
  "kernelspec": {
   "display_name": "Python 2",
   "language": "python",
   "name": "python2"
  },
  "language_info": {
   "codemirror_mode": {
    "name": "ipython",
    "version": 2
   },
   "file_extension": ".py",
   "mimetype": "text/x-python",
   "name": "python",
   "nbconvert_exporter": "python",
   "pygments_lexer": "ipython2",
   "version": "2.7.11"
  },
  "widgets": {
   "state": {
    "027c4af8e7fb41678bbdbd01fffe8adb": {
     "views": []
    },
    "04d443b827654918a341101893cd7f87": {
     "views": []
    },
    "07cab7502fb74dcb85c6e421bcc4277c": {
     "views": [
      {
       "cell": {
        "cell_type": "code",
        "execution_count": 4,
        "metadata": {
         "collapsed": true,
         "trusted": true
        },
        "outputs": [],
        "source": "plt.figure(1)\nn = 100\nplt.plot(np.linspace(0.0, 10.0, n), np.cumsum(np.random.randn(n)), \n         axes_options={'y': {'grid_lines': 'dashed'}})\nplt.show()"
       },
       "cell_index": 5,
       "root": true
      }
     ]
    },
    "07fa89a50648467aa4f332ddf252066a": {
     "views": []
    },
    "09ee52daf8564c26b0506963c38f2aa0": {
     "views": []
    },
    "0b92877bf2d84c58bf9ec40e19efc80f": {
     "views": []
    },
    "0d30c148646744ed9db9dc764c9059a1": {
     "views": []
    },
    "0dd19fb7a4634ab79afab1a36b6405a7": {
     "views": []
    },
    "112242c60d524e75ae044cf3d536311e": {
     "views": []
    },
    "11c43e1613944ac8826843f09819a795": {
     "views": []
    },
    "12c14987c1174c7589b3f66eca16b9a5": {
     "views": []
    },
    "14bd93d67c314279903ecdd7b3b94831": {
     "views": [
      {
       "cell": {
        "cell_type": "code",
        "execution_count": 9,
        "metadata": {
         "collapsed": false,
         "trusted": true
        },
        "outputs": [],
        "source": "line_chart = bq.Lines(x=x_data[:10], y = [y_data[:10], y_data_2[:10] * 100, y_data_3[:10]],\n                      scales={'x': sc_ord, 'y': sc_y},\n                      labels=['Line1', 'Line2', 'Line3'], \n                      display_legend=True)\n\nbar_chart = bq.Bars(x=x_data[:10], \n                    y=[y_data[:10], y_data_2[:10] * 100, y_data_3[:10]], \n                    scales={'x': sc_ord, 'y': sc_y_2},\n                    labels=['Bar1', 'Bar2', 'Bar3'],\n                    display_legend=True)\n\nfig = bq.Figure(axes=[ord_ax, y_ax],  marks=[bar_chart, line_chart], legend_location = 'top-left')\n\n# the line does not have a Y value set. So only the bars will be displayed\ndisplay(fig)"
       },
       "cell_index": 13,
       "root": true
      }
     ]
    },
    "195a9634e1a848b68e4aa7b05be46f26": {
     "views": []
    },
    "19bf02e333f34e9183d35248550b44ea": {
     "views": []
    },
    "1d6517d568594cc9b1fe6646456002b8": {
     "views": []
    },
    "1df2925f23ec439fbbee842a3ec8e254": {
     "views": []
    },
    "2001f6f34dbd43f590cecaf374245a50": {
     "views": []
    },
    "20ed0a76422e462fbbf182f5ba6d1896": {
     "views": []
    },
    "21f31f7fd1464f7c82612e1ccf566804": {
     "views": []
    },
    "297cf0e747dc477b91e0596197990996": {
     "views": []
    },
    "29ee801933dc4bfa9a6b734a0890f7b7": {
     "views": []
    },
    "2abcafff1a9645ada4fab58dc3e3bb99": {
     "views": []
    },
    "2be7203a997747da98a4a1a893ae1479": {
     "views": [
      {
       "cell": {
        "cell_type": "code",
        "execution_count": 29,
        "metadata": {
         "collapsed": false,
         "trusted": true
        },
        "outputs": [],
        "source": "fig = bq.Figure(marks=[line], axes=[xax, yax], animation_duration=1000, interaction=intsel)\ndisplay(fig)"
       },
       "cell_index": 36,
       "root": true
      }
     ]
    },
    "2c08fb58ee5c4f28877b69852f418ccc": {
     "views": []
    },
    "3178071cf72c49c880a4cb5ec23c51b6": {
     "views": []
    },
    "34e88b9b46f547ad8d6a13cb686cd59b": {
     "views": []
    },
    "368750b18d67421d96128eb4c34f9d09": {
     "views": []
    },
    "3770a147cdc441cba97bd3c68aecfd37": {
     "views": []
    },
    "3a83994d7ecb45d8b9a78b2a6d926ed6": {
     "views": []
    },
    "3b195b16c5424b36a2fce74952659728": {
     "views": []
    },
    "3da6d4064424417db1548996df889438": {
     "views": []
    },
    "3fdde056b3f641f2a99addea572272e8": {
     "views": []
    },
    "40517f801ed04745927ddb2eb47e427b": {
     "views": []
    },
    "42f92ea538ef475f8bac69a2e7116d81": {
     "views": []
    },
    "44867c68edd54235bee3a2c375b18496": {
     "views": []
    },
    "4603c14a3e84426a8f3c76c6754b8f72": {
     "views": [
      {
       "cell": {
        "cell_type": "code",
        "execution_count": 25,
        "metadata": {
         "collapsed": false,
         "trusted": true
        },
        "outputs": [],
        "source": "def interval_change_callback(change):\n    db.value = str(change['new'])\n\nintsel = bq.interacts.FastIntervalSelector(scale=xs, marks=[line])\nintsel.observe(interval_change_callback, names=['selected'] )\n\ndb = widgets.Label()\ndb.value = str(intsel.selected)\ndisplay(db)"
       },
       "cell_index": 35,
       "root": true
      }
     ]
    },
    "495da823afde426dab29c09e709f6d0c": {
     "views": []
    },
    "4965f4c22dc74b5f961cdb9b47b6d518": {
     "views": []
    },
    "4f22834b2c944fcba1c58327eafb7b54": {
     "views": []
    },
    "5278ad02924143368a91b122e42d88a4": {
     "views": []
    },
    "52ab0fd2f8574a77a349c9e1684d05a4": {
     "views": []
    },
    "52ce1ea09f47417f933437578ae5a74a": {
     "views": []
    },
    "532e24d803cd45ef9bb4d6acb4f461c2": {
     "views": []
    },
    "55caa45dac2d46a2b637eb54abe43756": {
     "views": []
    },
    "5d9f92c1f3ac4b8faa71185467b2d0fc": {
     "views": []
    },
    "5dccd0eefd3646ed9aa9761df82d0cca": {
     "views": []
    },
    "5f226d0bd90a439e9408d6328a6a78c6": {
     "views": []
    },
    "6290ee90001e49bfa87e539b6aecd8c6": {
     "views": []
    },
    "699178f069494ddc89cb90e7408034b1": {
     "views": []
    },
    "6b42c3846f794452907773fe32014e35": {
     "views": []
    },
    "6c70efd4cc204e468f8e1a89aa38fb8e": {
     "views": []
    },
    "6cdd3bb3a8a64e38ad254b3d4a7b2756": {
     "views": []
    },
    "6f264d5ea23d4116b67522c85d41b4a8": {
     "views": []
    },
    "6ffed66af57d42c7924c583c5bbbfa2a": {
     "views": []
    },
    "7198dcb2445942f1af647e0c3fddca4b": {
     "views": []
    },
    "72585fb848114fd5b525f624f5f01176": {
     "views": []
    },
    "737f011a4e094d23b0f5f4d7c36ed95f": {
     "views": []
    },
    "752182d44702492bb9f22e9774fd64d5": {
     "views": []
    },
    "7562af1e79c444dabcae782e5e5e9e0b": {
     "views": []
    },
    "76980bdd0cd449eb9e52f56aac5cdb1d": {
     "views": []
    },
    "78951f716edd4885a1c3916077b81fe2": {
     "views": []
    },
    "7f2181f1e398463185646b6d3a4e291d": {
     "views": []
    },
    "82abc7484cfc438ab6ab478cf9b840ac": {
     "views": []
    },
    "885f0551d5874bd981016ef9bd4c837f": {
     "views": [
      {
       "cell": {
        "cell_type": "code",
        "execution_count": 19,
        "metadata": {
         "collapsed": false,
         "trusted": true
        },
        "outputs": [],
        "source": "from ipywidgets import FloatSlider\n\n# Wiring the rotation parameter with a slider\ndef handle_slider(change):\n    new = change['new']\n    scatter.rotation = np.cos(10 * new * x_data)\n    scatter.size = np.sin(10 * new * x_data)\n\nhandle_slider({'new': 0.5})\nslider = FloatSlider(value=0.5, min=0, max=1.0, step=0.01, description='Adjust rotation')\nslider.observe(handle_slider, names=['value'])\n\nslider"
       },
       "cell_index": 26,
       "root": true
      }
     ]
    },
    "8bfd6f638d554cdcb1d68e9eec897fbe": {
     "views": []
    },
    "8f6643ccb915422c86c9fbc6a8e56476": {
     "views": []
    },
    "8fd2b748a95c4e41bd30a119b3dda609": {
     "views": []
    },
    "9753fa20aaa9429cb19831eb1ee49e15": {
     "views": []
    },
    "983954266154433c9cd678940cf10adf": {
     "views": [
      {
       "cell": {
        "cell_type": "code",
        "execution_count": 12,
        "metadata": {
         "collapsed": true,
         "trusted": true
        },
        "outputs": [],
        "source": "xs = bq.LinearScale()\nys = bq.LinearScale()\nx, y = np.random.rand(2, 20)\nscatt = bq.Scatter(x=x, y=y, scales={'x': xs, 'y': ys}, default_colors=['blue'])\nxax = bq.Axis(scale=xs, label='x', grid_lines='solid')\nyax = bq.Axis(scale=ys, orientation='vertical', tick_format='0.2f', label='y', grid_lines='solid')\n\nfig = bq.Figure(marks=[scatt], axes=[xax, yax], animation_duration=1000)\ndisplay(fig)"
       },
       "cell_index": 17,
       "root": true
      }
     ]
    },
    "98ce3150bb14493980bd416f3135a8cb": {
     "views": []
    },
    "9d0b0141538843f6954374c4cf190fbd": {
     "views": []
    },
    "9d1547b32c72414f9bb5ad76344904b8": {
     "views": []
    },
    "9d9a2d3746a64dad95fcb4aa5e0257b9": {
     "views": []
    },
    "9df209bd821f4edbbc249188872961a4": {
     "views": []
    },
    "a01e62c0b8da46b4b2e637ab9caf6652": {
     "views": [
      {
       "cell": {
        "cell_type": "code",
        "execution_count": 6,
        "metadata": {
         "collapsed": true,
         "trusted": true
        },
        "outputs": [],
        "source": "plt.figure()\nplt.hist(y_data, colors=['OrangeRed'])\nplt.show()"
       },
       "cell_index": 9,
       "root": true
      }
     ]
    },
    "a1b1e8e13b06455fb6000cbf4514086f": {
     "views": []
    },
    "a4b8a693529e43a9bc6459563c2231a0": {
     "views": []
    },
    "a604db1b2c674403bfca04f9ab964c63": {
     "views": []
    },
    "a71c587c85c544e980191c7e983bb668": {
     "views": []
    },
    "a776ef20694d45af8a3b1030a387a6de": {
     "views": []
    },
    "a871c9d3a55c4e28b9c099051720539b": {
     "views": []
    },
    "abe34698a8984a17ae727eeeb3f42eb4": {
     "views": []
    },
    "af0ea4772ba74fe79a48a92fb9e62fb6": {
     "views": []
    },
    "af117f9ff4ee4e119a4114e153695574": {
     "views": []
    },
    "b366414ed34845e88e28d6d296c1b8c0": {
     "views": [
      {
       "cell": {
        "cell_type": "code",
        "execution_count": 5,
        "metadata": {
         "collapsed": true,
         "trusted": true
        },
        "outputs": [],
        "source": "plt.figure(title='Scatter Plot with colors')\nplt.scatter(y_data_2, y_data_3, color=y_data)\nplt.show()"
       },
       "cell_index": 7,
       "root": true
      }
     ]
    },
    "b4011986765d4a5d815a144ddc5b7713": {
     "views": []
    },
    "b8e679918ea0421cb642ab590cd965c3": {
     "views": []
    },
    "b8fc1177cfc1489196038e6357404c89": {
     "views": [
      {
       "cell": {
        "cell_type": "code",
        "execution_count": 22,
        "metadata": {
         "collapsed": false,
         "trusted": true
        },
        "outputs": [],
        "source": "from bqplot.market_map import MarketMap\nmarket_map = MarketMap(names=country_codes, groups=continents,\n                       cols=25, row_groups=3,\n                       color=data['GDP'], scales={'color': sc_c}, axes=[ax_c],\n                       ref_data=data, tooltip_widget=fig_tooltip)\n\n# Update the tooltip\nhovered_symbol = ''\ndef hover_handler(self, content):\n    global hovered_symbol\n    symbol = content.get('ref_data', {}).get('Country Code', '')\n    if(symbol != hovered_symbol):\n        hovered_symbol = symbol\n        if(gdp_data.get(hovered_symbol) is not None):\n            line.y = gdp_data[hovered_symbol].values\n            fig_tooltip.title = content.get('ref_data', {}).get('Name', '')\n               \n# Custom msg sent when a cell is hovered on\nmarket_map.on_hover(hover_handler)\nmarket_map"
       },
       "cell_index": 30,
       "root": true
      }
     ]
    },
    "ba7ca7de9bf3487198fc58c8d22eabdf": {
     "views": []
    },
    "bc2111e07c104c4bb46812fb799892cf": {
     "views": []
    },
    "bccd0cc8b18b4f969b78ff3f073dd96e": {
     "views": []
    },
    "bd1e51a72a4f4a86ab3f6a889bd79ec1": {
     "views": []
    },
    "bff51b128b4d470c8fc27eb0aecd8ad7": {
     "views": []
    },
    "c024e55a06524dca8b3ef99f87dd6c97": {
     "views": []
    },
    "c4f780e2d3254ac99fc2c364be3249c5": {
     "views": []
    },
    "c7ade0da2ea7414b9c21796a111bbec7": {
     "views": []
    },
    "cf66e284bdc24837af71d12f9bca583e": {
     "views": []
    },
    "d38d165d3206409b8f3db4e7abcd9a53": {
     "views": []
    },
    "d5e50e04473a48f6a8e57613b7216f54": {
     "views": []
    },
    "d76fd659c18949c4b7de5c49b54b4442": {
     "views": []
    },
    "d90223a332aa4648a5ea57db9c5fd39d": {
     "views": []
    },
    "e1fa78d6602c4329b4a4706e44cf19c3": {
     "views": []
    },
    "e2bd8b40906744f29a18d6c90ea0bd33": {
     "views": []
    },
    "e3a31067b746449d8a2c4c670e437927": {
     "views": []
    },
    "e5580ec9923741cfa5819d78ccf4d308": {
     "views": [
      {
       "cell": {
        "cell_type": "code",
        "execution_count": 10,
        "metadata": {
         "collapsed": true,
         "trusted": true
        },
        "outputs": [],
        "source": "xs = bq.LinearScale()\nys = bq.LinearScale()\nx = np.arange(100)\ny = np.cumsum(np.random.randn(2, 100), axis=1) #two random walks\n\nline = bq.Lines(x=x, y=y, scales={'x': xs, 'y': ys}, colors=['red', 'green'])\nxax = bq.Axis(scale=xs, label='x', grid_lines='solid')\nyax = bq.Axis(scale=ys, orientation='vertical', tick_format='0.2f', label='y', grid_lines='solid')\n\nfig = bq.Figure(marks=[line], axes=[xax, yax], animation_duration=1000)\ndisplay(fig)"
       },
       "cell_index": 15,
       "root": true
      }
     ]
    },
    "eace4b6980604910b7d3a356de725ab3": {
     "views": []
    },
    "ed9351afe4e740978b9f9e1197af43e5": {
     "views": []
    },
    "ede05f9e6d6b4730badf948ee7d4ff65": {
     "views": [
      {
       "cell": {
        "cell_type": "code",
        "execution_count": 18,
        "metadata": {
         "collapsed": true,
         "trusted": true
        },
        "outputs": [],
        "source": "from bqplot import *\n\nx_sc = bq.LinearScale()\ny_sc = bq.LinearScale()\nc_sc = bq.ColorScale()\nr_sc = bq.LinearScale()\ns_sc = bq.LinearScale()\n\nax_x = bq.Axis(label='X Axis', scale=x_sc, grid_lines='solid')\nax_y = bq.Axis(label='Y Axis', scale=y_sc, orientation='vertical', grid_lines='solid')\nax_c = bq.ColorAxis(label='Color Scale', scale=c_sc, orientation='horizontal')\n\nscatter = bq.Scatter(x=x_data,\n                     y=y_data,\n                     color=color_data,\n                     rotation=rotation_data,\n                     marker='arrow',\n                     animate_dur=1000,\n                     default_size=100,\n                     scales={'x': x_sc, 'y': y_sc, 'color': c_sc, 'rotation': r_sc, 'size': s_sc})\n\nfig = bq.Figure(axes=[ax_x, ax_y, ax_c], marks=[scatter])\nfig"
       },
       "cell_index": 25,
       "root": true
      }
     ]
    },
    "ef8bc407a7214d72aef1effcfeb384ed": {
     "views": []
    },
    "f2efd7a5c6e54948b9ab3f70eadc063e": {
     "views": []
    },
    "f327de20fda041ad9e889721fa7892f3": {
     "views": []
    },
    "f76e7008da9244199a61bc4b2e609b20": {
     "views": []
    },
    "f78e0a4b4d81444a84e2f05dcc19a644": {
     "views": []
    },
    "f98ada29eaaf494ca7f3d9ebc8a75655": {
     "views": []
    },
    "fb44c8beeac64936836cf713b0085ec4": {
     "views": []
    },
    "fc2c67cb2f3240c9a18fbd3295f25402": {
     "views": []
    },
    "fdd5485ad2724ceba5173402f7358dd0": {
     "views": []
    }
   },
   "version": "1.0.0"
  }
 },
 "nbformat": 4,
 "nbformat_minor": 1
}
