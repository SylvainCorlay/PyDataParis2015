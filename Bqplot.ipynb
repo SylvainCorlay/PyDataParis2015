{
 "cells": [
  {
   "cell_type": "markdown",
   "metadata": {},
   "source": [
    "# bqplot https://github.com/bloomberg/bqplot\n",
    "\n",
    "## A Jupyter - d3.js bridge\n",
    "\n",
    "bqplot is a jupyter interactive widget library bringing d3.js visualization to the Jupyter notebook.\n",
    "\n",
    "- Apache Licensed\n",
    "\n",
    "bqplot implements the abstractions of Wilkinson’s “The Grammar of Graphics” as interactive Jupyter widgets.\n",
    "\n",
    "bqplot provides both\n",
    "-\thigh-level plotting procedures with relevant defaults for common chart types,\n",
    "-\tlower-level descriptions of data visualizations meant for complex interactive visualization dashboards and applications involving mouse interactions and user-provided Python callbacks.\n",
    "\n",
    "**Installation:**\n",
    "\n",
    "```bash\n",
    "conda install -c conda-forge bqplot\n",
    "```\n",
    "\n",
    "**People**\n",
    "\n",
    "<table border=\"1\" style=\"width:100%\">\n",
    "  <tr>\n",
    "    <td><img src='./srinu.jpg' style='height: 170px'/></td>\n",
    "    <td><img src='./sylvain.png' style='height: 170px'/></td> \n",
    "    <td><img src='./dhruv.jpg' style='height: 170px'/></td>\n",
    "    <td><img src='./romain.jpg' style='height: 170px'/></td> \n",
    "    <td><img src='./jason.jpeg' style='height: 170px'/></td>\n",
    "  </tr>\n",
    "  <tr>\n",
    "    <td>Srinivas Sunkara</td>\n",
    "    <td>Sylvain Corlay</td> \n",
    "    <td>Dhruv Madeka</td>\n",
    "    <td>Romain Menegaux</td>\n",
    "    <td>Jason Grout</td>\n",
    "  </tr>\n",
    "</table>"
   ]
  },
  {
   "cell_type": "code",
   "execution_count": null,
   "metadata": {
    "collapsed": true
   },
   "outputs": [],
   "source": [
    "from __future__ import print_function\n",
    "from IPython.display import display\n",
    "from ipywidgets import *\n",
    "from traitlets import *\n",
    "\n",
    "import numpy as np\n",
    "import pandas as pd\n",
    "import bqplot as bq\n",
    "import datetime as dt"
   ]
  },
  {
   "cell_type": "code",
   "execution_count": null,
   "metadata": {
    "collapsed": false
   },
   "outputs": [],
   "source": [
    "np.random.seed(0)\n",
    "size = 100\n",
    "y_data = np.cumsum(np.random.randn(size) * 100.0)\n",
    "y_data_2 = np.cumsum(np.random.randn(size))\n",
    "y_data_3 = np.cumsum(np.random.randn(size) * 100.)\n",
    "\n",
    "x = np.linspace(0.0, 10.0, size)\n",
    "\n",
    "price_data = pd.DataFrame(np.cumsum(np.random.randn(150, 2).dot([[0.5, 0.8], [0.8, 1.0]]), axis=0) + 100,\n",
    "                          columns=['Security 1', 'Security 2'],\n",
    "                          index=pd.date_range(start='01-01-2007', periods=150))\n",
    "\n",
    "symbol = 'Security 1'\n",
    "dates_all = price_data.index.values\n",
    "final_prices = price_data[symbol].values.flatten()"
   ]
  },
  {
   "cell_type": "markdown",
   "metadata": {},
   "source": [
    "# A simple plot with the pyplot API"
   ]
  },
  {
   "cell_type": "code",
   "execution_count": null,
   "metadata": {
    "collapsed": true
   },
   "outputs": [],
   "source": [
    "from bqplot import pyplot as plt"
   ]
  },
  {
   "cell_type": "code",
   "execution_count": null,
   "metadata": {
    "collapsed": true
   },
   "outputs": [],
   "source": [
    "plt.figure(1)\n",
    "n = 100\n",
    "plt.plot(np.linspace(0.0, 10.0, n), np.cumsum(np.random.randn(n)), \n",
    "         axes_options={'y': {'grid_lines': 'dashed'}})\n",
    "plt.show()"
   ]
  },
  {
   "cell_type": "markdown",
   "metadata": {},
   "source": [
    "### Scatter Plot"
   ]
  },
  {
   "cell_type": "code",
   "execution_count": null,
   "metadata": {
    "collapsed": true
   },
   "outputs": [],
   "source": [
    "plt.figure(title='Scatter Plot with colors')\n",
    "plt.scatter(y_data_2, y_data_3, color=y_data)\n",
    "plt.show()"
   ]
  },
  {
   "cell_type": "markdown",
   "metadata": {},
   "source": [
    "### Histogram"
   ]
  },
  {
   "cell_type": "code",
   "execution_count": null,
   "metadata": {
    "collapsed": true
   },
   "outputs": [],
   "source": [
    "plt.figure()\n",
    "plt.hist(y_data, colors=['OrangeRed'])\n",
    "plt.show()"
   ]
  },
  {
   "cell_type": "markdown",
   "metadata": {},
   "source": [
    "# bqplot API: an implementation of the grammar of graphics"
   ]
  },
  {
   "cell_type": "code",
   "execution_count": null,
   "metadata": {
    "collapsed": true
   },
   "outputs": [],
   "source": [
    "size = 100\n",
    "x_data = range(size)\n",
    "np.random.seed(0)\n",
    "y_data = np.cumsum(np.random.randn(size) * 100.0)\n",
    "y_data_2 = np.cumsum(np.random.randn(size))\n",
    "y_data_3 = np.cumsum(np.random.randn(size) * 100.)"
   ]
  },
  {
   "cell_type": "code",
   "execution_count": null,
   "metadata": {
    "collapsed": true
   },
   "outputs": [],
   "source": [
    "sc_ord = bq.OrdinalScale()\n",
    "sc_y = bq.LinearScale()\n",
    "sc_y_2 = bq.LinearScale()\n",
    "\n",
    "ord_ax = bq.Axis(label='Test X', scale=sc_ord, tick_format='0.0f', grid_lines='none')\n",
    "y_ax = bq.Axis(label='Test Y', scale=sc_y, \n",
    "               orientation='vertical', tick_format='0.2f', \n",
    "               grid_lines='solid')\n",
    "y_ax_2 = bq.Axis(label='Test Y 2', scale=sc_y_2, \n",
    "                 orientation='vertical', side='right', \n",
    "                 tick_format='0.0f', grid_lines='solid')"
   ]
  },
  {
   "cell_type": "code",
   "execution_count": null,
   "metadata": {
    "collapsed": false
   },
   "outputs": [],
   "source": [
    "line_chart = bq.Lines(x=x_data[:10], y = [y_data[:10], y_data_2[:10] * 100, y_data_3[:10]],\n",
    "                      scales={'x': sc_ord, 'y': sc_y},\n",
    "                      labels=['Line1', 'Line2', 'Line3'], \n",
    "                      display_legend=True)\n",
    "\n",
    "bar_chart = bq.Bars(x=x_data[:10], \n",
    "                    y=[y_data[:10], y_data_2[:10] * 100, y_data_3[:10]], \n",
    "                    scales={'x': sc_ord, 'y': sc_y_2},\n",
    "                    labels=['Bar1', 'Bar2', 'Bar3'],\n",
    "                    display_legend=True)\n",
    "\n",
    "fig = bq.Figure(axes=[ord_ax, y_ax],  marks=[bar_chart, line_chart], legend_location = 'top-left')\n",
    "\n",
    "# the line does not have a Y value set. So only the bars will be displayed\n",
    "display(fig)"
   ]
  },
  {
   "cell_type": "markdown",
   "metadata": {},
   "source": [
    "# Every component of the figure is an independent widget"
   ]
  },
  {
   "cell_type": "code",
   "execution_count": null,
   "metadata": {
    "collapsed": true
   },
   "outputs": [],
   "source": [
    "xs = bq.LinearScale()\n",
    "ys = bq.LinearScale()\n",
    "x = np.arange(100)\n",
    "y = np.cumsum(np.random.randn(2, 100), axis=1) #two random walks\n",
    "\n",
    "line = bq.Lines(x=x, y=y, scales={'x': xs, 'y': ys}, colors=['red', 'green'])\n",
    "xax = bq.Axis(scale=xs, label='x', grid_lines='solid')\n",
    "yax = bq.Axis(scale=ys, orientation='vertical', tick_format='0.2f', label='y', grid_lines='solid')\n",
    "\n",
    "fig = bq.Figure(marks=[line], axes=[xax, yax], animation_duration=1000)\n",
    "display(fig)"
   ]
  },
  {
   "cell_type": "code",
   "execution_count": null,
   "metadata": {
    "collapsed": true
   },
   "outputs": [],
   "source": [
    "# update data of the line mark\n",
    "line.y = np.cumsum(np.random.randn(2, 100), axis=1)"
   ]
  },
  {
   "cell_type": "code",
   "execution_count": null,
   "metadata": {
    "collapsed": true
   },
   "outputs": [],
   "source": [
    "xs = bq.LinearScale()\n",
    "ys = bq.LinearScale()\n",
    "x, y = np.random.rand(2, 20)\n",
    "scatt = bq.Scatter(x=x, y=y, scales={'x': xs, 'y': ys}, default_colors=['blue'])\n",
    "xax = bq.Axis(scale=xs, label='x', grid_lines='solid')\n",
    "yax = bq.Axis(scale=ys, orientation='vertical', tick_format='0.2f', label='y', grid_lines='solid')\n",
    "\n",
    "fig = bq.Figure(marks=[scatt], axes=[xax, yax], animation_duration=1000)\n",
    "display(fig)"
   ]
  },
  {
   "cell_type": "code",
   "execution_count": null,
   "metadata": {
    "collapsed": true
   },
   "outputs": [],
   "source": [
    "#data updates\n",
    "scatt.x = np.random.rand(20) * 10\n",
    "scatt.y = np.random.rand(20)"
   ]
  },
  {
   "cell_type": "markdown",
   "metadata": {},
   "source": [
    "## The same holds for the attributes of scales, axes"
   ]
  },
  {
   "cell_type": "code",
   "execution_count": null,
   "metadata": {
    "collapsed": true
   },
   "outputs": [],
   "source": [
    "xs.min = 4"
   ]
  },
  {
   "cell_type": "code",
   "execution_count": null,
   "metadata": {
    "collapsed": true
   },
   "outputs": [],
   "source": [
    "xs.min = None"
   ]
  },
  {
   "cell_type": "code",
   "execution_count": null,
   "metadata": {
    "collapsed": true
   },
   "outputs": [],
   "source": [
    "xax.label = 'Some label for the x axis'"
   ]
  },
  {
   "cell_type": "markdown",
   "metadata": {},
   "source": [
    "## Wiring bqplot widgets with other Jupyter widgets"
   ]
  },
  {
   "cell_type": "code",
   "execution_count": null,
   "metadata": {
    "collapsed": true
   },
   "outputs": [],
   "source": [
    "size = 100\n",
    "x_data = np.random.randn(size)\n",
    "y_data = np.cumsum(np.random.randn(size)  * 100.0)\n",
    "color_data = np.cumsum(np.random.randn(size))\n",
    "rotation_data = np.sin(x_data * 0.1)"
   ]
  },
  {
   "cell_type": "code",
   "execution_count": null,
   "metadata": {
    "collapsed": true
   },
   "outputs": [],
   "source": [
    "from bqplot import *\n",
    "\n",
    "x_sc = bq.LinearScale()\n",
    "y_sc = bq.LinearScale()\n",
    "c_sc = bq.ColorScale()\n",
    "r_sc = bq.LinearScale()\n",
    "s_sc = bq.LinearScale()\n",
    "\n",
    "ax_x = bq.Axis(label='X Axis', scale=x_sc, grid_lines='solid')\n",
    "ax_y = bq.Axis(label='Y Axis', scale=y_sc, orientation='vertical', grid_lines='solid')\n",
    "ax_c = bq.ColorAxis(label='Color Scale', scale=c_sc, orientation='horizontal')\n",
    "\n",
    "scatter = bq.Scatter(x=x_data,\n",
    "                     y=y_data,\n",
    "                     color=color_data,\n",
    "                     rotation=rotation_data,\n",
    "                     marker='arrow',\n",
    "                     animate_dur=1000,\n",
    "                     default_size=100,\n",
    "                     scales={'x': x_sc, 'y': y_sc, 'color': c_sc, 'rotation': r_sc, 'size': s_sc})\n",
    "\n",
    "fig = bq.Figure(axes=[ax_x, ax_y, ax_c], marks=[scatter])\n",
    "fig"
   ]
  },
  {
   "cell_type": "code",
   "execution_count": null,
   "metadata": {
    "collapsed": false
   },
   "outputs": [],
   "source": [
    "from ipywidgets import FloatSlider\n",
    "\n",
    "# Wiring the rotation parameter with a slider\n",
    "def handle_slider(change):\n",
    "    new = change['new']\n",
    "    scatter.rotation = np.cos(10 * new * x_data)\n",
    "    scatter.size = np.sin(10 * new * x_data)\n",
    "\n",
    "handle_slider({'new': 0.5})\n",
    "slider = FloatSlider(value=0.5, min=0, max=1.0, step=0.01, description='Adjust rotation')\n",
    "slider.observe(handle_slider, names=['value'])\n",
    "\n",
    "slider"
   ]
  },
  {
   "cell_type": "markdown",
   "metadata": {},
   "source": [
    "## Use bqplot figures as input widgets"
   ]
  },
  {
   "cell_type": "code",
   "execution_count": null,
   "metadata": {
    "collapsed": true
   },
   "outputs": [],
   "source": [
    "xs = bq.LinearScale()\n",
    "ys = bq.LinearScale()\n",
    "x = np.arange(100)\n",
    "y = np.cumsum(np.random.randn(2, 100), axis=1) #two random walks\n",
    "\n",
    "line = bq.Lines(x=x, y=y, scales={'x': xs, 'y': ys}, colors=['red', 'green'])\n",
    "xax = bq.Axis(scale=xs, label='x', grid_lines='solid')\n",
    "yax = bq.Axis(scale=ys, orientation='vertical', tick_format='0.2f', label='y', grid_lines='solid')"
   ]
  },
  {
   "cell_type": "markdown",
   "metadata": {},
   "source": [
    "## Selections"
   ]
  },
  {
   "cell_type": "code",
   "execution_count": null,
   "metadata": {
    "collapsed": false
   },
   "outputs": [],
   "source": [
    "def interval_change_callback(change):\n",
    "    db.value = str(change['new'])\n",
    "\n",
    "intsel = bq.interacts.FastIntervalSelector(scale=xs, marks=[line])\n",
    "intsel.observe(interval_change_callback, names=['selected'] )\n",
    "\n",
    "db = widgets.Label()\n",
    "db.value = str(intsel.selected)\n",
    "display(db)"
   ]
  },
  {
   "cell_type": "code",
   "execution_count": null,
   "metadata": {
    "collapsed": false
   },
   "outputs": [],
   "source": [
    "fig = bq.Figure(marks=[line], axes=[xax, yax], animation_duration=1000, interaction=intsel)\n",
    "display(fig)"
   ]
  },
  {
   "cell_type": "code",
   "execution_count": null,
   "metadata": {
    "collapsed": false
   },
   "outputs": [],
   "source": [
    "line.selected"
   ]
  },
  {
   "cell_type": "markdown",
   "metadata": {},
   "source": [
    "# Handraw"
   ]
  },
  {
   "cell_type": "code",
   "execution_count": null,
   "metadata": {
    "collapsed": false
   },
   "outputs": [],
   "source": [
    "handdraw = bq.interacts.HandDraw(lines=line)\n",
    "fig.interaction = handdraw"
   ]
  },
  {
   "cell_type": "code",
   "execution_count": null,
   "metadata": {
    "collapsed": false
   },
   "outputs": [],
   "source": [
    "line.y[0]"
   ]
  }
 ],
 "metadata": {
  "kernelspec": {
   "display_name": "Python 2",
   "language": "python",
   "name": "python2"
  },
  "language_info": {
   "codemirror_mode": {
    "name": "ipython",
    "version": 2
   },
   "file_extension": ".py",
   "mimetype": "text/x-python",
   "name": "python",
   "nbconvert_exporter": "python",
   "pygments_lexer": "ipython2",
   "version": "2.7.11"
  },
  "widgets": {
   "state": {
    "0424014d443e431399a304ab27786cad": {
     "views": []
    },
    "060a6cf003c74e0a80cc4dcde8059072": {
     "views": []
    },
    "06cb8a308bcb4acaa491a390fe9732bb": {
     "views": []
    },
    "0aeb835e39e646cb8fbe64bae2d6fd9a": {
     "views": [
      {
       "cell_index": 25
      }
     ]
    },
    "0b2075635f024ceeaa52f4c7e31f870d": {
     "views": []
    },
    "115eecc1e650436295d9977c59dd9623": {
     "views": []
    },
    "121283e4e54647ef89a95b8c62742b7d": {
     "views": []
    },
    "15707b8387bd4a01a837d0efc2b741a1": {
     "views": []
    },
    "19e2844b1a5b44d5995093f059609825": {
     "views": []
    },
    "20c23fd4897b43d689a7674ebdb75d91": {
     "views": []
    },
    "20d2637441d04228b888faf52ae03baa": {
     "views": [
      {
       "cell_index": 9
      }
     ]
    },
    "27683d6af5a944f0a3bee555b1d4e6ae": {
     "views": []
    },
    "2b3d572dffa0416c8a19d31f09e247b9": {
     "views": []
    },
    "2f537d75b7fa4095890a48f40f53485a": {
     "views": []
    },
    "323a4a17be334f2d83d592f8d16eede0": {
     "views": []
    },
    "3703eaa217c34fc5a163e22026f33c0c": {
     "views": []
    },
    "372bf3b786ac4175ad97d49ef3edffae": {
     "views": []
    },
    "383713bf02df414b9835ea59699493bc": {
     "views": []
    },
    "394424ca3e504225baeaba1554c381e7": {
     "views": [
      {
       "cell_index": 26
      }
     ]
    },
    "438c4626ad2940d8835f15b5f0eaec65": {
     "views": []
    },
    "45460a7832254868a81b887b8463ed75": {
     "views": []
    },
    "4b6a8ff997074965a4ca1aae9e7ebdde": {
     "views": []
    },
    "4c432bdb0cb8421e8644e545fdf23af7": {
     "views": []
    },
    "4c8236c268154d04a3ca2cdbd6a4ccd5": {
     "views": []
    },
    "4cb20f86756941f09aa69db15f10c239": {
     "views": []
    },
    "4e9b6ec1b8c24e68a59e2d1338892f51": {
     "views": []
    },
    "4fd490851c82481f9550774007a51c4c": {
     "views": []
    },
    "53bc594d50f649658e30a58b1a5b2139": {
     "views": []
    },
    "53fc49dec2ae435f97722e61d1f6309e": {
     "views": []
    },
    "58275ecb41e646dbaa32284fac87f516": {
     "views": []
    },
    "58870dc7bd8f425781c19ae59dedd353": {
     "views": []
    },
    "5e283806c41e470a990e78d22ba2a9e7": {
     "views": []
    },
    "615956bad925416a9f6ae6207896fffa": {
     "views": []
    },
    "6339b5c238564ef1b49e4061cd88f698": {
     "views": []
    },
    "6816b28b6cfd4837b49352927a224e88": {
     "views": []
    },
    "68187db3f7314ec6a774551651524823": {
     "views": [
      {
       "cell_index": 13
      }
     ]
    },
    "6c03dafbb6cc48969b7aecd74450683b": {
     "views": []
    },
    "6faa401f1b2746658ab54cbe662e45ac": {
     "views": []
    },
    "70f7efbe3f94453e868388ac81e0013b": {
     "views": []
    },
    "72d7e079aa9441f0ba186d772daf5ef3": {
     "views": []
    },
    "7522dc012f0740df9a93d293977c6469": {
     "views": []
    },
    "75334d7f4f254b35be636427bf70d0c2": {
     "views": []
    },
    "76464c0dab8d449ab543eb1dd137be76": {
     "views": []
    },
    "78bdf76097ea4e49b19ab0d826f55f42": {
     "views": []
    },
    "793c58055dd74847ac6c6a513f8cfaa1": {
     "views": []
    },
    "7a57e5e93fba472190b6f51407ff2084": {
     "views": []
    },
    "7bb3a75ddc5842c5bcc559cc91aa1560": {
     "views": [
      {
       "cell_index": 17
      }
     ]
    },
    "7c099b84d80e4fc39f945813f06864d9": {
     "views": []
    },
    "7cdd24fc9fd0440da1ec897339f1e535": {
     "views": [
      {
       "cell_index": 15
      }
     ]
    },
    "7e551fdc0c5644118c49b3a1d8c1f316": {
     "views": []
    },
    "7fd073ee7ff04b31a07f2fc448ddb9c7": {
     "views": []
    },
    "837fa766534648c4893b41c96a6e96dc": {
     "views": []
    },
    "83abc61bd21944d989592b87544accb0": {
     "views": []
    },
    "84311e1e9f4c4475b4e2ec37a6bd06bc": {
     "views": []
    },
    "872a226b85ef4c0e8c9bb85eda1ead3d": {
     "views": []
    },
    "8bbde8bda26b41a38a071b671049f9cf": {
     "views": []
    },
    "8f05a0155f8040e8bbe7eda6f55e384e": {
     "views": []
    },
    "8f2d5a10ac464ceab8a597e162d8088f": {
     "views": []
    },
    "90a3cbbd70644995be1b95f01466224c": {
     "views": []
    },
    "952d42ded4dd4949a7dba32df1f23fdd": {
     "views": []
    },
    "96a25c79ef674373950a91eef5e049ae": {
     "views": [
      {
       "cell_index": 7
      }
     ]
    },
    "9ca89a4bdf0b445698ed5700a85b92f9": {
     "views": []
    },
    "9d25cf5c74e74b4b93d10fe69ab98a37": {
     "views": []
    },
    "9f6e85ffea4b4119950bf7e26c867daf": {
     "views": []
    },
    "a09012b31f444373b1a38297e4e6df4d": {
     "views": []
    },
    "a214e6598e534c218334f516e77adbe8": {
     "views": []
    },
    "acabf515ea9c4b4596b36a47a689feb3": {
     "views": []
    },
    "b52c907d5ab441fdadcfe41b135dfaed": {
     "views": []
    },
    "b9004ee3905a42b6902f775aef66dda3": {
     "views": []
    },
    "bb2d18099ca24b4da9b0ce333e1b2549": {
     "views": []
    },
    "be033800206943bf8237783e6e7d276b": {
     "views": []
    },
    "be3d224d59a34ff19a2c4dd3fe8a0a2b": {
     "views": []
    },
    "c8a06251559e4a7ea7c5babd454bc86e": {
     "views": []
    },
    "d4c8b1d09b394bdd91450cc40357b5ba": {
     "views": []
    },
    "e39e854e50bb463698097e552aa5c1d9": {
     "views": []
    },
    "e5758358e9174dff849c4faa9e6c902f": {
     "views": []
    },
    "ec1871f3fbc7415ab6ad2effeaba6945": {
     "views": []
    },
    "ec2eff31445c490994c360d0a1926879": {
     "views": []
    },
    "f1276e6329c544a18cdcce7b4311e777": {
     "views": [
      {
       "cell_index": 5
      }
     ]
    },
    "f16949fa27814f9989b0de8616a5434f": {
     "views": []
    },
    "f18b7042c12f45e786ae42215c92a30c": {
     "views": []
    },
    "f1e0456b8b7244ff8112d07d179e9133": {
     "views": []
    },
    "f891d65d60d54dd69a073d30fbf52137": {
     "views": []
    },
    "fa2761a0062c427f8f67b5a5ebfce046": {
     "views": []
    },
    "fe01298b389e46d083d604598a7e0438": {
     "views": []
    },
    "ffc7869daeb24c41a3bd0211156a1518": {
     "views": []
    }
   },
   "version": "1.1.2"
  }
 },
 "nbformat": 4,
 "nbformat_minor": 1
}
