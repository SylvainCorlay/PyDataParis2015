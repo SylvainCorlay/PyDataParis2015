{
 "cells": [
  {
   "cell_type": "markdown",
   "metadata": {},
   "source": [
    "# ipyleaflet https://github.com/ellisonbg/ipyleaflet\n",
    "\n",
    "## A Jupyter - leaflet bridge\n",
    "\n",
    "ipyleaflet is a BSD-licensed jupyter interactive widget bringing Leaflet maps to the Jupyter notebook.\n",
    "\n",
    "- Originally authored by Brian Granger\n",
    "- MIT Licensed"
   ]
  },
  {
   "cell_type": "code",
   "execution_count": 1,
   "metadata": {
    "collapsed": false
   },
   "outputs": [],
   "source": [
    "from ipyleaflet import (\n",
    "    Map,\n",
    "    Polyline, Polygon, Rectangle, Circle, CircleMarker,\n",
    "    GeoJSON\n",
    ")\n",
    "\n",
    "from ipywidgets import IntSlider, jslink"
   ]
  },
  {
   "cell_type": "code",
   "execution_count": 2,
   "metadata": {
    "collapsed": false
   },
   "outputs": [],
   "source": [
    "center = [34.6252978589571, -77.34580993652344]\n",
    "zoom = 10"
   ]
  },
  {
   "cell_type": "code",
   "execution_count": 3,
   "metadata": {
    "collapsed": false
   },
   "outputs": [],
   "source": [
    "m = Map(center=center, zoom=zoom)\n",
    "m"
   ]
  },
  {
   "cell_type": "code",
   "execution_count": null,
   "metadata": {
    "collapsed": false
   },
   "outputs": [],
   "source": [
    "import matplotlib as mpl\n",
    "import matplotlib.cm\n",
    "import matplotlib.colors\n",
    "import numpy as np\n",
    "\n",
    "def n_colors(n, colormap=mpl.cm.Blues):\n",
    "    data = np.linspace(0.0,1.0,n)\n",
    "    c = [mpl.colors.rgb2hex(d[0:3]) for d in colormap(data)]\n",
    "    return c\n",
    "\n",
    "def data_to_colors(data, colormap=mpl.cm.Blues):\n",
    "    c = [mpl.colors.rgb2hex(d[0:3]) for d in colormap(mpl.colors.Normalize()(data))]\n",
    "    return c"
   ]
  },
  {
   "cell_type": "code",
   "execution_count": 5,
   "metadata": {
    "collapsed": false
   },
   "outputs": [],
   "source": [
    "import json\n",
    "with open('demo.json') as f:\n",
    "    data = json.load(f)"
   ]
  },
  {
   "cell_type": "code",
   "execution_count": 6,
   "metadata": {
    "collapsed": false
   },
   "outputs": [
    {
     "name": "stdout",
     "output_type": "stream",
     "text": [
      "20\n"
     ]
    }
   ],
   "source": [
    "n_features = len(data['features'])\n",
    "colors = n_colors(n_features)\n",
    "print n_features"
   ]
  },
  {
   "cell_type": "code",
   "execution_count": 7,
   "metadata": {
    "collapsed": false
   },
   "outputs": [
    {
     "data": {
      "text/plain": [
       "[u'#f7fbff',\n",
       " u'#edf4fc',\n",
       " u'#e3eef8',\n",
       " u'#d8e7f5',\n",
       " u'#cee0f2',\n",
       " u'#c2d9ee',\n",
       " u'#b2d2e8',\n",
       " u'#a0cbe2',\n",
       " u'#8cc0dd',\n",
       " u'#75b4d8',\n",
       " u'#63a8d3',\n",
       " u'#519ccc',\n",
       " u'#4090c5',\n",
       " u'#3282be',\n",
       " u'#2474b7',\n",
       " u'#1966ad',\n",
       " u'#0e59a2',\n",
       " u'#084b93',\n",
       " u'#083d7f',\n",
       " u'#08306b']"
      ]
     },
     "execution_count": 7,
     "metadata": {},
     "output_type": "execute_result"
    }
   ],
   "source": [
    "colors"
   ]
  },
  {
   "cell_type": "code",
   "execution_count": 8,
   "metadata": {
    "collapsed": false
   },
   "outputs": [],
   "source": [
    "for feature, color in zip(data['features'], colors):\n",
    "    feature['properties']['style'] = {'color':color, 'weight': 1, 'fillColor':color, 'fillOpacity':0.5}"
   ]
  },
  {
   "cell_type": "code",
   "execution_count": 9,
   "metadata": {
    "collapsed": false
   },
   "outputs": [
    {
     "data": {
      "text/plain": [
       "{u'geometry': {u'coordinates': [[[[-77.39940577291571, 34.5780540544853],\n",
       "     [-77.39940610066606, 34.57805427015046],\n",
       "     [-77.39940640189788, 34.57805446836596],\n",
       "     [-77.39940680648922, 34.57805473459376],\n",
       "     [-77.39940687019617, 34.57805477651398],\n",
       "     [-77.39940689381065, 34.57805472199389],\n",
       "     [-77.3994073308358, 34.57805432604519],\n",
       "     [-77.39940731720131, 34.578054179242265],\n",
       "     [-77.39940728534575, 34.578053836252096],\n",
       "     [-77.39940728147378, 34.57805380828763],\n",
       "     [-77.39940726378504, 34.57805363205166],\n",
       "     [-77.39940725501071, 34.57805361742678],\n",
       "     [-77.39940719593868, 34.57805349818902],\n",
       "     [-77.39940711258689, 34.57805350039165],\n",
       "     [-77.39940706262787, 34.57805349996589],\n",
       "     [-77.3994070238417, 34.578053501157314],\n",
       "     [-77.39940689549977, 34.57805350509971],\n",
       "     [-77.3994068702403, 34.5780535173504],\n",
       "     [-77.39940683257294, 34.57805352755014],\n",
       "     [-77.39940665584797, 34.57805351246129],\n",
       "     [-77.39940650171212, 34.578053517196004],\n",
       "     [-77.39940646539253, 34.578053518311656],\n",
       "     [-77.39940610067742, 34.578053945657025]]]],\n",
       "  u'type': u'MultiPolygon'},\n",
       " u'id': u'demo0',\n",
       " u'properties': {'style': {'color': u'#f7fbff',\n",
       "   'fillColor': u'#f7fbff',\n",
       "   'fillOpacity': 0.5,\n",
       "   'weight': 1}},\n",
       " u'type': u'Feature'}"
      ]
     },
     "execution_count": 9,
     "metadata": {},
     "output_type": "execute_result"
    }
   ],
   "source": [
    "data['features'][0]"
   ]
  },
  {
   "cell_type": "code",
   "execution_count": 10,
   "metadata": {
    "collapsed": false
   },
   "outputs": [],
   "source": [
    "g = GeoJSON(data=data)"
   ]
  },
  {
   "cell_type": "code",
   "execution_count": 11,
   "metadata": {
    "collapsed": false
   },
   "outputs": [],
   "source": [
    "m.add_layer(g)"
   ]
  },
  {
   "cell_type": "code",
   "execution_count": 12,
   "metadata": {
    "collapsed": true
   },
   "outputs": [],
   "source": [
    "zoom_slider = IntSlider(description='Zoom', min=2, max=15, value=10)\n",
    "jslink((zoom_slider, 'value'), (m, 'zoom'))\n",
    "zoom_slider"
   ]
  },
  {
   "cell_type": "code",
   "execution_count": 13,
   "metadata": {
    "collapsed": true
   },
   "outputs": [],
   "source": [
    "m"
   ]
  },
  {
   "cell_type": "code",
   "execution_count": 14,
   "metadata": {
    "collapsed": false
   },
   "outputs": [],
   "source": [
    "m.remove_layer(g)"
   ]
  },
  {
   "cell_type": "code",
   "execution_count": 15,
   "metadata": {
    "collapsed": false
   },
   "outputs": [],
   "source": [
    "g.close()"
   ]
  },
  {
   "cell_type": "markdown",
   "metadata": {
    "collapsed": true
   },
   "source": [
    "# Embedding interactive widgets"
   ]
  },
  {
   "cell_type": "code",
   "execution_count": null,
   "metadata": {
    "collapsed": true
   },
   "outputs": [],
   "source": []
  }
 ],
 "metadata": {
  "kernelspec": {
   "display_name": "Python 2",
   "language": "python",
   "name": "python2"
  },
  "language_info": {
   "codemirror_mode": {
    "name": "ipython",
    "version": 2
   },
   "file_extension": ".py",
   "mimetype": "text/x-python",
   "name": "python",
   "nbconvert_exporter": "python",
   "pygments_lexer": "ipython2",
   "version": "2.7.11"
  },
  "widgets": {
   "state": {
    "2931ee10752949bcafe83d80485bdf55": {
     "views": []
    },
    "2b4b8c9d4eaf401ab07b915a4bc6294f": {
     "views": [
      {
       "cell": {
        "cell_type": "code",
        "execution_count": 3,
        "metadata": {
         "collapsed": false,
         "trusted": true
        },
        "outputs": [],
        "source": "m = Map(center=center, zoom=zoom)\nm"
       },
       "cell_index": 3,
       "root": true
      }
     ]
    },
    "3b1264f4448b45cc9e86875a1fe0f822": {
     "views": []
    }
   },
   "version": "1.0.0"
  }
 },
 "nbformat": 4,
 "nbformat_minor": 1
}
